{
  "nbformat": 4,
  "nbformat_minor": 0,
  "metadata": {
    "colab": {
      "name": "week-1-gradient-checking.ipynb",
      "provenance": [],
      "toc_visible": true,
      "include_colab_link": true
    },
    "kernelspec": {
      "name": "python3",
      "display_name": "Python 3"
    }
  },
  "cells": [
    {
      "cell_type": "markdown",
      "metadata": {
        "id": "view-in-github",
        "colab_type": "text"
      },
      "source": [
        "<a href=\"https://colab.research.google.com/github/rahiakela/coursera-deep-learning-specialization/blob/course-2-improving-deep-neural-networks/week_1_gradient_checking.ipynb\" target=\"_parent\"><img src=\"https://colab.research.google.com/assets/colab-badge.svg\" alt=\"Open In Colab\"/></a>"
      ]
    },
    {
      "cell_type": "markdown",
      "metadata": {
        "id": "ZOT_XD9jc05L",
        "colab_type": "text"
      },
      "source": [
        "# Gradient Checking"
      ]
    },
    {
      "cell_type": "markdown",
      "metadata": {
        "id": "exlYIXC6c1cc",
        "colab_type": "text"
      },
      "source": [
        "Welcome to this week's third programming assignment! You will be implementing gradient checking to make sure that your backpropagation implementation is correct. By completing this assignment you will:\n",
        "\n",
        "- Implement gradient checking from scratch.\n",
        "\n",
        "- Understand how to use the difference formula to check your backpropagation implementation.\n",
        "\n",
        "- Recognize that your backpropagation algorithm should give you similar results as the ones you got by computing the difference formula.\n",
        "\n",
        "- Learn how to identify which parameter's gradient was computed incorrectly.\n",
        "\n",
        "Take your time to complete this assignment, and make sure you get the expected outputs when working through the different exercises.\n",
        "\n",
        "This is the final assignment for this week! In this assignment you will learn to implement and use gradient checking. \n",
        "\n",
        "You are part of a team working to make mobile payments available globally, and are asked to build a deep learning model to detect fraud--whenever someone makes a payment, you want to see if the payment might be fraudulent, such as if the user's account has been taken over by a hacker. \n",
        "\n",
        "But backpropagation is quite challenging to implement, and sometimes has bugs. Because this is a mission-critical application, your company's CEO wants to be really certain that your implementation of backpropagation is correct. Your CEO says, \"Give me a proof that your backpropagation is actually working!\" To give this reassurance, you are going to use \"gradient checking\".\n",
        "\n",
        "Let's do it!"
      ]
    },
    {
      "cell_type": "code",
      "metadata": {
        "id": "1476b6bKdNpS",
        "colab_type": "code",
        "colab": {}
      },
      "source": [
        "# Packages\n",
        "import numpy as np\n",
        "from testCases import *\n",
        "from gc_utils import sigmoid, relu, dictionary_to_vector, vector_to_dictionary, gradients_to_vector"
      ],
      "execution_count": 0,
      "outputs": []
    },
    {
      "cell_type": "markdown",
      "metadata": {
        "id": "xwzJxe66mR83",
        "colab_type": "text"
      },
      "source": [
        "## 1) How does gradient checking work?"
      ]
    },
    {
      "cell_type": "markdown",
      "metadata": {
        "id": "l_xMRpuhmSma",
        "colab_type": "text"
      },
      "source": [
        "Backpropagation computes the gradients $\\frac{\\partial J}{\\partial \\theta}$, where $\\theta$ denotes the parameters of the model. $J$ is computed using forward propagation and your loss function.\n",
        "\n",
        "Because forward propagation is relatively easy to implement, you're confident you got that right, and so you're almost  100% sure that you're computing the cost $J$ correctly. Thus, you can use your code for computing $J$ to verify the code for computing $\\frac{\\partial J}{\\partial \\theta}$. \n",
        "\n",
        "Let's look back at the definition of a derivative (or gradient):\n",
        "$$ \\frac{\\partial J}{\\partial \\theta} = \\lim_{\\varepsilon \\to 0} \\frac{J(\\theta + \\varepsilon) - J(\\theta - \\varepsilon)}{2 \\varepsilon} \\tag{1}$$\n",
        "\n",
        "If you're not familiar with the \"$\\displaystyle \\lim_{\\varepsilon \\to 0}$\" notation, it's just a way of saying \"when $\\varepsilon$ is really really small.\"\n",
        "\n",
        "We know the following:\n",
        "\n",
        "- $\\frac{\\partial J}{\\partial \\theta}$ is what you want to make sure you're computing correctly. \n",
        "- You can compute $J(\\theta + \\varepsilon)$ and $J(\\theta - \\varepsilon)$ (in the case that $\\theta$ is a real number), since you're confident your implementation for $J$ is correct. \n",
        "\n",
        "Lets use equation (1) and a small value for $\\varepsilon$ to convince your CEO that your code for computing  $\\frac{\\partial J}{\\partial \\theta}$ is correct!\n",
        "\n",
        "<img src='https://github.com/rahiakela/img-repo/blob/master/deep-learning-specialization/gradient-checking-derivative-computation.png?raw=1' width='800'/>"
      ]
    },
    {
      "cell_type": "markdown",
      "metadata": {
        "id": "MdrOghrVmemo",
        "colab_type": "text"
      },
      "source": [
        "## 2) 1-dimensional gradient checking"
      ]
    },
    {
      "cell_type": "markdown",
      "metadata": {
        "id": "8ieAJcjVmfJu",
        "colab_type": "text"
      },
      "source": [
        "Consider a 1D linear function $J(\\theta) = \\theta x$. The model contains only a single real-valued parameter $\\theta$, and takes $x$ as input.\n",
        "\n",
        "You will implement code to compute $J(.)$ and its derivative $\\frac{\\partial J}{\\partial \\theta}$. You will then use gradient checking to make sure your derivative computation for $J$ is correct. \n",
        "\n",
        "<img src='https://github.com/rahiakela/img-repo/blob/master/deep-learning-specialization/1Dgrad_kiank.png?raw=1' width='800'/>\n",
        "<caption><center> <u> **Figure 1** </u>: **1D linear model**<br> </center></caption>\n",
        "\n",
        "The diagram above shows the key computation steps: First start with $x$, then evaluate the function $J(x)$ (\"forward propagation\"). Then compute the derivative $\\frac{\\partial J}{\\partial \\theta}$ (\"backward propagation\"). \n",
        "\n",
        "**Exercise**: implement \"forward propagation\" and \"backward propagation\" for this simple function. I.e., compute both $J(.)$ (\"forward propagation\") and its derivative with respect to $\\theta$ (\"backward propagation\"), in two separate functions."
      ]
    },
    {
      "cell_type": "code",
      "metadata": {
        "id": "g-QVewuMe7eh",
        "colab_type": "code",
        "colab": {}
      },
      "source": [
        "# FUNCTION: forward_propagation\n",
        "def forward_propagation(x, theta):\n",
        "  '''\n",
        "  Implement the linear forward propagation (compute J) presented in Figure 1 (J(theta) = theta * x)\n",
        "    \n",
        "  Arguments:\n",
        "  x -- a real-valued input\n",
        "  theta -- our parameter, a real number as well\n",
        "  \n",
        "  Returns:\n",
        "  J -- the value of function J, computed using the formula J(theta) = theta * x\n",
        "  '''\n",
        "\n",
        "  ### START CODE HERE ### (approx. 1 line)\n",
        "  J = np.dot(theta, x)\n",
        "  ### END CODE HERE ###\n",
        "\n",
        "  return J"
      ],
      "execution_count": 0,
      "outputs": []
    },
    {
      "cell_type": "code",
      "metadata": {
        "id": "vnts5gPs5JpK",
        "colab_type": "code",
        "colab": {
          "base_uri": "https://localhost:8080/",
          "height": 35
        },
        "outputId": "ba5ebc88-519a-433a-f5a7-44fce3056bb4"
      },
      "source": [
        "x, theta = 2, 4\n",
        "J = forward_propagation(x, theta)\n",
        "print(f'J = {str(J)}')"
      ],
      "execution_count": 33,
      "outputs": [
        {
          "output_type": "stream",
          "text": [
            "J = 8\n"
          ],
          "name": "stdout"
        }
      ]
    },
    {
      "cell_type": "markdown",
      "metadata": {
        "id": "6nDbjOms5cKT",
        "colab_type": "text"
      },
      "source": [
        "**Expected Output**:\n",
        "\n",
        "<table style=>\n",
        "    <tr>\n",
        "        <td>  ** J **  </td>\n",
        "        <td> 8</td>\n",
        "    </tr>\n",
        "</table>"
      ]
    },
    {
      "cell_type": "markdown",
      "metadata": {
        "id": "YX_DMyR-5dSc",
        "colab_type": "text"
      },
      "source": [
        "**Exercise**: Now, implement the backward propagation step (derivative computation) of Figure 1. That is, compute the derivative of $J(\\theta) = \\theta x$ with respect to $\\theta$. To save you from doing the calculus, you should get $dtheta = \\frac { \\partial J }{ \\partial \\theta} = x$."
      ]
    },
    {
      "cell_type": "code",
      "metadata": {
        "id": "BGEYXw5u5XFm",
        "colab_type": "code",
        "colab": {}
      },
      "source": [
        "# FUNCTION: backward_propagation\n",
        "def backward_propagation(x, theta):\n",
        "  '''\n",
        "  Computes the derivative of J with respect to theta (see Figure 1).\n",
        "    \n",
        "  Arguments:\n",
        "  x -- a real-valued input\n",
        "  theta -- our parameter, a real number as well\n",
        "  \n",
        "  Returns:\n",
        "  dtheta -- the gradient of the cost with respect to theta\n",
        "  '''\n",
        "\n",
        "  ### START CODE HERE ### (approx. 1 line)\n",
        "  dtheta = np.dot(theta, x) / theta\n",
        "  ### END CODE HERE ###\n",
        "\n",
        "  return dtheta"
      ],
      "execution_count": 0,
      "outputs": []
    },
    {
      "cell_type": "code",
      "metadata": {
        "id": "uRdxNmKl6bEA",
        "colab_type": "code",
        "colab": {
          "base_uri": "https://localhost:8080/",
          "height": 35
        },
        "outputId": "d488ced6-aa8b-444f-db82-840df91e8164"
      },
      "source": [
        "x, theta = 2, 4\n",
        "dtheta = backward_propagation(x, theta)\n",
        "print(f'dtheta = {str(dtheta)}')"
      ],
      "execution_count": 47,
      "outputs": [
        {
          "output_type": "stream",
          "text": [
            "dtheta = 2.0\n"
          ],
          "name": "stdout"
        }
      ]
    },
    {
      "cell_type": "markdown",
      "metadata": {
        "id": "19YGjGQH7Eoc",
        "colab_type": "text"
      },
      "source": [
        "**Expected Output**:\n",
        "\n",
        "<table>\n",
        "    <tr>\n",
        "        <td>  ** dtheta **  </td>\n",
        "        <td> 2 </td>\n",
        "    </tr>\n",
        "</table>"
      ]
    },
    {
      "cell_type": "markdown",
      "metadata": {
        "id": "HyTo9P4z7Fd4",
        "colab_type": "text"
      },
      "source": [
        "**Exercise**: To show that the `backward_propagation()` function is correctly computing the gradient $\\frac{\\partial J}{\\partial \\theta}$, let's implement gradient checking.\n",
        "\n",
        "**Instructions**:\n",
        "- First compute \"gradapprox\" using the formula above (1) and a small value of $\\varepsilon$. Here are the Steps to follow:\n",
        "    1. $\\theta^{+} = \\theta + \\varepsilon$\n",
        "    2. $\\theta^{-} = \\theta - \\varepsilon$\n",
        "    3. $J^{+} = J(\\theta^{+})$\n",
        "    4. $J^{-} = J(\\theta^{-})$\n",
        "    5. $gradapprox = \\frac{J^{+} - J^{-}}{2  \\varepsilon}$\n",
        "- Then compute the gradient using backward propagation, and store the result in a variable \"grad\"\n",
        "- Finally, compute the relative difference between \"gradapprox\" and the \"grad\" using the following formula:\n",
        "$$ difference = \\frac {\\mid\\mid grad - gradapprox \\mid\\mid_2}{\\mid\\mid grad \\mid\\mid_2 + \\mid\\mid gradapprox \\mid\\mid_2} \\tag{2}$$\n",
        "You will need 3 Steps to compute this formula:\n",
        "   - 1'. compute the numerator using np.linalg.norm(...)\n",
        "   - 2'. compute the denominator. You will need to call np.linalg.norm(...) twice.\n",
        "   - 3'. divide them.\n",
        "- If this difference is small (say less than $10^{-7}$), you can be quite confident that you have computed your gradient correctly. Otherwise, there may be a mistake in the gradient computation. \n"
      ]
    },
    {
      "cell_type": "code",
      "metadata": {
        "id": "E6XTQvk16nH7",
        "colab_type": "code",
        "colab": {}
      },
      "source": [
        "# FUNCTION: gradient_check\n",
        "def gradient_check(x, theta, epsilon=1e-7):\n",
        "  '''\n",
        "  Implement the backward propagation presented in Figure 1.\n",
        "    \n",
        "  Arguments:\n",
        "  x -- a real-valued input\n",
        "  theta -- our parameter, a real number as well\n",
        "  epsilon -- tiny shift to the input to compute approximated gradient with formula(1)\n",
        "  \n",
        "  Returns:\n",
        "  difference -- difference (2) between the approximated gradient and the backward propagation gradient\n",
        "  '''\n",
        "\n",
        "  # Compute gradapprox using left side of formula (1). epsilon is small enough, you don't need to worry about the limit.\n",
        "  ### START CODE HERE ### (approx. 5 lines)\n",
        "  thetaplus = theta + epsilon                              # Step 1\n",
        "  thetaminus = theta - epsilon                             # Step 2\n",
        "  J_plus =np.dot(x, thetaplus)                             # Step 3\n",
        "  J_minus = np.dot(x, thetaminus)                          # Step 4\n",
        "  gradapprox = (J_plus - J_minus) / (2 * epsilon)          # Step 5\n",
        "  ### END CODE HERE ###\n",
        "\n",
        "  # Check if gradapprox is close enough to the output of backward_propagation()\n",
        "  ### START CODE HERE ### (approx. 1 line)\n",
        "  grad = backward_propagation(x, theta)\n",
        "  ### END CODE HERE ###\n",
        "\n",
        "  ### START CODE HERE ### (approx. 1 line)\n",
        "  numerator = np.linalg.norm(grad - gradapprox)                       # Step 1'\n",
        "  denominator = np.linalg.norm(grad) + np.linalg.norm(gradapprox)     # Step 2'\n",
        "  difference = numerator / denominator                                # Step 3'\n",
        "  ### END CODE HERE ###\n",
        "\n",
        "  if difference < 1e-7:\n",
        "    print('The gradient is correct!')\n",
        "  else:\n",
        "    print('The gradient is wrong!')\n",
        "\n",
        "  return difference"
      ],
      "execution_count": 0,
      "outputs": []
    },
    {
      "cell_type": "code",
      "metadata": {
        "id": "ajzLG3kCAEYZ",
        "colab_type": "code",
        "colab": {
          "base_uri": "https://localhost:8080/",
          "height": 52
        },
        "outputId": "45a1d726-e1a0-4151-d76a-ce449aa8b91d"
      },
      "source": [
        "x, theta = 2, 4\n",
        "difference = gradient_check(x, theta)\n",
        "print(f'difference = {str(difference)}')"
      ],
      "execution_count": 49,
      "outputs": [
        {
          "output_type": "stream",
          "text": [
            "The gradient is correct!\n",
            "difference = 2.919335883291695e-10\n"
          ],
          "name": "stdout"
        }
      ]
    },
    {
      "cell_type": "markdown",
      "metadata": {
        "id": "DnbTqfMHFqqh",
        "colab_type": "text"
      },
      "source": [
        "**Expected Output**:\n",
        "The gradient is correct!\n",
        "<table>\n",
        "    <tr>\n",
        "        <td>  ** difference **  </td>\n",
        "        <td> 2.9193358103083e-10 </td>\n",
        "    </tr>\n",
        "</table>"
      ]
    },
    {
      "cell_type": "markdown",
      "metadata": {
        "id": "5cjMLFRFFrUs",
        "colab_type": "text"
      },
      "source": [
        "Congrats, the difference is smaller than the $10^{-7}$ threshold. So you can have high confidence that you've correctly computed the gradient in `backward_propagation()`. \n",
        "\n",
        "Now, in the more general case, your cost function $J$ has more than a single 1D input. When you are training a neural network, $\\theta$ actually consists of multiple matrices $W^{[l]}$ and biases $b^{[l]}$! It is important to know how to do a gradient check with higher-dimensional inputs. Let's do it!"
      ]
    },
    {
      "cell_type": "markdown",
      "metadata": {
        "id": "QDIg2yRiFwft",
        "colab_type": "text"
      },
      "source": [
        "## 3) N-dimensional gradient checking"
      ]
    },
    {
      "cell_type": "markdown",
      "metadata": {
        "id": "MLqJnU1kFxJ-",
        "colab_type": "text"
      },
      "source": [
        "The following figure describes the forward and backward propagation of your fraud detection model.\n",
        "\n",
        "<img src='https://github.com/rahiakela/img-repo/blob/master/deep-learning-specialization/NDgrad_kiank.png?raw=1' width='800'/>\n",
        "<caption><center> <u> **Figure 2** </u>: **deep neural network**<br>*LINEAR -> RELU -> LINEAR -> RELU -> LINEAR -> SIGMOID*</center></caption>\n",
        "\n",
        "Let's look at your implementations for forward propagation and backward propagation. "
      ]
    },
    {
      "cell_type": "code",
      "metadata": {
        "id": "BYLHpU0PAQop",
        "colab_type": "code",
        "colab": {}
      },
      "source": [
        ""
      ],
      "execution_count": 0,
      "outputs": []
    }
  ]
}