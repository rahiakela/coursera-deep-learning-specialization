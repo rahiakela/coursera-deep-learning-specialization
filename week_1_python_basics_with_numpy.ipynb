{
  "nbformat": 4,
  "nbformat_minor": 0,
  "metadata": {
    "colab": {
      "name": "week-1--python-basics-with-numpy.ipynb",
      "provenance": [],
      "toc_visible": true,
      "include_colab_link": true
    },
    "kernelspec": {
      "name": "python3",
      "display_name": "Python 3"
    }
  },
  "cells": [
    {
      "cell_type": "markdown",
      "metadata": {
        "id": "view-in-github",
        "colab_type": "text"
      },
      "source": [
        "<a href=\"https://colab.research.google.com/github/rahiakela/coursera-deep-learning-specialization/blob/course-1-neural-networks-and-deep-learning/week_1_python_basics_with_numpy.ipynb\" target=\"_parent\"><img src=\"https://colab.research.google.com/assets/colab-badge.svg\" alt=\"Open In Colab\"/></a>"
      ]
    },
    {
      "cell_type": "markdown",
      "metadata": {
        "id": "YhDvUBxhBz1R",
        "colab_type": "text"
      },
      "source": [
        "# Python Basics with Numpy"
      ]
    },
    {
      "cell_type": "markdown",
      "metadata": {
        "id": "ugzK8eztB03c",
        "colab_type": "text"
      },
      "source": [
        "Welcome to your first assignment. This exercise gives you a brief introduction to Python. Even if you've used Python before, this will help familiarize you with functions we'll need.  \n",
        "\n",
        "**Instructions:**\n",
        "- You will be using Python 3.\n",
        "- Avoid using for-loops and while-loops, unless you are explicitly told to do so.\n",
        "- Do not modify the (# GRADED FUNCTION [function name]) comment in some cells. Your work would not be graded if you change this. Each cell containing that comment should only contain one function.\n",
        "- After coding your function, run the cell right below it to check if your result is correct.\n",
        "\n",
        "**After this assignment you will:**\n",
        "- Be able to use iPython Notebooks\n",
        "- Be able to use numpy functions and numpy matrix/vector operations\n",
        "- Understand the concept of \"broadcasting\"\n",
        "- Be able to vectorize code\n",
        "\n",
        "Let's get started!"
      ]
    },
    {
      "cell_type": "markdown",
      "metadata": {
        "id": "maAeknq3Cai3",
        "colab_type": "text"
      },
      "source": [
        "## About iPython Notebooks ##\n",
        "\n",
        "iPython Notebooks are interactive coding environments embedded in a webpage. You will be using iPython notebooks in this class. You only need to write code between the ### START CODE HERE ### and ### END CODE HERE ### comments. After writing your code, you can run the cell by either pressing \"SHIFT\"+\"ENTER\" or by clicking on \"Run Cell\" (denoted by a play symbol) in the upper bar of the notebook. \n",
        "\n",
        "We will often specify \"(≈ X lines of code)\" in the comments to tell you about how much code you need to write. It is just a rough estimate, so don't feel bad if your code is longer or shorter.\n",
        "\n",
        "**Exercise**: Set test to `\"Hello World\"` in the cell below to print \"Hello World\" and run the two cells below."
      ]
    },
    {
      "cell_type": "code",
      "metadata": {
        "id": "R_yaqI6uCcJj",
        "colab_type": "code",
        "colab": {
          "base_uri": "https://localhost:8080/",
          "height": 35
        },
        "outputId": "6335ecb1-02ff-401b-d4c9-dcf8c3d80f8f"
      },
      "source": [
        "### START CODE HERE ### (≈ 1 line of code)\n",
        "test = 'Hello World'\n",
        "test\n",
        "### END CODE HERE ###"
      ],
      "execution_count": 1,
      "outputs": [
        {
          "output_type": "execute_result",
          "data": {
            "text/plain": [
              "'Hello World'"
            ]
          },
          "metadata": {
            "tags": []
          },
          "execution_count": 1
        }
      ]
    },
    {
      "cell_type": "code",
      "metadata": {
        "id": "rUx6nij5CmSG",
        "colab_type": "code",
        "colab": {
          "base_uri": "https://localhost:8080/",
          "height": 35
        },
        "outputId": "05182da2-2f12-4818-b185-6becf76852e3"
      },
      "source": [
        "print(f'test: {test}')"
      ],
      "execution_count": 2,
      "outputs": [
        {
          "output_type": "stream",
          "text": [
            "test: Hello World\n"
          ],
          "name": "stdout"
        }
      ]
    },
    {
      "cell_type": "markdown",
      "metadata": {
        "id": "HG8HiHPyCyfB",
        "colab_type": "text"
      },
      "source": [
        "## 1 - Building basic functions with numpy ##\n",
        "\n",
        "Numpy is the main package for scientific computing in Python. It is maintained by a large community (www.numpy.org). In this exercise you will learn several key numpy functions such as np.exp, np.log, and np.reshape. You will need to know how to use these functions for future assignments."
      ]
    },
    {
      "cell_type": "markdown",
      "metadata": {
        "id": "NIe3aGnnHC_H",
        "colab_type": "text"
      },
      "source": [
        "### 1.1 - sigmoid function, np.exp() ###"
      ]
    },
    {
      "cell_type": "markdown",
      "metadata": {
        "id": "vJnucMv7HUE7",
        "colab_type": "text"
      },
      "source": [
        "Before using np.exp(), you will use math.exp() to implement the sigmoid function. You will then see why np.exp() is preferable to math.exp().\n",
        "\n",
        "**Exercise**: Build a function that returns the sigmoid of a real number x. Use math.exp(x) for the exponential function.\n",
        "\n",
        "**Reminder**:\n",
        "$sigmoid(x) = \\frac{1}{1+e^{-x}}$ is sometimes also known as the logistic function. It is a non-linear function used not only in Machine Learning (Logistic Regression), but also in Deep Learning.\n",
        "\n",
        "<img src='https://github.com/rahiakela/img-repo/blob/master/deep-learning-specialization/Sigmoid.png?raw=1' width='800'/>\n",
        "\n",
        "To refer to a function belonging to a specific package you could call it using package_name.function(). Run the code below to see an example with math.exp()."
      ]
    },
    {
      "cell_type": "code",
      "metadata": {
        "id": "GC_uH4d6CsGg",
        "colab_type": "code",
        "colab": {}
      },
      "source": [
        "# GRADED FUNCTION: basic_sigmoid\n",
        "\n",
        "import math\n",
        "\n",
        "def basic_sigmoid(x):\n",
        "    \"\"\"\n",
        "    Compute sigmoid of x.\n",
        "\n",
        "    Arguments:\n",
        "    x -- A scalar\n",
        "\n",
        "    Return:\n",
        "    s -- sigmoid(x)\n",
        "    \"\"\"\n",
        "    \n",
        "    ### START CODE HERE ### (≈ 1 line of code)\n",
        "    s = 1 / (1 + math.exp(-x))\n",
        "    ### END CODE HERE ###\n",
        "    \n",
        "    return s"
      ],
      "execution_count": 0,
      "outputs": []
    },
    {
      "cell_type": "code",
      "metadata": {
        "id": "aHtsXX4vEd9x",
        "colab_type": "code",
        "colab": {
          "base_uri": "https://localhost:8080/",
          "height": 35
        },
        "outputId": "744ce9e8-d34f-4c68-8bae-e16200856ede"
      },
      "source": [
        "basic_sigmoid(3)"
      ],
      "execution_count": 4,
      "outputs": [
        {
          "output_type": "execute_result",
          "data": {
            "text/plain": [
              "0.9525741268224334"
            ]
          },
          "metadata": {
            "tags": []
          },
          "execution_count": 4
        }
      ]
    },
    {
      "cell_type": "markdown",
      "metadata": {
        "id": "qRCMbKdYEkdo",
        "colab_type": "text"
      },
      "source": [
        "**Expected Output**: \n",
        "<table style = \"width:40%\">\n",
        "    <tr>\n",
        "    <td>basic_sigmoid(3)</td> \n",
        "        <td>0.9525741268224334 </td> \n",
        "    </tr>\n",
        "\n",
        "</table>"
      ]
    },
    {
      "cell_type": "markdown",
      "metadata": {
        "id": "NMJrzX4kElSE",
        "colab_type": "text"
      },
      "source": [
        "Actually, we rarely use the \"math\" library in deep learning because the inputs of the functions are real numbers. In deep learning we mostly use matrices and vectors. This is why numpy is more useful. "
      ]
    },
    {
      "cell_type": "code",
      "metadata": {
        "id": "dcN9Q5cmEgJk",
        "colab_type": "code",
        "colab": {
          "base_uri": "https://localhost:8080/",
          "height": 310
        },
        "outputId": "b80698b3-6cf5-4cd7-bb9f-f483d9ce06ae"
      },
      "source": [
        "# One reason why we use \"numpy\" instead of \"math\" in Deep Learning\n",
        "x = [1, 2, 3]\n",
        "basic_sigmoid(x)  # you will see this give an error when you run it, because x is a vector."
      ],
      "execution_count": 5,
      "outputs": [
        {
          "output_type": "error",
          "ename": "TypeError",
          "evalue": "ignored",
          "traceback": [
            "\u001b[0;31m---------------------------------------------------------------------------\u001b[0m",
            "\u001b[0;31mTypeError\u001b[0m                                 Traceback (most recent call last)",
            "\u001b[0;32m<ipython-input-5-5f69f7e577e8>\u001b[0m in \u001b[0;36m<module>\u001b[0;34m()\u001b[0m\n\u001b[1;32m      1\u001b[0m \u001b[0mx\u001b[0m \u001b[0;34m=\u001b[0m \u001b[0;34m[\u001b[0m\u001b[0;36m1\u001b[0m\u001b[0;34m,\u001b[0m \u001b[0;36m2\u001b[0m\u001b[0;34m,\u001b[0m \u001b[0;36m3\u001b[0m\u001b[0;34m]\u001b[0m\u001b[0;34m\u001b[0m\u001b[0;34m\u001b[0m\u001b[0m\n\u001b[0;32m----> 2\u001b[0;31m \u001b[0mbasic_sigmoid\u001b[0m\u001b[0;34m(\u001b[0m\u001b[0mx\u001b[0m\u001b[0;34m)\u001b[0m\u001b[0;34m\u001b[0m\u001b[0;34m\u001b[0m\u001b[0m\n\u001b[0m",
            "\u001b[0;32m<ipython-input-3-ef60198734ee>\u001b[0m in \u001b[0;36mbasic_sigmoid\u001b[0;34m(x)\u001b[0m\n\u001b[1;32m     14\u001b[0m \u001b[0;34m\u001b[0m\u001b[0m\n\u001b[1;32m     15\u001b[0m     \u001b[0;31m### START CODE HERE ### (≈ 1 line of code)\u001b[0m\u001b[0;34m\u001b[0m\u001b[0;34m\u001b[0m\u001b[0;34m\u001b[0m\u001b[0m\n\u001b[0;32m---> 16\u001b[0;31m     \u001b[0ms\u001b[0m \u001b[0;34m=\u001b[0m \u001b[0;36m1\u001b[0m \u001b[0;34m/\u001b[0m \u001b[0;34m(\u001b[0m\u001b[0;36m1\u001b[0m \u001b[0;34m+\u001b[0m \u001b[0mmath\u001b[0m\u001b[0;34m.\u001b[0m\u001b[0mexp\u001b[0m\u001b[0;34m(\u001b[0m\u001b[0;34m-\u001b[0m\u001b[0mx\u001b[0m\u001b[0;34m)\u001b[0m\u001b[0;34m)\u001b[0m\u001b[0;34m\u001b[0m\u001b[0;34m\u001b[0m\u001b[0m\n\u001b[0m\u001b[1;32m     17\u001b[0m     \u001b[0;31m### END CODE HERE ###\u001b[0m\u001b[0;34m\u001b[0m\u001b[0;34m\u001b[0m\u001b[0;34m\u001b[0m\u001b[0m\n\u001b[1;32m     18\u001b[0m \u001b[0;34m\u001b[0m\u001b[0m\n",
            "\u001b[0;31mTypeError\u001b[0m: bad operand type for unary -: 'list'"
          ]
        }
      ]
    },
    {
      "cell_type": "markdown",
      "metadata": {
        "id": "NumqbEM4FQ4G",
        "colab_type": "text"
      },
      "source": [
        "In fact, if $ x = (x_1, x_2, ..., x_n)$ is a row vector then $np.exp(x)$ will apply the exponential function to every element of x. The output will thus be: $np.exp(x) = (e^{x_1}, e^{x_2}, ..., e^{x_n})$"
      ]
    },
    {
      "cell_type": "code",
      "metadata": {
        "id": "i4Lk8QWzFFkA",
        "colab_type": "code",
        "colab": {
          "base_uri": "https://localhost:8080/",
          "height": 35
        },
        "outputId": "2ad87eee-8c57-4f24-a68f-7fb7dc08adb1"
      },
      "source": [
        "import numpy as np\n",
        "\n",
        "# example of np.exp\n",
        "x = np.array([1, 2, 3])\n",
        "print(np.exp(x))"
      ],
      "execution_count": 6,
      "outputs": [
        {
          "output_type": "stream",
          "text": [
            "[ 2.71828183  7.3890561  20.08553692]\n"
          ],
          "name": "stdout"
        }
      ]
    },
    {
      "cell_type": "markdown",
      "metadata": {
        "id": "ze4vmVK3Fkk6",
        "colab_type": "text"
      },
      "source": [
        "Furthermore, if x is a vector, then a Python operation such as $s = x + 3$ or $s = \\frac{1}{x}$ will output s as a vector of the same size as x."
      ]
    },
    {
      "cell_type": "code",
      "metadata": {
        "id": "pqu0JfnYFe2P",
        "colab_type": "code",
        "colab": {
          "base_uri": "https://localhost:8080/",
          "height": 35
        },
        "outputId": "ff0fb41b-4de7-4212-b052-d6f1b78757ed"
      },
      "source": [
        "# example of vector operation\n",
        "x = np.array([1, 2, 3])\n",
        "print(x + 3)"
      ],
      "execution_count": 7,
      "outputs": [
        {
          "output_type": "stream",
          "text": [
            "[4 5 6]\n"
          ],
          "name": "stdout"
        }
      ]
    },
    {
      "cell_type": "markdown",
      "metadata": {
        "id": "PdC2_4IqGKl2",
        "colab_type": "text"
      },
      "source": [
        "Any time you need more info on a numpy function, we encourage you to look at [the official documentation](https://docs.scipy.org/doc/numpy-1.10.1/reference/generated/numpy.exp.html). \n",
        "\n",
        "You can also create a new cell in the notebook and write `np.exp?` (for example) to get quick access to the documentation.\n",
        "\n",
        "**Exercise**: Implement the sigmoid function using numpy. \n",
        "\n",
        "**Instructions**: x could now be either a real number, a vector, or a matrix. The data structures we use in numpy to represent these shapes (vectors, matrices...) are called numpy arrays. You don't need to know more for now.\n",
        "$$ \\text{For } x \\in \\mathbb{R}^n \\text{,     } sigmoid(x) = sigmoid\\begin{pmatrix}\n",
        "    x_1  \\\\\n",
        "    x_2  \\\\\n",
        "    ...  \\\\\n",
        "    x_n  \\\\\n",
        "\\end{pmatrix} = \\begin{pmatrix}\n",
        "    \\frac{1}{1+e^{-x_1}}  \\\\\n",
        "    \\frac{1}{1+e^{-x_2}}  \\\\\n",
        "    ...  \\\\\n",
        "    \\frac{1}{1+e^{-x_n}}  \\\\\n",
        "\\end{pmatrix}\\tag{1} $$"
      ]
    },
    {
      "cell_type": "code",
      "metadata": {
        "id": "jW9pDMBRFxKw",
        "colab_type": "code",
        "colab": {}
      },
      "source": [
        "# GRADED FUNCTION: sigmoid\n",
        "\n",
        "import numpy as np # this means you can access numpy functions by writing np.function() instead of numpy.function()\n",
        "\n",
        "def sigmoid(x):\n",
        "    \"\"\"\n",
        "    Compute the sigmoid of x\n",
        "\n",
        "    Arguments:\n",
        "    x -- A scalar or numpy array of any size\n",
        "\n",
        "    Return:\n",
        "    s -- sigmoid(x)\n",
        "    \"\"\"\n",
        "    \n",
        "    ### START CODE HERE ### (≈ 1 line of code)\n",
        "    s = 1 / (1 + np.exp(-x))\n",
        "    ### END CODE HERE ###\n",
        "    \n",
        "    return s"
      ],
      "execution_count": 0,
      "outputs": []
    },
    {
      "cell_type": "code",
      "metadata": {
        "id": "bGdDDrK1GgUR",
        "colab_type": "code",
        "colab": {
          "base_uri": "https://localhost:8080/",
          "height": 35
        },
        "outputId": "c68d4313-b92d-4307-cd30-fb4f23c944af"
      },
      "source": [
        "x = np.array([1, 2, 3])\n",
        "sigmoid(x)"
      ],
      "execution_count": 9,
      "outputs": [
        {
          "output_type": "execute_result",
          "data": {
            "text/plain": [
              "array([0.73105858, 0.88079708, 0.95257413])"
            ]
          },
          "metadata": {
            "tags": []
          },
          "execution_count": 9
        }
      ]
    },
    {
      "cell_type": "markdown",
      "metadata": {
        "id": "oSbneoKSGp7U",
        "colab_type": "text"
      },
      "source": [
        "**Expected Output**: \n",
        "<table>\n",
        "    <tr> \n",
        "        <td> sigmoid([1,2,3])</td> \n",
        "        <td> array([ 0.73105858,  0.88079708,  0.95257413]) </td> \n",
        "    </tr>\n",
        "</table> "
      ]
    },
    {
      "cell_type": "markdown",
      "metadata": {
        "id": "NDcWhKc3HRnS",
        "colab_type": "text"
      },
      "source": [
        ""
      ]
    },
    {
      "cell_type": "markdown",
      "metadata": {
        "id": "QQxdptRXGzzu",
        "colab_type": "text"
      },
      "source": [
        "### 1.2 - Sigmoid gradient"
      ]
    },
    {
      "cell_type": "markdown",
      "metadata": {
        "id": "4hycgTXnHbRC",
        "colab_type": "text"
      },
      "source": [
        "As you've seen in lecture, you will need to compute gradients to optimize loss functions using backpropagation. Let's code your first gradient function.\n",
        "\n",
        "**Exercise**: Implement the function sigmoid_grad() to compute the gradient of the sigmoid function with respect to its input x. The formula is: $$sigmoid\\_derivative(x) = \\sigma'(x) = \\sigma(x) (1 - \\sigma(x))\\tag{2}$$\n",
        "You often code this function in two steps:\n",
        "1. Set s to be the sigmoid of x. You might find your sigmoid(x) function useful.\n",
        "2. Compute $\\sigma'(x) = s(1-s)$"
      ]
    },
    {
      "cell_type": "code",
      "metadata": {
        "id": "XIzxkz1QGlZs",
        "colab_type": "code",
        "colab": {}
      },
      "source": [
        "# GRADED FUNCTION: sigmoid_derivative\n",
        "\n",
        "def sigmoid_derivative(x):\n",
        "    \"\"\"\n",
        "    Compute the gradient (also called the slope or derivative) of the sigmoid function with respect to its input x.\n",
        "    You can store the output of the sigmoid function into variables and then use it to calculate the gradient.\n",
        "    \n",
        "    Arguments:\n",
        "    x -- A scalar or numpy array\n",
        "\n",
        "    Return:\n",
        "    ds -- Your computed gradient.\n",
        "    \"\"\"\n",
        "    \n",
        "    ### START CODE HERE ### (≈ 2 lines of code)\n",
        "    s = sigmoid(x)\n",
        "    ds = s * (1 - s)\n",
        "    ### END CODE HERE ###\n",
        "    \n",
        "    return ds"
      ],
      "execution_count": 0,
      "outputs": []
    },
    {
      "cell_type": "code",
      "metadata": {
        "id": "8hPZNY2PLWkH",
        "colab_type": "code",
        "colab": {
          "base_uri": "https://localhost:8080/",
          "height": 35
        },
        "outputId": "b2012d65-475f-443f-8037-6344bec95d6c"
      },
      "source": [
        "x = np.array([1, 2, 3])\n",
        "print(f'sigmoid_derivative(x) = {str(sigmoid_derivative(x))}')"
      ],
      "execution_count": 11,
      "outputs": [
        {
          "output_type": "stream",
          "text": [
            "sigmoid_derivative(x) = [0.19661193 0.10499359 0.04517666]\n"
          ],
          "name": "stdout"
        }
      ]
    },
    {
      "cell_type": "markdown",
      "metadata": {
        "id": "O1Ms6m1UMv_v",
        "colab_type": "text"
      },
      "source": [
        "### 1.3 - Reshaping arrays"
      ]
    },
    {
      "cell_type": "markdown",
      "metadata": {
        "id": "xK98919JM0Wk",
        "colab_type": "text"
      },
      "source": [
        "Two common numpy functions used in deep learning are [np.shape](https://docs.scipy.org/doc/numpy/reference/generated/numpy.ndarray.shape.html) and [np.reshape()](https://docs.scipy.org/doc/numpy/reference/generated/numpy.reshape.html). \n",
        "- X.shape is used to get the shape (dimension) of a matrix/vector X. \n",
        "- X.reshape(...) is used to reshape X into some other dimension. \n",
        "\n",
        "For example, in computer science, an image is represented by a 3D array of shape $(length, height, depth = 3)$. However, when you read an image as the input of an algorithm you convert it to a vector of shape $(length*height*3, 1)$. In other words, you \"unroll\", or reshape, the 3D array into a 1D vector.\n",
        "\n",
        "<img src='https://github.com/rahiakela/img-repo/blob/master/deep-learning-specialization/image2vector_kiank.png?raw=1' width='800'/>\n",
        "\n",
        "**Exercise**: Implement `image2vector()` that takes an input of shape (length, height, 3) and returns a vector of shape (length\\*height\\*3, 1). For example, if you would like to reshape an array v of shape (a, b, c) into a vector of shape (a*b,c) you would do:\n",
        "``` python\n",
        "v = v.reshape((v.shape[0]*v.shape[1], v.shape[2])) # v.shape[0] = a ; v.shape[1] = b ; v.shape[2] = c\n",
        "```\n",
        "- Please don't hardcode the dimensions of image as a constant. Instead look up the quantities you need with `image.shape[0]`, etc. "
      ]
    },
    {
      "cell_type": "code",
      "metadata": {
        "id": "BLU9ybApLhjl",
        "colab_type": "code",
        "colab": {}
      },
      "source": [
        "# This is a 3 by 3 by 2 array, typically images will be (num_px_x, num_px_y,3) where 3 represents the RGB values\n",
        "image = np.array([[[ 0.67826139,  0.29380381],\n",
        "        [ 0.90714982,  0.52835647],\n",
        "        [ 0.4215251 ,  0.45017551]],\n",
        "\n",
        "       [[ 0.92814219,  0.96677647],\n",
        "        [ 0.85304703,  0.52351845],\n",
        "        [ 0.19981397,  0.27417313]],\n",
        "\n",
        "       [[ 0.60659855,  0.00533165],\n",
        "        [ 0.10820313,  0.49978937],\n",
        "        [ 0.34144279,  0.94630077]]])"
      ],
      "execution_count": 0,
      "outputs": []
    },
    {
      "cell_type": "code",
      "metadata": {
        "id": "uyOVpyY3UXwF",
        "colab_type": "code",
        "colab": {
          "base_uri": "https://localhost:8080/",
          "height": 35
        },
        "outputId": "ba36ca91-d6f3-4066-cbc2-0b264bd9752a"
      },
      "source": [
        "image.shape"
      ],
      "execution_count": 15,
      "outputs": [
        {
          "output_type": "execute_result",
          "data": {
            "text/plain": [
              "(3, 3, 2)"
            ]
          },
          "metadata": {
            "tags": []
          },
          "execution_count": 15
        }
      ]
    },
    {
      "cell_type": "code",
      "metadata": {
        "id": "8Cvu-0wwUg9z",
        "colab_type": "code",
        "colab": {
          "base_uri": "https://localhost:8080/",
          "height": 35
        },
        "outputId": "ef807bdb-7b88-4eff-8104-94cbd174ac8b"
      },
      "source": [
        "image.shape[:1]  # get lenght element"
      ],
      "execution_count": 30,
      "outputs": [
        {
          "output_type": "execute_result",
          "data": {
            "text/plain": [
              "(3,)"
            ]
          },
          "metadata": {
            "tags": []
          },
          "execution_count": 30
        }
      ]
    },
    {
      "cell_type": "code",
      "metadata": {
        "id": "cZiKQorPUi4x",
        "colab_type": "code",
        "colab": {
          "base_uri": "https://localhost:8080/",
          "height": 35
        },
        "outputId": "c78502b8-5aac-48ba-ed5b-4bc8c6bb37e5"
      },
      "source": [
        "image.shape[1:2]  # get hieght element"
      ],
      "execution_count": 31,
      "outputs": [
        {
          "output_type": "execute_result",
          "data": {
            "text/plain": [
              "(3,)"
            ]
          },
          "metadata": {
            "tags": []
          },
          "execution_count": 31
        }
      ]
    },
    {
      "cell_type": "code",
      "metadata": {
        "id": "VLOauTtuUkhu",
        "colab_type": "code",
        "colab": {
          "base_uri": "https://localhost:8080/",
          "height": 35
        },
        "outputId": "cdcec663-cb86-4887-f091-f656f05be819"
      },
      "source": [
        "image.shape[2:] # get depth element"
      ],
      "execution_count": 32,
      "outputs": [
        {
          "output_type": "execute_result",
          "data": {
            "text/plain": [
              "(2,)"
            ]
          },
          "metadata": {
            "tags": []
          },
          "execution_count": 32
        }
      ]
    },
    {
      "cell_type": "code",
      "metadata": {
        "id": "buHhTR2EUoxo",
        "colab_type": "code",
        "colab": {
          "base_uri": "https://localhost:8080/",
          "height": 212
        },
        "outputId": "4dc6eee8-143d-4536-dfc3-409e6949d9b8"
      },
      "source": [
        "image"
      ],
      "execution_count": 24,
      "outputs": [
        {
          "output_type": "execute_result",
          "data": {
            "text/plain": [
              "array([[[0.67826139, 0.29380381],\n",
              "        [0.90714982, 0.52835647],\n",
              "        [0.4215251 , 0.45017551]],\n",
              "\n",
              "       [[0.92814219, 0.96677647],\n",
              "        [0.85304703, 0.52351845],\n",
              "        [0.19981397, 0.27417313]],\n",
              "\n",
              "       [[0.60659855, 0.00533165],\n",
              "        [0.10820313, 0.49978937],\n",
              "        [0.34144279, 0.94630077]]])"
            ]
          },
          "metadata": {
            "tags": []
          },
          "execution_count": 24
        }
      ]
    },
    {
      "cell_type": "code",
      "metadata": {
        "id": "ismU2eUsYx6n",
        "colab_type": "code",
        "colab": {
          "base_uri": "https://localhost:8080/",
          "height": 35
        },
        "outputId": "6147afbf-83c4-4497-cc6e-fe9b13d30269"
      },
      "source": [
        "# determine the vector size by multiplying the image length, height, depth element\n",
        "vec_size =image.shape[0] * image.shape[1] * image.shape[2]\n",
        "vec_size"
      ],
      "execution_count": 40,
      "outputs": [
        {
          "output_type": "execute_result",
          "data": {
            "text/plain": [
              "18"
            ]
          },
          "metadata": {
            "tags": []
          },
          "execution_count": 40
        }
      ]
    },
    {
      "cell_type": "code",
      "metadata": {
        "id": "0eUrT4GpYJV7",
        "colab_type": "code",
        "colab": {
          "base_uri": "https://localhost:8080/",
          "height": 337
        },
        "outputId": "a478c3d5-d789-43cf-d8ba-afdef4d7b9ba"
      },
      "source": [
        "np.reshape(image, (vec_size, 1))"
      ],
      "execution_count": 41,
      "outputs": [
        {
          "output_type": "execute_result",
          "data": {
            "text/plain": [
              "array([[0.67826139],\n",
              "       [0.29380381],\n",
              "       [0.90714982],\n",
              "       [0.52835647],\n",
              "       [0.4215251 ],\n",
              "       [0.45017551],\n",
              "       [0.92814219],\n",
              "       [0.96677647],\n",
              "       [0.85304703],\n",
              "       [0.52351845],\n",
              "       [0.19981397],\n",
              "       [0.27417313],\n",
              "       [0.60659855],\n",
              "       [0.00533165],\n",
              "       [0.10820313],\n",
              "       [0.49978937],\n",
              "       [0.34144279],\n",
              "       [0.94630077]])"
            ]
          },
          "metadata": {
            "tags": []
          },
          "execution_count": 41
        }
      ]
    },
    {
      "cell_type": "code",
      "metadata": {
        "id": "wC4mTlqfWesw",
        "colab_type": "code",
        "colab": {}
      },
      "source": [
        "# GRADED FUNCTION: image2vector\n",
        "def image2vector(image):\n",
        "    \"\"\"\n",
        "    Argument:\n",
        "    image -- a numpy array of shape (length, height, depth)\n",
        "    \n",
        "    Returns:\n",
        "    v -- a vector of shape (length*height*depth, 1)\n",
        "    \"\"\"\n",
        "    \n",
        "    ### START CODE HERE ### (≈ 1 line of code)\n",
        "    vec_size =image.shape[0] * image.shape[1] * image.shape[2]\n",
        "    v = np.reshape(image, (vec_size, 1))\n",
        "    ### END CODE HERE ###\n",
        "    \n",
        "    return v"
      ],
      "execution_count": 0,
      "outputs": []
    },
    {
      "cell_type": "code",
      "metadata": {
        "id": "8Qe3dwAjXCLU",
        "colab_type": "code",
        "colab": {
          "base_uri": "https://localhost:8080/",
          "height": 337
        },
        "outputId": "9ec8ef42-7e0d-4cf4-e577-4d7eaf349368"
      },
      "source": [
        "# This is a 3 by 3 by 2 array, typically images will be (num_px_x, num_px_y,3) where 3 represents the RGB values\n",
        "image = np.array([[[ 0.67826139,  0.29380381],\n",
        "        [ 0.90714982,  0.52835647],\n",
        "        [ 0.4215251 ,  0.45017551]],\n",
        "\n",
        "       [[ 0.92814219,  0.96677647],\n",
        "        [ 0.85304703,  0.52351845],\n",
        "        [ 0.19981397,  0.27417313]],\n",
        "\n",
        "       [[ 0.60659855,  0.00533165],\n",
        "        [ 0.10820313,  0.49978937],\n",
        "        [ 0.34144279,  0.94630077]]])\n",
        "\n",
        "print(f'image2vector(image) = {str(image2vector(image))}')"
      ],
      "execution_count": 44,
      "outputs": [
        {
          "output_type": "stream",
          "text": [
            "image2vector(image) = [[0.67826139]\n",
            " [0.29380381]\n",
            " [0.90714982]\n",
            " [0.52835647]\n",
            " [0.4215251 ]\n",
            " [0.45017551]\n",
            " [0.92814219]\n",
            " [0.96677647]\n",
            " [0.85304703]\n",
            " [0.52351845]\n",
            " [0.19981397]\n",
            " [0.27417313]\n",
            " [0.60659855]\n",
            " [0.00533165]\n",
            " [0.10820313]\n",
            " [0.49978937]\n",
            " [0.34144279]\n",
            " [0.94630077]]\n"
          ],
          "name": "stdout"
        }
      ]
    },
    {
      "cell_type": "markdown",
      "metadata": {
        "id": "S2MC-FkMb_5S",
        "colab_type": "text"
      },
      "source": [
        "### 1.4 - Normalizing rows"
      ]
    },
    {
      "cell_type": "markdown",
      "metadata": {
        "id": "Y-BaHYU3cCXY",
        "colab_type": "text"
      },
      "source": [
        "Another common technique we use in Machine Learning and Deep Learning is to normalize our data. It often leads to a better performance because gradient descent converges faster after normalization. Here, by normalization we mean changing x to $ \\frac{x}{\\| x\\|} $ (dividing each row vector of x by its norm).\n",
        "\n",
        "For example, if $$x = \n",
        "\\begin{bmatrix}\n",
        "    0 & 3 & 4 \\\\\n",
        "    2 & 6 & 4 \\\\\n",
        "\\end{bmatrix}\\tag{3}$$ then $$\\| x\\| = np.linalg.norm(x, axis = 1, keepdims = True) = \\begin{bmatrix}\n",
        "    5 \\\\\n",
        "    \\sqrt{56} \\\\\n",
        "\\end{bmatrix}\\tag{4} $$and        $$ x\\_normalized = \\frac{x}{\\| x\\|} = \\begin{bmatrix}\n",
        "    0 & \\frac{3}{5} & \\frac{4}{5} \\\\\n",
        "    \\frac{2}{\\sqrt{56}} & \\frac{6}{\\sqrt{56}} & \\frac{4}{\\sqrt{56}} \\\\\n",
        "\\end{bmatrix}\\tag{5}$$ Note that you can divide matrices of different sizes and it works fine: this is called broadcasting and you're going to learn about it in part 5.\n",
        "\n",
        "\n",
        "**Exercise**: Implement normalizeRows() to normalize the rows of a matrix. After applying this function to an input matrix x, each row of x should be a vector of unit length (meaning length 1)."
      ]
    },
    {
      "cell_type": "code",
      "metadata": {
        "id": "ZoeUsiOVbRsy",
        "colab_type": "code",
        "colab": {}
      },
      "source": [
        "# GRADED FUNCTION: normalizeRows\n",
        "\n",
        "def normalizeRows(x):\n",
        "    \"\"\"\n",
        "    Implement a function that normalizes each row of the matrix x (to have unit length).\n",
        "    \n",
        "    Argument:\n",
        "    x -- A numpy matrix of shape (n, m)\n",
        "    \n",
        "    Returns:\n",
        "    x -- The normalized (by row) numpy matrix. You are allowed to modify x.\n",
        "    \"\"\"\n",
        "    \n",
        "    ### START CODE HERE ### (≈ 2 lines of code)\n",
        "    # Compute x_norm as the norm 2 of x. Use np.linalg.norm(..., ord = 2, axis = ..., keepdims = True)\n",
        "    x_norm = np.linalg.norm(x, axis=1, keepdims=True)\n",
        "    \n",
        "    # Divide x by its norm.\n",
        "    x = x / x_norm\n",
        "    ### END CODE HERE ###\n",
        "\n",
        "    return x"
      ],
      "execution_count": 0,
      "outputs": []
    },
    {
      "cell_type": "code",
      "metadata": {
        "id": "NZAKc2WmxW4K",
        "colab_type": "code",
        "colab": {
          "base_uri": "https://localhost:8080/",
          "height": 52
        },
        "outputId": "b1f6bb05-f2cc-4fab-afd5-7f20c09b2201"
      },
      "source": [
        "x = np.array([\n",
        "    [0, 3, 4],\n",
        "    [1, 6, 4]          \n",
        "])\n",
        "print(f'normalizeRows(x) = {str(normalizeRows(x))}')"
      ],
      "execution_count": 46,
      "outputs": [
        {
          "output_type": "stream",
          "text": [
            "normalizeRows(x) = [[0.         0.6        0.8       ]\n",
            " [0.13736056 0.82416338 0.54944226]]\n"
          ],
          "name": "stdout"
        }
      ]
    },
    {
      "cell_type": "markdown",
      "metadata": {
        "id": "1YI3yR8LyWeu",
        "colab_type": "text"
      },
      "source": [
        "**Note**:\n",
        "In normalizeRows(), you can try to print the shapes of x_norm and x, and then rerun the assessment. You'll find out that they have different shapes. This is normal given that x_norm takes the norm of each row of x. So x_norm has the same number of rows but only 1 column. So how did it work when you divided x by x_norm? This is called broadcasting and we'll talk about it now! "
      ]
    },
    {
      "cell_type": "markdown",
      "metadata": {
        "id": "p6NZTQyMyiXp",
        "colab_type": "text"
      },
      "source": [
        "### 1.5 - Broadcasting and the softmax function"
      ]
    },
    {
      "cell_type": "markdown",
      "metadata": {
        "id": "qMNlCnO9yjSj",
        "colab_type": "text"
      },
      "source": [
        "A very important concept to understand in numpy is \"broadcasting\". It is very useful for performing mathematical operations between arrays of different shapes. For the full details on broadcasting, you can read the official [broadcasting documentation](http://docs.scipy.org/doc/numpy/user/basics.broadcasting.html).\n",
        "\n",
        "**Exercise**: Implement a softmax function using numpy. You can think of softmax as a normalizing function used when your algorithm needs to classify two or more classes. You will learn more about softmax in the second course of this specialization.\n",
        "\n",
        "**Instructions**:\n",
        "- $ \\text{for } x \\in \\mathbb{R}^{1\\times n} \\text{,     } softmax(x) = softmax(\\begin{bmatrix}\n",
        "    x_1  &&\n",
        "    x_2 &&\n",
        "    ...  &&\n",
        "    x_n  \n",
        "\\end{bmatrix}) = \\begin{bmatrix}\n",
        "     \\frac{e^{x_1}}{\\sum_{j}e^{x_j}}  &&\n",
        "    \\frac{e^{x_2}}{\\sum_{j}e^{x_j}}  &&\n",
        "    ...  &&\n",
        "    \\frac{e^{x_n}}{\\sum_{j}e^{x_j}} \n",
        "\\end{bmatrix} $ \n",
        "\n",
        "- $\\text{for a matrix } x \\in \\mathbb{R}^{m \\times n} \\text{,  $x_{ij}$ maps to the element in the $i^{th}$ row and $j^{th}$ column of $x$, thus we have: }$  $$softmax(x) = softmax\\begin{bmatrix}\n",
        "    x_{11} & x_{12} & x_{13} & \\dots  & x_{1n} \\\\\n",
        "    x_{21} & x_{22} & x_{23} & \\dots  & x_{2n} \\\\\n",
        "    \\vdots & \\vdots & \\vdots & \\ddots & \\vdots \\\\\n",
        "    x_{m1} & x_{m2} & x_{m3} & \\dots  & x_{mn}\n",
        "\\end{bmatrix} = \\begin{bmatrix}\n",
        "    \\frac{e^{x_{11}}}{\\sum_{j}e^{x_{1j}}} & \\frac{e^{x_{12}}}{\\sum_{j}e^{x_{1j}}} & \\frac{e^{x_{13}}}{\\sum_{j}e^{x_{1j}}} & \\dots  & \\frac{e^{x_{1n}}}{\\sum_{j}e^{x_{1j}}} \\\\\n",
        "    \\frac{e^{x_{21}}}{\\sum_{j}e^{x_{2j}}} & \\frac{e^{x_{22}}}{\\sum_{j}e^{x_{2j}}} & \\frac{e^{x_{23}}}{\\sum_{j}e^{x_{2j}}} & \\dots  & \\frac{e^{x_{2n}}}{\\sum_{j}e^{x_{2j}}} \\\\\n",
        "    \\vdots & \\vdots & \\vdots & \\ddots & \\vdots \\\\\n",
        "    \\frac{e^{x_{m1}}}{\\sum_{j}e^{x_{mj}}} & \\frac{e^{x_{m2}}}{\\sum_{j}e^{x_{mj}}} & \\frac{e^{x_{m3}}}{\\sum_{j}e^{x_{mj}}} & \\dots  & \\frac{e^{x_{mn}}}{\\sum_{j}e^{x_{mj}}}\n",
        "\\end{bmatrix} = \\begin{pmatrix}\n",
        "    softmax\\text{(first row of x)}  \\\\\n",
        "    softmax\\text{(second row of x)} \\\\\n",
        "    ...  \\\\\n",
        "    softmax\\text{(last row of x)} \\\\\n",
        "\\end{pmatrix} $$\n",
        "\n",
        "#### Note\n",
        "Note that later in the course, you'll see \"m\" used to represent the \"number of training examples\", and each training example is in its own column of the matrix.  \n",
        "Also, each feature will be in its own row (each row has data for the same feature).  \n",
        "Softmax should be performed for all features of each training example, so softmax would be performed on the columns (once we switch to that representation later in this course).\n",
        "\n",
        "However, in this coding practice, we're just focusing on getting familiar with Python, so we're using the common math notation $m \\times n$  \n",
        "where $m$ is the number of rows and $n$ is the number of columns."
      ]
    },
    {
      "cell_type": "code",
      "metadata": {
        "id": "ZW268F__x2Aa",
        "colab_type": "code",
        "colab": {}
      },
      "source": [
        ""
      ],
      "execution_count": 0,
      "outputs": []
    }
  ]
}