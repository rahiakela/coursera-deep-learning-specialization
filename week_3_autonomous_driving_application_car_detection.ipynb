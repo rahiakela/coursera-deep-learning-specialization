{
  "nbformat": 4,
  "nbformat_minor": 0,
  "metadata": {
    "colab": {
      "name": "week-3-autonomous_driving_application_car_detection.ipynb",
      "provenance": [],
      "toc_visible": true,
      "include_colab_link": true
    },
    "kernelspec": {
      "name": "python3",
      "display_name": "Python 3"
    }
  },
  "cells": [
    {
      "cell_type": "markdown",
      "metadata": {
        "id": "view-in-github",
        "colab_type": "text"
      },
      "source": [
        "<a href=\"https://colab.research.google.com/github/rahiakela/coursera-deep-learning-specialization/blob/course-4-convolutional-neural-networks/week_3_autonomous_driving_application_car_detection.ipynb\" target=\"_parent\"><img src=\"https://colab.research.google.com/assets/colab-badge.svg\" alt=\"Open In Colab\"/></a>"
      ]
    },
    {
      "cell_type": "markdown",
      "metadata": {
        "id": "A6tQPaOQar6f",
        "colab_type": "text"
      },
      "source": [
        "# Autonomous driving - Car detection"
      ]
    },
    {
      "cell_type": "markdown",
      "metadata": {
        "id": "AWuh3s76aujK",
        "colab_type": "text"
      },
      "source": [
        "Welcome to your week 3 programming assignment. You will learn about object detection using the very powerful YOLO model. Many of the ideas in this notebook are described in the two YOLO papers: [Redmon et al., 2016](https://arxiv.org/abs/1506.02640) and [Redmon and Farhadi, 2016](https://arxiv.org/abs/1612.08242). \n",
        "\n",
        "**You will learn to**:\n",
        "- Use object detection on a car detection dataset\n",
        "- Deal with bounding boxes"
      ]
    },
    {
      "cell_type": "markdown",
      "metadata": {
        "id": "6Csn-rQ2awyO",
        "colab_type": "text"
      },
      "source": [
        "## Import libraries"
      ]
    },
    {
      "cell_type": "code",
      "metadata": {
        "id": "nOwQ7zjecNf9",
        "colab_type": "code",
        "colab": {}
      },
      "source": [
        "import argparse\n",
        "import os\n",
        "import matplotlib.pyplot as plt\n",
        "from matplotlib.pyplot import imshow\n",
        "import scipy.io\n",
        "import scipy.misc\n",
        "import numpy as np\n",
        "import pandas as pd\n",
        "import PIL\n",
        "import tensorflow as tf\n",
        "from keras import backend as K\n",
        "from keras.layers import Input, Lambda, Conv2D\n",
        "from keras.models import load_model, Model\n",
        "from yolo_utils import read_classes, read_anchors, generate_colors, preprocess_image, draw_boxes, scale_boxes\n",
        "from yad2k.models.keras_yolo import yolo_head, yolo_boxes_to_corners, preprocess_true_boxes, yolo_loss, yolo_body\n",
        "\n",
        "%matplotlib inline"
      ],
      "execution_count": 0,
      "outputs": []
    },
    {
      "cell_type": "markdown",
      "metadata": {
        "id": "UCAEbU--cXAX",
        "colab_type": "text"
      },
      "source": [
        "**Important Note**: As you can see, we import Keras's backend as K. This means that to use a Keras function in this notebook, you will need to write: `K.function(...)`."
      ]
    },
    {
      "cell_type": "markdown",
      "metadata": {
        "id": "FtfX1GBZcZxX",
        "colab_type": "text"
      },
      "source": [
        "## 1 - Problem Statement"
      ]
    },
    {
      "cell_type": "markdown",
      "metadata": {
        "id": "c_08IvwweJj4",
        "colab_type": "text"
      },
      "source": [
        "You are working on a self-driving car. As a critical component of this project, you'd like to first build a car detection system. To collect data, you've mounted a camera to the hood (meaning the front) of the car, which takes pictures of the road ahead every few seconds while you drive around. \n",
        "\n",
        "<center>\n",
        "<video width=\"400\" height=\"200\" src=\"nb_images/road_video_compressed2.mp4\" type=\"video/mp4\" controls>\n",
        "</video>\n",
        "</center>\n",
        "\n",
        "<caption><center> Pictures taken from a car-mounted camera while driving around Silicon Valley. <br> We thank [drive.ai](htps://www.drive.ai/) for providing this dataset.\n",
        "</center></caption>"
      ]
    },
    {
      "cell_type": "code",
      "metadata": {
        "id": "pdDJ6-XeeIWC",
        "colab_type": "code",
        "outputId": "141c56db-f9fc-4b43-a2d2-018704a78f54",
        "colab": {
          "base_uri": "https://localhost:8080/",
          "height": 574
        }
      },
      "source": [
        "from IPython.display import HTML\n",
        "\n",
        "HTML(\"\"\"\n",
        "<div align=\"middle\">\n",
        "<video width=\"80%\" controls>\n",
        "      <source src=\"https://github.com/rahiakela/img-repo/blob/master/deep-learning-specialization/road_video_compressed2.mp4?raw=1\" type=\"video/mp4\">\n",
        "</video></div>\"\"\")"
      ],
      "execution_count": 0,
      "outputs": [
        {
          "output_type": "execute_result",
          "data": {
            "text/html": [
              "\n",
              "<div align=\"middle\">\n",
              "<video width=\"80%\" controls>\n",
              "      <source src=\"https://github.com/rahiakela/img-repo/blob/master/deep-learning-specialization/road_video_compressed2.mp4?raw=1\" type=\"video/mp4\">\n",
              "</video></div>"
            ],
            "text/plain": [
              "<IPython.core.display.HTML object>"
            ]
          },
          "metadata": {
            "tags": []
          },
          "execution_count": 1
        }
      ]
    },
    {
      "cell_type": "markdown",
      "metadata": {
        "id": "rq3HD11fccVY",
        "colab_type": "text"
      },
      "source": [
        "\n",
        "You've gathered all these images into a folder and have labelled them by drawing bounding boxes around every car you found. Here's an example of what your bounding boxes look like.\n",
        "\n",
        "<img src='https://github.com/rahiakela/img-repo/blob/master/deep-learning-specialization/box_label.png?raw=1' width='800'/>\n",
        "<caption><center> <u> **Figure 1** </u>: **Definition of a box**<br> </center></caption>\n",
        "\n",
        "If you have 80 classes that you want the object detector to recognize, you can represent the class label $c$ either as an integer from 1 to 80, or as an 80-dimensional vector (with 80 numbers) one component of which is 1 and the rest of which are 0. The video lectures had used the latter representation; in this notebook, we will use both representations, depending on which is more convenient for a particular step.  \n",
        "\n",
        "In this exercise, you will learn how \"You Only Look Once\" (YOLO) performs object detection, and then apply it to car detection. Because the YOLO model is very computationally expensive to train, we will load pre-trained weights for you to use. "
      ]
    },
    {
      "cell_type": "markdown",
      "metadata": {
        "id": "Za8Kf4JpchNZ",
        "colab_type": "text"
      },
      "source": [
        "## 2 - YOLO"
      ]
    },
    {
      "cell_type": "markdown",
      "metadata": {
        "id": "WBpK_1a4dECt",
        "colab_type": "text"
      },
      "source": [
        "\"You Only Look Once\" (YOLO) is a popular algorithm because it achieves high accuracy while also being able to run in real-time. This algorithm \"only looks once\" at the image in the sense that it requires only one forward propagation pass through the network to make predictions. After non-max suppression, it then outputs recognized objects together with the bounding boxes."
      ]
    },
    {
      "cell_type": "markdown",
      "metadata": {
        "id": "tzcDIQFRGEt8",
        "colab_type": "text"
      },
      "source": [
        "### 2.1 - Model details"
      ]
    },
    {
      "cell_type": "markdown",
      "metadata": {
        "id": "u5ttMZyIGGrP",
        "colab_type": "text"
      },
      "source": [
        "#### Inputs and outputs"
      ]
    },
    {
      "cell_type": "markdown",
      "metadata": {
        "id": "5_TZfC3IGInQ",
        "colab_type": "text"
      },
      "source": [
        "- The **input** is a batch of images, and each image has the shape (m, 608, 608, 3)\n",
        "- The **output** is a list of bounding boxes along with the recognized classes. Each bounding box is represented by 6 numbers $(p_c, b_x, b_y, b_h, b_w, c)$ as explained above. If you expand $c$ into an 80-dimensional vector, each bounding box is then represented by 85 numbers. "
      ]
    },
    {
      "cell_type": "markdown",
      "metadata": {
        "id": "GH9WT1JBGMVF",
        "colab_type": "text"
      },
      "source": [
        "#### Anchor Boxes"
      ]
    },
    {
      "cell_type": "markdown",
      "metadata": {
        "id": "QbrdRDhoGO14",
        "colab_type": "text"
      },
      "source": [
        "* Anchor boxes are chosen by exploring the training data to choose reasonable height/width ratios that represent the different classes.  For this assignment, 5 anchor boxes were chosen for you (to cover the 80 classes), and stored in the file './model_data/yolo_anchors.txt'\n",
        "* The dimension for anchor boxes is the second to last dimension in the encoding: $(m, n_H,n_W,anchors,classes)$.\n",
        "* The YOLO architecture is: IMAGE (m, 608, 608, 3) -> DEEP CNN -> ENCODING (m, 19, 19, 5, 85). "
      ]
    },
    {
      "cell_type": "markdown",
      "metadata": {
        "id": "ppKQvYzKGRUn",
        "colab_type": "text"
      },
      "source": [
        "#### Encoding"
      ]
    },
    {
      "cell_type": "markdown",
      "metadata": {
        "id": "IW5lUYdCGTN7",
        "colab_type": "text"
      },
      "source": [
        "Let's look in greater detail at what this encoding represents. \n",
        "\n",
        "<img src='https://github.com/rahiakela/img-repo/blob/master/deep-learning-specialization/architecture.png?raw=1' width='800'/>\n",
        "<caption><center> <u> **Figure 2** </u>: **Encoding architecture for YOLO**<br> </center></caption>\n",
        "\n",
        "If the center/midpoint of an object falls into a grid cell, that grid cell is responsible for detecting that object."
      ]
    },
    {
      "cell_type": "markdown",
      "metadata": {
        "id": "njdkR8X9GdTi",
        "colab_type": "text"
      },
      "source": [
        "Since we are using 5 anchor boxes, each of the 19 x19 cells thus encodes information about 5 boxes. Anchor boxes are defined only by their width and height.\n",
        "\n",
        "For simplicity, we will flatten the last two last dimensions of the shape (19, 19, 5, 85) encoding. So the output of the Deep CNN is (19, 19, 425).\n",
        "\n",
        "<img src='https://github.com/rahiakela/img-repo/blob/master/deep-learning-specialization/flatten.png?raw=1' width='800'/>\n",
        "<caption><center> <u> **Figure 3** </u>: **Flattening the last two last dimensions**<br> </center></caption>"
      ]
    },
    {
      "cell_type": "markdown",
      "metadata": {
        "id": "IxkozPTAGtKs",
        "colab_type": "text"
      },
      "source": [
        "#### Class score"
      ]
    },
    {
      "cell_type": "markdown",
      "metadata": {
        "id": "SDWLHurlGwah",
        "colab_type": "text"
      },
      "source": [
        "Now, for each box (of each cell) we will compute the following element-wise product and extract a probability that the box contains a certain class.  \n",
        "The class score is $score_{c,i} = p_{c} \\times c_{i}$: the probability that there is an object $p_{c}$ times the probability that the object is a certain class $c_{i}$.\n",
        "\n",
        "<img src='https://github.com/rahiakela/img-repo/blob/master/deep-learning-specialization/probability_extraction.png?raw=1' width='800'/>\n",
        "<caption><center> <u> **Figure 4** </u>: **Find the class detected by each box**<br> </center></caption>"
      ]
    },
    {
      "cell_type": "markdown",
      "metadata": {
        "id": "td5z00OLG71r",
        "colab_type": "text"
      },
      "source": [
        "##### Example of figure 4"
      ]
    },
    {
      "cell_type": "markdown",
      "metadata": {
        "id": "E-XLbpwdG8iM",
        "colab_type": "text"
      },
      "source": [
        "* In figure 4, let's say for box 1 (cell 1), the probability that an object exists is $p_{1}=0.60$.  So there's a 60% chance that an object exists in box 1 (cell 1).  \n",
        "* The probability that the object is the class \"category 3 (a car)\" is $c_{3}=0.73$.  \n",
        "* The score for box 1 and for category \"3\" is $score_{1,3}=0.60 \\times 0.73 = 0.44$.  \n",
        "* Let's say we calculate the score for all 80 classes in box 1, and find that the score for the car class (class 3) is the maximum.  So we'll assign the score 0.44 and class \"3\" to this box \"1\"."
      ]
    },
    {
      "cell_type": "markdown",
      "metadata": {
        "id": "l9TB13FjG_fo",
        "colab_type": "text"
      },
      "source": [
        "#### Visualizing classes"
      ]
    },
    {
      "cell_type": "markdown",
      "metadata": {
        "id": "0ayudaqSHBoq",
        "colab_type": "text"
      },
      "source": [
        "Here's one way to visualize what YOLO is predicting on an image:\n",
        "- For each of the 19x19 grid cells, find the maximum of the probability scores (taking a max across the 80 classes, one maximum for each of the 5 anchor boxes).\n",
        "- Color that grid cell according to what object that grid cell considers the most likely.\n",
        "\n",
        "Doing this results in this picture: \n",
        "\n",
        "<img src='https://github.com/rahiakela/img-repo/blob/master/deep-learning-specialization/proba_map.png?raw=1' width='800'/>\n",
        "<caption><center> <u> **Figure 5** </u>: Each one of the 19x19 grid cells is colored according to which class has the largest predicted probability in that cell.<br> </center></caption>\n",
        "\n",
        "Note that this visualization isn't a core part of the YOLO algorithm itself for making predictions; it's just a nice way of visualizing an intermediate result of the algorithm. "
      ]
    },
    {
      "cell_type": "markdown",
      "metadata": {
        "id": "uPKDCRf6HOHS",
        "colab_type": "text"
      },
      "source": [
        "#### Visualizing bounding boxes"
      ]
    },
    {
      "cell_type": "markdown",
      "metadata": {
        "id": "PRHHp_RPHU9V",
        "colab_type": "text"
      },
      "source": [
        "Another way to visualize YOLO's output is to plot the bounding boxes that it outputs. Doing that results in a visualization like this:  \n",
        "\n",
        "<img src='https://github.com/rahiakela/img-repo/blob/master/deep-learning-specialization/anchor_map.png?raw=1' width='800'/>\n",
        "<caption><center> <u> **Figure 6** </u>: Each cell gives you 5 boxes. In total, the model predicts: 19x19x5 = 1805 boxes just by looking once at the image (one forward pass through the network)! Different colors denote different classes. <br> </center></caption>"
      ]
    },
    {
      "cell_type": "markdown",
      "metadata": {
        "id": "Y_j1XynEHdzz",
        "colab_type": "text"
      },
      "source": [
        "#### Non-Max suppression"
      ]
    },
    {
      "cell_type": "markdown",
      "metadata": {
        "id": "w_oN8ODUHeTa",
        "colab_type": "text"
      },
      "source": [
        "In the figure above, we plotted only boxes for which the model had assigned a high probability, but this is still too many boxes. You'd like to reduce the algorithm's output to a much smaller number of detected objects.  \n",
        "\n",
        "To do so, you'll use **non-max suppression**. Specifically, you'll carry out these steps: \n",
        "- Get rid of boxes with a low score (meaning, the box is not very confident about detecting a class; either due to the low probability of any object, or low probability of this particular class).\n",
        "- Select only one box when several boxes overlap with each other and detect the same object."
      ]
    },
    {
      "cell_type": "markdown",
      "metadata": {
        "id": "ci6kJyDrHh6b",
        "colab_type": "text"
      },
      "source": [
        "### 2.2 - Filtering with a threshold on class scores"
      ]
    },
    {
      "cell_type": "markdown",
      "metadata": {
        "id": "5WC4vWTmHovG",
        "colab_type": "text"
      },
      "source": [
        "You are going to first apply a filter by thresholding. You would like to get rid of any box for which the class \"score\" is less than a chosen threshold. \n",
        "\n",
        "The model gives you a total of 19x19x5x85 numbers, with each box described by 85 numbers. It is convenient to rearrange the (19,19,5,85) (or (19,19,425)) dimensional tensor into the following variables:  \n",
        "- `box_confidence`: tensor of shape $(19 \\times 19, 5, 1)$ containing $p_c$ (confidence probability that there's some object) for each of the 5 boxes predicted in each of the 19x19 cells.\n",
        "- `boxes`: tensor of shape $(19 \\times 19, 5, 4)$ containing the midpoint and dimensions $(b_x, b_y, b_h, b_w)$ for each of the 5 boxes in each cell.\n",
        "- `box_class_probs`: tensor of shape $(19 \\times 19, 5, 80)$ containing the \"class probabilities\" $(c_1, c_2, ... c_{80})$ for each of the 80 classes for each of the 5 boxes per cell.\n"
      ]
    },
    {
      "cell_type": "markdown",
      "metadata": {
        "id": "QZVcg3ggHxUT",
        "colab_type": "text"
      },
      "source": [
        "#### **Exercise**: Implement `yolo_filter_boxes()`."
      ]
    },
    {
      "cell_type": "markdown",
      "metadata": {
        "id": "jgxiv7IJH0Nv",
        "colab_type": "text"
      },
      "source": [
        "1. Compute box scores by doing the elementwise product as described in Figure 4 ($p \\times c$).  \n",
        "The following code may help you choose the right operator: \n",
        "```python\n",
        "a = np.random.randn(19*19, 5, 1)\n",
        "b = np.random.randn(19*19, 5, 80)\n",
        "c = a * b # shape of c will be (19*19, 5, 80)\n",
        "```\n",
        "This is an example of **broadcasting** (multiplying vectors of different sizes).\n",
        "\n",
        "2. For each box, find:\n",
        "    - the index of the class with the maximum box score\n",
        "    - the corresponding box score\n",
        "    \n",
        "    **Useful references**\n",
        "        * [Keras argmax](https://keras.io/backend/#argmax)\n",
        "        * [Keras max](https://keras.io/backend/#max)\n",
        "\n",
        "    **Additional Hints**\n",
        "        * For the `axis` parameter of `argmax` and `max`, if you want to select the **last** axis, one way to do so is to set `axis=-1`.  This is similar to Python array indexing, where you can select the last position of an array using `arrayname[-1]`.\n",
        "        * Applying `max` normally collapses the axis for which the maximum is applied.  `keepdims=False` is the default option, and allows that dimension to be removed.  We don't need to keep the last dimension after applying the maximum here.\n",
        "        * Even though the documentation shows `keras.backend.argmax`, use `keras.argmax`.  Similarly, use `keras.max`.\n",
        "\n",
        "\n",
        "3. Create a mask by using a threshold. As a reminder: `([0.9, 0.3, 0.4, 0.5, 0.1] < 0.4)` returns: `[False, True, False, False, True]`. The mask should be True for the boxes you want to keep. \n",
        "\n",
        "4. Use TensorFlow to apply the mask to `box_class_scores`, `boxes` and `box_classes` to filter out the boxes we don't want. You should be left with just the subset of boxes you want to keep.   \n",
        "\n",
        "    **Useful reference**:\n",
        "    * [boolean mask](https://www.tensorflow.org/api_docs/python/tf/boolean_mask)  \n",
        "\n",
        "   **Additional Hints**:  \n",
        "    * For the `tf.boolean_mask`, we can keep the default `axis=None`.\n",
        "\n",
        "**Reminder**: to call a Keras function, you should use `K.function(...)`."
      ]
    },
    {
      "cell_type": "code",
      "metadata": {
        "id": "oVSDxufKH3tT",
        "colab_type": "code",
        "colab": {}
      },
      "source": [
        "# FUNCTION: yolo_filter_boxes\n",
        "def yolo_filter_boxes(box_confidence, boxes, box_class_probs, threshold=.6):\n",
        "  '''\n",
        "  Filters YOLO boxes by thresholding on object and class confidence.\n",
        "    \n",
        "  Arguments:\n",
        "  box_confidence -- tensor of shape (19, 19, 5, 1)\n",
        "  boxes -- tensor of shape (19, 19, 5, 4)\n",
        "  box_class_probs -- tensor of shape (19, 19, 5, 80)\n",
        "  threshold -- real value, if [ highest class probability score < threshold], then get rid of the corresponding box\n",
        "  \n",
        "  Returns:\n",
        "  scores -- tensor of shape (None,), containing the class probability score for selected boxes\n",
        "  boxes -- tensor of shape (None, 4), containing (b_x, b_y, b_h, b_w) coordinates of selected boxes\n",
        "  classes -- tensor of shape (None,), containing the index of the class detected by the selected boxes\n",
        "  \n",
        "  Note: \"None\" is here because you don't know the exact number of selected boxes, as it depends on the threshold. \n",
        "  For example, the actual output size of scores would be (10,) if there are 10 boxes.\n",
        "  '''\n",
        "\n",
        "  # Step 1: Compute box scores\n",
        "  ### START CODE HERE ### (≈ 1 line)\n",
        "  box_scores = box_confidence * box_class_probs\n",
        "  ### END CODE HERE ###\n",
        "\n",
        "  # Step 2: Find the box_classes using the max box_scores, keep track of the corresponding score\n",
        "  ### START CODE HERE ### (≈ 2 lines)\n",
        "  box_classes = K.argmax(box_scores, axis=-1)\n",
        "  box_class_scores = K.max(box_scores, axis=-1)\n",
        "  ### END CODE HERE ###\n",
        "\n",
        "  # Step 3: Create a filtering mask based on \"box_class_scores\" by using \"threshold\". The mask should have the\n",
        "  # same dimension as box_class_scores, and be True for the boxes you want to keep (with probability >= threshold)\n",
        "  ### START CODE HERE ### (≈ 1 line)\n",
        "  filtering_mask = box_class_scores >= threshold\n",
        "  ### END CODE HERE ###\n",
        "\n",
        "  # Step 4: Apply the mask to box_class_scores, boxes and box_classes\n",
        "  ### START CODE HERE ### (≈ 3 lines)\n",
        "  scores = tf.boolean_mask(box_class_scores, filtering_mask)\n",
        "  boxes = tf.boolean_mask(boxes, filtering_mask)\n",
        "  classes = tf.boolean_mask(box_classes, filtering_mask)\n",
        "  ### END CODE HERE ###\n",
        "\n",
        "  return scores, boxes, classes"
      ],
      "execution_count": 0,
      "outputs": []
    },
    {
      "cell_type": "code",
      "metadata": {
        "id": "hNt_VwuwCfPx",
        "colab_type": "code",
        "colab": {}
      },
      "source": [
        "with tf.Session() as sess:\n",
        "  box_confidence = tf.random_normal([19, 19, 5, 1], mean=1, stddev=4, seed=1)\n",
        "  boxes = tf.random_normal([19, 19, 5, 4], mean=1, stddev=4, seed=1)\n",
        "  box_class_probs = tf.random_normal([19, 19, 5, 80], mean=1, stddev=4, seed=1)\n",
        "  \n",
        "  scores, boxes, classes = yolo_filter_boxes(box_confidence, boxes, box_class_probs, threshold=0.5)\n",
        "  print(f'scores[2] = {str(scores[2].eval())}')\n",
        "  print(f'boxes[2] = {str(boxes[2].eval())}')\n",
        "  print(f'classes[2] = {str(classes[2].eval())}')\n",
        "  print(f'scores.shape = {str(scores.shape)}')\n",
        "  print(f'boxes.shape = {str(boxes.shape)}')\n",
        "  print(f'classes.shape = {str(classes.shape)}')"
      ],
      "execution_count": 0,
      "outputs": []
    },
    {
      "cell_type": "markdown",
      "metadata": {
        "id": "dOrGw349Dnh5",
        "colab_type": "text"
      },
      "source": [
        "**Expected Output**:\n",
        "\n",
        "<table>\n",
        "    <tr>\n",
        "        <td>\n",
        "            **scores[2]**\n",
        "        </td>\n",
        "        <td>\n",
        "           10.7506\n",
        "        </td>\n",
        "    </tr>\n",
        "    <tr>\n",
        "        <td>\n",
        "            **boxes[2]**\n",
        "        </td>\n",
        "        <td>\n",
        "           [ 8.42653275  3.27136683 -0.5313437  -4.94137383]\n",
        "        </td>\n",
        "    </tr>\n",
        "    <tr>\n",
        "        <td>\n",
        "            **classes[2]**\n",
        "        </td>\n",
        "        <td>\n",
        "           7\n",
        "        </td>\n",
        "    </tr>\n",
        "        <tr>\n",
        "        <td>\n",
        "            **scores.shape**\n",
        "        </td>\n",
        "        <td>\n",
        "           (?,)\n",
        "        </td>\n",
        "    </tr>\n",
        "    <tr>\n",
        "        <td>\n",
        "            **boxes.shape**\n",
        "        </td>\n",
        "        <td>\n",
        "           (?, 4)\n",
        "        </td>\n",
        "    </tr>\n",
        "    <tr>\n",
        "        <td>\n",
        "            **classes.shape**\n",
        "        </td>\n",
        "        <td>\n",
        "           (?,)\n",
        "        </td>\n",
        "    </tr>\n",
        "</table>"
      ]
    },
    {
      "cell_type": "markdown",
      "metadata": {
        "id": "zMv65QAmDudo",
        "colab_type": "text"
      },
      "source": [
        "**Note** In the test for `yolo_filter_boxes`, we're using random numbers to test the function.  In real data, the `box_class_probs` would contain non-zero values between 0 and 1 for the probabilities.  The box coordinates in `boxes` would also be chosen so that lengths and heights are non-negative."
      ]
    },
    {
      "cell_type": "markdown",
      "metadata": {
        "id": "g1Qzt8tXDvMP",
        "colab_type": "text"
      },
      "source": [
        "### 2.3 - Non-max suppression"
      ]
    },
    {
      "cell_type": "markdown",
      "metadata": {
        "id": "wBJvch0EDx_Z",
        "colab_type": "text"
      },
      "source": [
        "Even after filtering by thresholding over the class scores, you still end up with a lot of overlapping boxes. A second filter for selecting the right boxes is called non-maximum suppression (NMS). "
      ]
    },
    {
      "cell_type": "markdown",
      "metadata": {
        "id": "XVVmaUaUD0I_",
        "colab_type": "text"
      },
      "source": [
        "<img src='https://github.com/rahiakela/img-repo/blob/master/deep-learning-specialization/non-max-suppression.png?raw=1' width='800'/>\n",
        "<caption><center> <u> **Figure 7** </u>: In this example, the model has predicted 3 cars, but it's actually 3 predictions of the same car. Running non-max suppression (NMS) will select only the most accurate (highest probability) of the 3 boxes. <br> </center></caption>\n"
      ]
    },
    {
      "cell_type": "markdown",
      "metadata": {
        "id": "Rh0_rqg9EDUn",
        "colab_type": "text"
      },
      "source": [
        "Non-max suppression uses the very important function called **\"Intersection over Union\"**, or IoU.\n",
        "<img src='https://github.com/rahiakela/img-repo/blob/master/deep-learning-specialization/iou.png?raw=1' width='800'/>\n",
        "<caption><center> <u> **Figure 8** </u>: Definition of \"Intersection over Union\". <br> </center></caption>"
      ]
    },
    {
      "cell_type": "markdown",
      "metadata": {
        "id": "ksKUtn_WERRZ",
        "colab_type": "text"
      },
      "source": [
        "#### **Exercise**: Implement iou(). Some hints:"
      ]
    },
    {
      "cell_type": "markdown",
      "metadata": {
        "id": "j5JdwOtCER5U",
        "colab_type": "text"
      },
      "source": [
        "- In this code, we use the convention that (0,0) is the top-left corner of an image, (1,0) is the upper-right corner, and (1,1) is the lower-right corner. In other words, the (0,0) origin starts at the top left corner of the image. As x increases, we move to the right.  As y increases, we move down.\n",
        "- For this exercise, we define a box using its two corners: upper left $(x_1, y_1)$ and lower right $(x_2,y_2)$, instead of using the midpoint, height and width. (This makes it a bit easier to calculate the intersection).\n",
        "- To calculate the area of a rectangle, multiply its height $(y_2 - y_1)$ by its width $(x_2 - x_1)$. (Since $(x_1,y_1)$ is the top left and $x_2,y_2$ are the bottom right, these differences should be non-negative.\n",
        "- To find the **intersection** of the two boxes $(xi_{1}, yi_{1}, xi_{2}, yi_{2})$: \n",
        "    - Feel free to draw some examples on paper to clarify this conceptually.\n",
        "    - The top left corner of the intersection $(xi_{1}, yi_{1})$ is found by comparing the top left corners $(x_1, y_1)$ of the two boxes and finding a vertex that has an x-coordinate that is closer to the right, and y-coordinate that is closer to the bottom.\n",
        "    - The bottom right corner of the intersection $(xi_{2}, yi_{2})$ is found by comparing the bottom right corners $(x_2,y_2)$ of the two boxes and finding a vertex whose x-coordinate is closer to the left, and the y-coordinate that is closer to the top.\n",
        "    - The two boxes **may have no intersection**.  You can detect this if the intersection coordinates you calculate end up being the top right and/or bottom left corners of an intersection box.  Another way to think of this is if you calculate the height $(y_2 - y_1)$ or width $(x_2 - x_1)$ and find that at least one of these lengths is negative, then there is no intersection (intersection area is zero).  \n",
        "    - The two boxes may intersect at the **edges or vertices**, in which case the intersection area is still zero.  This happens when either the height or width (or both) of the calculated intersection is zero.\n",
        "\n",
        "\n",
        "**Additional Hints**\n",
        "\n",
        "- `xi1` = **max**imum of the x1 coordinates of the two boxes\n",
        "- `yi1` = **max**imum of the y1 coordinates of the two boxes\n",
        "- `xi2` = **min**imum of the x2 coordinates of the two boxes\n",
        "- `yi2` = **min**imum of the y2 coordinates of the two boxes\n",
        "- `inter_area` = You can use `max(height, 0)` and `max(width, 0)`"
      ]
    },
    {
      "cell_type": "code",
      "metadata": {
        "id": "_gvxBEufEaPt",
        "colab_type": "code",
        "colab": {}
      },
      "source": [
        "# FUNCTION: iou\n",
        "def iou(box1, box2):\n",
        "  '''\n",
        "  Implement the intersection over union (IoU) between box1 and box2\n",
        "    \n",
        "  Arguments:\n",
        "  box1 -- first box, list object with coordinates (box1_x1, box1_y1, box1_x2, box_1_y2)\n",
        "  box2 -- second box, list object with coordinates (box2_x1, box2_y1, box2_x2, box2_y2)\n",
        "  '''\n",
        "\n",
        "  # Assign variable names to coordinates for clarity\n",
        "  (box1_x1, box1_y1, box1_x2, box1_y2) = box1\n",
        "  (box2_x1, box2_y1, box2_x2, box2_y2) = box2\n",
        "  \n",
        "  # Calculate the (yi1, xi1, yi2, xi2) coordinates of the intersection of box1 and box2. Calculate its Area.\n",
        "  ### START CODE HERE ### (≈ 7 lines)\n",
        "  xi1 = max(box1_x1, box2_x1)\n",
        "  yi1 = max(box1_y1, box2_y1)\n",
        "  xi2 = min(box1_x2, box2_x2)\n",
        "  yi2 = min(box1_y2, box2_y2)\n",
        "  inter_width = xi2 - xi1\n",
        "  inter_height = yi2 - yi1\n",
        "  inter_area = max(inter_width, 0) * max(inter_height, 0)\n",
        "  ### END CODE HERE ###    \n",
        "\n",
        "  # Calculate the Union area by using Formula: Union(A,B) = A + B - Inter(A,B)\n",
        "  ### START CODE HERE ### (≈ 3 lines)\n",
        "  box1_area = (box1_x2 - box1_x1) * (box1_y2 - box1_y1)\n",
        "  box2_area = (box2_x2 - box2_x1) * (box2_y2 - box2_y1)\n",
        "  union_area = box1_area + box2_area - inter_area\n",
        "  ### END CODE HERE ###\n",
        "  \n",
        "  # compute the IoU\n",
        "  ### START CODE HERE ### (≈ 1 line)\n",
        "  iou = inter_area / union_area\n",
        "  ### END CODE HERE ###\n",
        "  \n",
        "  return iou"
      ],
      "execution_count": 0,
      "outputs": []
    },
    {
      "cell_type": "code",
      "metadata": {
        "id": "2ZhJsRzanoi5",
        "colab_type": "code",
        "colab": {}
      },
      "source": [
        "## Test case 1: boxes intersect\n",
        "box1 = (2, 1, 4, 3)\n",
        "box2 = (1, 2, 3, 4) \n",
        "print(\"iou for intersecting boxes = \" + str(iou(box1, box2)))\n",
        "\n",
        "## Test case 2: boxes do not intersect\n",
        "box1 = (1,2,3,4)\n",
        "box2 = (5,6,7,8)\n",
        "print(\"iou for non-intersecting boxes = \" + str(iou(box1,box2)))\n",
        "\n",
        "## Test case 3: boxes intersect at vertices only\n",
        "box1 = (1,1,2,2)\n",
        "box2 = (2,2,3,3)\n",
        "print(\"iou for boxes that only touch at vertices = \" + str(iou(box1,box2)))\n",
        "\n",
        "## Test case 4: boxes intersect at edge only\n",
        "box1 = (1,1,3,3)\n",
        "box2 = (2,3,3,4)\n",
        "print(\"iou for boxes that only touch at edges = \" + str(iou(box1,box2)))"
      ],
      "execution_count": 0,
      "outputs": []
    },
    {
      "cell_type": "markdown",
      "metadata": {
        "id": "4U2m5xGRnpNV",
        "colab_type": "text"
      },
      "source": [
        "**Expected Output**:\n",
        "\n",
        "```\n",
        "iou for intersecting boxes = 0.14285714285714285\n",
        "iou for non-intersecting boxes = 0.0\n",
        "iou for boxes that only touch at vertices = 0.0\n",
        "iou for boxes that only touch at edges = 0.0\n",
        "```"
      ]
    },
    {
      "cell_type": "markdown",
      "metadata": {
        "id": "NigWkk83nruK",
        "colab_type": "text"
      },
      "source": [
        "#### YOLO non-max suppression"
      ]
    },
    {
      "cell_type": "markdown",
      "metadata": {
        "id": "hPufNIZZnu1x",
        "colab_type": "text"
      },
      "source": [
        "You are now ready to implement non-max suppression. The key steps are: \n",
        "1. Select the box that has the highest score.\n",
        "2. Compute the overlap of this box with all other boxes, and remove boxes that overlap significantly (iou >= `iou_threshold`).\n",
        "3. Go back to step 1 and iterate until there are no more boxes with a lower score than the currently selected box.\n",
        "\n",
        "This will remove all boxes that have a large overlap with the selected boxes. Only the \"best\" boxes remain.\n",
        "\n",
        "**Exercise**: Implement yolo_non_max_suppression() using TensorFlow. TensorFlow has two built-in functions that are used to implement non-max suppression (so you don't actually need to use your `iou()` implementation):\n",
        "\n",
        "** Reference documentation ** \n",
        "\n",
        "- [tf.image.non_max_suppression()](https://www.tensorflow.org/api_docs/python/tf/image/non_max_suppression)\n",
        "```\n",
        "tf.image.non_max_suppression(\n",
        "    boxes,\n",
        "    scores,\n",
        "    max_output_size,\n",
        "    iou_threshold=0.5,\n",
        "    name=None\n",
        ")\n",
        "```\n",
        "Note that in the version of tensorflow used here, there is no parameter `score_threshold` (it's shown in the documentation for the latest version) so trying to set this value will result in an error message: *got an unexpected keyword argument 'score_threshold.*\n",
        "\n",
        "- [K.gather()](https://www.tensorflow.org/api_docs/python/tf/keras/backend/gather)  \n",
        "Even though the documentation shows `tf.keras.backend.gather()`, you can use `keras.gather()`.  \n",
        "```\n",
        "keras.gather(\n",
        "    reference,\n",
        "    indices\n",
        ")\n",
        "```"
      ]
    },
    {
      "cell_type": "code",
      "metadata": {
        "id": "6sFAOjzRn0Hm",
        "colab_type": "code",
        "colab": {}
      },
      "source": [
        ""
      ],
      "execution_count": 0,
      "outputs": []
    }
  ]
}