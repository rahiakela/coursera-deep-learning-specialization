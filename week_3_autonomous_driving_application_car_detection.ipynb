{
  "nbformat": 4,
  "nbformat_minor": 0,
  "metadata": {
    "colab": {
      "name": "week-3-autonomous_driving_application_car_detection.ipynb",
      "provenance": [],
      "toc_visible": true,
      "include_colab_link": true
    },
    "kernelspec": {
      "name": "python3",
      "display_name": "Python 3"
    }
  },
  "cells": [
    {
      "cell_type": "markdown",
      "metadata": {
        "id": "view-in-github",
        "colab_type": "text"
      },
      "source": [
        "<a href=\"https://colab.research.google.com/github/rahiakela/coursera-deep-learning-specialization/blob/course-4-convolutional-neural-networks/week_3_autonomous_driving_application_car_detection.ipynb\" target=\"_parent\"><img src=\"https://colab.research.google.com/assets/colab-badge.svg\" alt=\"Open In Colab\"/></a>"
      ]
    },
    {
      "cell_type": "markdown",
      "metadata": {
        "id": "A6tQPaOQar6f",
        "colab_type": "text"
      },
      "source": [
        "# Autonomous driving - Car detection"
      ]
    },
    {
      "cell_type": "markdown",
      "metadata": {
        "id": "AWuh3s76aujK",
        "colab_type": "text"
      },
      "source": [
        "Welcome to your week 3 programming assignment. You will learn about object detection using the very powerful YOLO model. Many of the ideas in this notebook are described in the two YOLO papers: [Redmon et al., 2016](https://arxiv.org/abs/1506.02640) and [Redmon and Farhadi, 2016](https://arxiv.org/abs/1612.08242). \n",
        "\n",
        "**You will learn to**:\n",
        "- Use object detection on a car detection dataset\n",
        "- Deal with bounding boxes"
      ]
    },
    {
      "cell_type": "markdown",
      "metadata": {
        "id": "6Csn-rQ2awyO",
        "colab_type": "text"
      },
      "source": [
        "## Import libraries"
      ]
    },
    {
      "cell_type": "code",
      "metadata": {
        "id": "nOwQ7zjecNf9",
        "colab_type": "code",
        "colab": {}
      },
      "source": [
        "import argparse\n",
        "import os\n",
        "import matplotlib.pyplot as plt\n",
        "from matplotlib.pyplot import imshow\n",
        "import scipy.io\n",
        "import scipy.misc\n",
        "import numpy as np\n",
        "import pandas as pd\n",
        "import PIL\n",
        "import tensorflow as tf\n",
        "from keras import backend as K\n",
        "from keras.layers import Input, Lambda, Conv2D\n",
        "from keras.models import load_model, Model\n",
        "from yolo_utils import read_classes, read_anchors, generate_colors, preprocess_image, draw_boxes, scale_boxes\n",
        "from yad2k.models.keras_yolo import yolo_head, yolo_boxes_to_corners, preprocess_true_boxes, yolo_loss, yolo_body\n",
        "\n",
        "%matplotlib inline"
      ],
      "execution_count": 0,
      "outputs": []
    },
    {
      "cell_type": "markdown",
      "metadata": {
        "id": "UCAEbU--cXAX",
        "colab_type": "text"
      },
      "source": [
        "**Important Note**: As you can see, we import Keras's backend as K. This means that to use a Keras function in this notebook, you will need to write: `K.function(...)`."
      ]
    },
    {
      "cell_type": "markdown",
      "metadata": {
        "id": "FtfX1GBZcZxX",
        "colab_type": "text"
      },
      "source": [
        "## 1 - Problem Statement"
      ]
    },
    {
      "cell_type": "markdown",
      "metadata": {
        "id": "rq3HD11fccVY",
        "colab_type": "text"
      },
      "source": [
        "You are working on a self-driving car. As a critical component of this project, you'd like to first build a car detection system. To collect data, you've mounted a camera to the hood (meaning the front) of the car, which takes pictures of the road ahead every few seconds while you drive around. \n",
        "\n",
        "<center>\n",
        "<video width=\"400\" height=\"200\" src=\"nb_images/road_video_compressed2.mp4\" type=\"video/mp4\" controls>\n",
        "</video>\n",
        "</center>\n",
        "\n",
        "<caption><center> Pictures taken from a car-mounted camera while driving around Silicon Valley. <br> We thank [drive.ai](htps://www.drive.ai/) for providing this dataset.\n",
        "</center></caption>\n",
        "\n",
        "You've gathered all these images into a folder and have labelled them by drawing bounding boxes around every car you found. Here's an example of what your bounding boxes look like.\n",
        "\n",
        "<img src=\"nb_images/box_label.png\" style=\"width:500px;height:250;\">\n",
        "<caption><center> <u> **Figure 1** </u>: **Definition of a box**<br> </center></caption>\n",
        "\n",
        "If you have 80 classes that you want the object detector to recognize, you can represent the class label $c$ either as an integer from 1 to 80, or as an 80-dimensional vector (with 80 numbers) one component of which is 1 and the rest of which are 0. The video lectures had used the latter representation; in this notebook, we will use both representations, depending on which is more convenient for a particular step.  \n",
        "\n",
        "In this exercise, you will learn how \"You Only Look Once\" (YOLO) performs object detection, and then apply it to car detection. Because the YOLO model is very computationally expensive to train, we will load pre-trained weights for you to use. "
      ]
    },
    {
      "cell_type": "markdown",
      "metadata": {
        "id": "Za8Kf4JpchNZ",
        "colab_type": "text"
      },
      "source": [
        "## 2 - YOLO"
      ]
    },
    {
      "cell_type": "markdown",
      "metadata": {
        "id": "WBpK_1a4dECt",
        "colab_type": "text"
      },
      "source": [
        ""
      ]
    }
  ]
}