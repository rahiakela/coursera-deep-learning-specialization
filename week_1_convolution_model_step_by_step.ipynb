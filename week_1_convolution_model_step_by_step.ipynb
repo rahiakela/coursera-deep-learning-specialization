{
  "nbformat": 4,
  "nbformat_minor": 0,
  "metadata": {
    "colab": {
      "name": "week-1-convolution_model_step_by_step.ipynb",
      "provenance": [],
      "toc_visible": true,
      "include_colab_link": true
    },
    "kernelspec": {
      "name": "python3",
      "display_name": "Python 3"
    }
  },
  "cells": [
    {
      "cell_type": "markdown",
      "metadata": {
        "id": "view-in-github",
        "colab_type": "text"
      },
      "source": [
        "<a href=\"https://colab.research.google.com/github/rahiakela/coursera-deep-learning-specialization/blob/course-4-convolutional-neural-networks/week_1_convolution_model_step_by_step.ipynb\" target=\"_parent\"><img src=\"https://colab.research.google.com/assets/colab-badge.svg\" alt=\"Open In Colab\"/></a>"
      ]
    },
    {
      "cell_type": "markdown",
      "metadata": {
        "id": "qs_VGiy-geoH",
        "colab_type": "text"
      },
      "source": [
        "# Convolutional Neural Networks: Step by Step"
      ]
    },
    {
      "cell_type": "markdown",
      "metadata": {
        "id": "hXr2tgMCgfLQ",
        "colab_type": "text"
      },
      "source": [
        "Welcome to Course 4's first assignment! In this assignment, you will implement convolutional (CONV) and pooling (POOL) layers in numpy, including both forward propagation and (optionally) backward propagation. \n",
        "\n",
        "**Notation**:\n",
        "- Superscript $[l]$ denotes an object of the $l^{th}$ layer. \n",
        "    - Example: $a^{[4]}$ is the $4^{th}$ layer activation. $W^{[5]}$ and $b^{[5]}$ are the $5^{th}$ layer parameters.\n",
        "\n",
        "\n",
        "- Superscript $(i)$ denotes an object from the $i^{th}$ example. \n",
        "    - Example: $x^{(i)}$ is the $i^{th}$ training example input.\n",
        "    \n",
        "    \n",
        "- Subscript $i$ denotes the $i^{th}$ entry of a vector.\n",
        "    - Example: $a^{[l]}_i$ denotes the $i^{th}$ entry of the activations in layer $l$, assuming this is a fully connected (FC) layer.\n",
        "    \n",
        "    \n",
        "- $n_H$, $n_W$ and $n_C$ denote respectively the height, width and number of channels of a given layer. If you want to reference a specific layer $l$, you can also write $n_H^{[l]}$, $n_W^{[l]}$, $n_C^{[l]}$. \n",
        "- $n_{H_{prev}}$, $n_{W_{prev}}$ and $n_{C_{prev}}$ denote respectively the height, width and number of channels of the previous layer. If referencing a specific layer $l$, this could also be denoted $n_H^{[l-1]}$, $n_W^{[l-1]}$, $n_C^{[l-1]}$. \n",
        "\n",
        "We assume that you are already familiar with `numpy` and/or have completed the previous courses of the specialization. Let's get started!"
      ]
    },
    {
      "cell_type": "markdown",
      "metadata": {
        "id": "RpyN5Qdkgkeg",
        "colab_type": "text"
      },
      "source": [
        "## 1 - Packages"
      ]
    },
    {
      "cell_type": "markdown",
      "metadata": {
        "id": "ziJcsGUzgrxK",
        "colab_type": "text"
      },
      "source": [
        "Let's first import all the packages that you will need during this assignment. \n",
        "- [numpy](www.numpy.org) is the fundamental package for scientific computing with Python.\n",
        "- [matplotlib](http://matplotlib.org) is a library to plot graphs in Python.\n",
        "- np.random.seed(1) is used to keep all the random function calls consistent. It will help us grade your work."
      ]
    },
    {
      "cell_type": "code",
      "metadata": {
        "id": "0wpSoVQpgvlp",
        "colab_type": "code",
        "colab": {}
      },
      "source": [
        "import numpy as np\n",
        "import h5py\n",
        "import matplotlib.pyplot as plt\n",
        "\n",
        "%matplotlib inline\n",
        "plt.rcParams['figure.figsize'] = (5.0, 4.0) # set default size of plots\n",
        "plt.rcParams['image.interpolation'] = 'nearest'\n",
        "plt.rcParams['image.cmap'] = 'gray'\n",
        "\n",
        "%load_ext autoreload\n",
        "%autoreload 2\n",
        "\n",
        "np.random.seed(1)"
      ],
      "execution_count": 0,
      "outputs": []
    },
    {
      "cell_type": "markdown",
      "metadata": {
        "id": "etMa5LUgg4Ht",
        "colab_type": "text"
      },
      "source": [
        "## 2 - Outline of the Assignment"
      ]
    },
    {
      "cell_type": "markdown",
      "metadata": {
        "id": "iap3d1D3g4q9",
        "colab_type": "text"
      },
      "source": [
        "You will be implementing the building blocks of a convolutional neural network! Each function you will implement will have detailed instructions that will walk you through the steps needed:\n",
        "\n",
        "- Convolution functions, including:\n",
        "    - Zero Padding\n",
        "    - Convolve window \n",
        "    - Convolution forward\n",
        "    - Convolution backward (optional)\n",
        "- Pooling functions, including:\n",
        "    - Pooling forward\n",
        "    - Create mask \n",
        "    - Distribute value\n",
        "    - Pooling backward (optional)\n",
        "    \n",
        "This notebook will ask you to implement these functions from scratch in `numpy`. In the next notebook, you will use the TensorFlow equivalents of these functions to build the following model:\n",
        "\n",
        "<img src='https://github.com/rahiakela/img-repo/blob/master/deep-learning-specialization/model.png?raw=1' width='800'/>\n",
        "\n",
        "**Note** that for every forward function, there is its corresponding backward equivalent. Hence, at every step of your forward module you will store some parameters in a cache. These parameters are used to compute gradients during backpropagation. "
      ]
    },
    {
      "cell_type": "markdown",
      "metadata": {
        "id": "ijg_YjWiid4i",
        "colab_type": "text"
      },
      "source": [
        "## 3 - Convolutional Neural Networks"
      ]
    },
    {
      "cell_type": "markdown",
      "metadata": {
        "id": "jcCJDUWTiefs",
        "colab_type": "text"
      },
      "source": [
        "Although programming frameworks make convolutions easy to use, they remain one of the hardest concepts to understand in Deep Learning. A convolution layer transforms an input volume into an output volume of different size, as shown below. \n",
        "\n",
        "<img src='https://github.com/rahiakela/img-repo/blob/master/deep-learning-specialization/conv_nn.png?raw=1' width='800'/>\n",
        "\n",
        "In this part, you will build every step of the convolution layer. You will first implement two helper functions: one for zero padding and the other for computing the convolution function itself. "
      ]
    },
    {
      "cell_type": "markdown",
      "metadata": {
        "id": "ErcgmlYoiqhV",
        "colab_type": "text"
      },
      "source": [
        "### 3.1 - Zero-Padding"
      ]
    },
    {
      "cell_type": "markdown",
      "metadata": {
        "id": "ItTepe46iwJF",
        "colab_type": "text"
      },
      "source": [
        "Zero-padding adds zeros around the border of an image:\n",
        "\n",
        "<img src='https://github.com/rahiakela/img-repo/blob/master/deep-learning-specialization/PAD.png?raw=1' width='800'/>\n",
        "<caption><center> <u> <font color='purple'> **Figure 1** </u><font color='purple'>  : **Zero-Padding**<br> Image (3 channels, RGB) with a padding of 2. </center></caption>\n",
        "\n",
        "The main benefits of padding are the following:\n",
        "\n",
        "- It allows you to use a CONV layer without necessarily shrinking the height and width of the volumes. This is important for building deeper networks, since otherwise the height/width would shrink as you go to deeper layers. An important special case is the \"same\" convolution, in which the height/width is exactly preserved after one layer. \n",
        "\n",
        "- It helps us keep more of the information at the border of an image. Without padding, very few values at the next layer would be affected by pixels as the edges of an image.\n",
        "\n",
        "**Exercise**: Implement the following function, which pads all the images of a batch of examples X with zeros. [Use np.pad](https://docs.scipy.org/doc/numpy/reference/generated/numpy.pad.html). Note if you want to pad the array \"a\" of shape $(5,5,5,5,5)$ with `pad = 1` for the 2nd dimension, `pad = 3` for the 4th dimension and `pad = 0` for the rest, you would do:\n",
        "```python\n",
        "a = np.pad(a, ((0,0), (1,1), (0,0), (3,3), (0,0)), mode='constant', constant_values = (0,0))\n",
        "```"
      ]
    },
    {
      "cell_type": "code",
      "metadata": {
        "id": "CgognB_Li9eQ",
        "colab_type": "code",
        "colab": {}
      },
      "source": [
        "# FUNCTION: zero_pad\n",
        "def zero_pad(X, pad):\n",
        "  '''\n",
        "  Pad with zeros all images of the dataset X. The padding is applied to the height and width of an image, \n",
        "  as illustrated in Figure 1.\n",
        "  \n",
        "  Argument:\n",
        "  X -- python numpy array of shape (m, n_H, n_W, n_C) representing a batch of m images\n",
        "  pad -- integer, amount of padding around each image on vertical and horizontal dimensions\n",
        "  \n",
        "  Returns:\n",
        "  X_pad -- padded image of shape (m, n_H + 2*pad, n_W + 2*pad, n_C)\n",
        "  '''\n",
        "\n",
        "  ### START CODE HERE ### (≈ 1 line)\n",
        "  X_pad = np.pad(X, ((0, 0), (pad, pad), (pad, pad), (0, 0)), 'constant', constant_values=(2,2))\n",
        "  ### END CODE HERE ###\n",
        "\n",
        "  return X_pad"
      ],
      "execution_count": 0,
      "outputs": []
    },
    {
      "cell_type": "code",
      "metadata": {
        "id": "B8e8ql0IsPbP",
        "colab_type": "code",
        "colab": {}
      },
      "source": [
        "np.random.seed(1)\n",
        "\n",
        "x = np.random.randn(4, 3, 3, 2)\n",
        "x_pad = zero_pad(x, 2)\n",
        "\n",
        "print(f'x.shape =\\n{x.shape}')\n",
        "print(f'x_pad.shape =\\n{x_pad.shape}')\n",
        "print(f'x[1,1] =\\n{x[1, 1]}')\n",
        "print(f'x_pad[1,1] =\\n{x_pad[1, 1]}')\n",
        "\n",
        "fig, axarr = plt.subplots(1, 2)\n",
        "axarr[0].set_title('x')\n",
        "axarr[0].imshow(x[0, :, :, 0])\n",
        "axarr[1].set_title('x_pad')\n",
        "axarr[1].imshow(x_pad[0, :, :, 0])"
      ],
      "execution_count": 0,
      "outputs": []
    },
    {
      "cell_type": "markdown",
      "metadata": {
        "id": "dtN0ApNDtk1a",
        "colab_type": "text"
      },
      "source": [
        "**Expected Output**:\n",
        "\n",
        "```\n",
        "x.shape =\n",
        " (4, 3, 3, 2)\n",
        "x_pad.shape =\n",
        " (4, 7, 7, 2)\n",
        "x[1,1] =\n",
        " [[ 0.90085595 -0.68372786]\n",
        " [-0.12289023 -0.93576943]\n",
        " [-0.26788808  0.53035547]]\n",
        "x_pad[1,1] =\n",
        " [[ 0.  0.]\n",
        " [ 0.  0.]\n",
        " [ 0.  0.]\n",
        " [ 0.  0.]\n",
        " [ 0.  0.]\n",
        " [ 0.  0.]\n",
        " [ 0.  0.]]\n",
        "```"
      ]
    },
    {
      "cell_type": "markdown",
      "metadata": {
        "id": "Q1aWzCQjtns5",
        "colab_type": "text"
      },
      "source": [
        "### 3.2 - Single step of convolution "
      ]
    },
    {
      "cell_type": "markdown",
      "metadata": {
        "id": "GhQjlAhptryC",
        "colab_type": "text"
      },
      "source": [
        "In this part, implement a single step of convolution, in which you apply the filter to a single position of the input. This will be used to build a convolutional unit, which: \n",
        "\n",
        "- Takes an input volume \n",
        "- Applies a filter at every position of the input\n",
        "- Outputs another volume (usually of different size)\n",
        "\n",
        "<img src='https://github.com/rahiakela/img-repo/blob/master/deep-learning-specialization/Convolution_schematic.gif?raw=1' width='800'/>\n",
        "<caption><center> <u> <font color='purple'> **Figure 2** </u><font color='purple'>  : **Convolution operation**<br> with a filter of 3x3 and a stride of 1 (stride = amount you move the window each time you slide) </center></caption>\n",
        "\n",
        "In a computer vision application, each value in the matrix on the left corresponds to a single pixel value, and we convolve a 3x3 filter with the image by multiplying its values element-wise with the original matrix, then summing them up and adding a bias. In this first step of the exercise, you will implement a single step of convolution, corresponding to applying a filter to just one of the positions to get a single real-valued output. \n",
        "\n",
        "Later in this notebook, you'll apply this function to multiple positions of the input to implement the full convolutional operation. \n",
        "\n",
        "**Exercise**: Implement conv_single_step(). [Hint](https://docs.scipy.org/doc/numpy-1.13.0/reference/generated/numpy.sum.html)."
      ]
    },
    {
      "cell_type": "markdown",
      "metadata": {
        "id": "UPUaAf5dt7oj",
        "colab_type": "text"
      },
      "source": [
        "**Note**: The variable b will be passed in as a numpy array.  If we add a scalar (a float or integer) to a numpy array, the result is a numpy array.  In the special case when a numpy array contains a single value, we can cast it as a float to convert it to a scalar."
      ]
    },
    {
      "cell_type": "code",
      "metadata": {
        "id": "7nR-Rnbxt-ij",
        "colab_type": "code",
        "colab": {}
      },
      "source": [
        "# FUNCTION: conv_single_step\n",
        "def conv_single_step(a_slice_prev, W, b):\n",
        "  '''\n",
        "  Apply one filter defined by parameters W on a single slice (a_slice_prev) of the output activation \n",
        "  of the previous layer.\n",
        "  \n",
        "  Arguments:\n",
        "  a_slice_prev -- slice of input data of shape (f, f, n_C_prev)\n",
        "  W -- Weight parameters contained in a window - matrix of shape (f, f, n_C_prev)\n",
        "  b -- Bias parameters contained in a window - matrix of shape (1, 1, 1)\n",
        "  \n",
        "  Returns:\n",
        "  Z -- a scalar value, the result of convolving the sliding window (W, b) on a slice x of the input data\n",
        "  '''\n",
        "\n",
        "  ### START CODE HERE ### (≈ 2 lines of code)\n",
        "  # Element-wise product between a_slice_prev and W. Do not add the bias yet.\n",
        "  s = a_slice_prev * W\n",
        "  # Sum over all entries of the volume s.\n",
        "  Z = np.sum(s)\n",
        "  # Add bias b to Z. Cast b to a float() so that Z results in a scalar value.\n",
        "  Z = (Z + b).astype(np.float32)\n",
        "  ### END CODE HERE ###\n",
        "\n",
        "  return Z"
      ],
      "execution_count": 0,
      "outputs": []
    },
    {
      "cell_type": "code",
      "metadata": {
        "id": "03cWP-2ourOm",
        "colab_type": "code",
        "colab": {}
      },
      "source": [
        "np.random.seed(1)\n",
        "\n",
        "a_slice_prev = np.random.randn(4, 4, 3)\n",
        "W = np.random.randn(4, 4, 3)\n",
        "b = np.random.randn(1, 1, 1)\n",
        "\n",
        "Z = conv_single_step(a_slice_prev, W, b)\n",
        "print(f'Z = {str(Z)}')"
      ],
      "execution_count": 0,
      "outputs": []
    },
    {
      "cell_type": "markdown",
      "metadata": {
        "id": "cOVQ4tJzvBrX",
        "colab_type": "text"
      },
      "source": [
        "**Expected Output**:\n",
        "<table>\n",
        "    <tr>\n",
        "        <td>\n",
        "            **Z**\n",
        "        </td>\n",
        "        <td>\n",
        "            -6.99908945068\n",
        "        </td>\n",
        "    </tr>\n",
        "</table>"
      ]
    },
    {
      "cell_type": "markdown",
      "metadata": {
        "id": "_bxdY2civFV_",
        "colab_type": "text"
      },
      "source": [
        "### 3.3 - Convolutional Neural Networks - Forward pass"
      ]
    },
    {
      "cell_type": "markdown",
      "metadata": {
        "id": "0WatoweqvIFC",
        "colab_type": "text"
      },
      "source": [
        "In the forward pass, you will take many filters and convolve them on the input. Each 'convolution' gives you a 2D matrix output. You will then stack these outputs to get a 3D volume: \n",
        "\n",
        "<center>\n",
        "<video width=\"620\" height=\"440\" src=\"images/conv_kiank.mp4\" type=\"video/mp4\" controls>\n",
        "</video>\n",
        "</center>\n",
        "\n",
        "**Exercise**: \n",
        "Implement the function below to convolve the filters `W` on an input activation `A_prev`.  \n",
        "This function takes the following inputs:\n",
        "* `A_prev`, the activations output by the previous layer (for a batch of m inputs); \n",
        "* Weights are denoted by `W`.  The filter window size is `f` by `f`.\n",
        "* The bias vector is `b`, where each filter has its own (single) bias. \n",
        "\n",
        "Finally you also have access to the hyperparameters dictionary which contains the stride and the padding. \n",
        "\n",
        "**Hint**: \n",
        "1. To select a 2x2 slice at the upper left corner of a matrix \"a_prev\" (shape (5,5,3)), you would do:\n",
        "```python\n",
        "a_slice_prev = a_prev[0:2,0:2,:]\n",
        "```\n",
        "Notice how this gives a 3D slice that has height 2, width 2, and depth 3.  Depth is the number of channels.  \n",
        "This will be useful when you will define `a_slice_prev` below, using the `start/end` indexes you will define.\n",
        "2. To define a_slice you will need to first define its corners `vert_start`, `vert_end`, `horiz_start` and `horiz_end`. This figure may be helpful for you to find out how each of the corner can be defined using h, w, f and s in the code below.\n",
        "\n",
        "<img src='https://github.com/rahiakela/img-repo/blob/master/deep-learning-specialization/vert_horiz_kiank.png?raw=1' width='800'/>\n",
        "<caption><center> <u> <font color='purple'> **Figure 3** </u><font color='purple'>  : **Definition of a slice using vertical and horizontal start/end (with a 2x2 filter)** <br> This figure shows only a single channel.  </center></caption>\n",
        "\n",
        "\n",
        "**Reminder**:\n",
        "The formulas relating the output shape of the convolution to the input shape is:\n",
        "$$ n_H = \\lfloor \\frac{n_{H_{prev}} - f + 2 \\times pad}{stride} \\rfloor +1 $$\n",
        "$$ n_W = \\lfloor \\frac{n_{W_{prev}} - f + 2 \\times pad}{stride} \\rfloor +1 $$\n",
        "$$ n_C = \\text{number of filters used in the convolution}$$\n",
        "\n",
        "For this exercise, we won't worry about vectorization, and will just implement everything with for-loops."
      ]
    },
    {
      "cell_type": "code",
      "metadata": {
        "id": "rG-AjOFovYrE",
        "colab_type": "code",
        "colab": {}
      },
      "source": [
        "# FUNCTION: conv_forward\n",
        "def conv_forward(A_prev, W, b, hparameters):\n",
        "  '''\n",
        "  Implements the forward propagation for a convolution function\n",
        "    \n",
        "  Arguments:\n",
        "  A_prev -- output activations of the previous layer, \n",
        "      numpy array of shape (m, n_H_prev, n_W_prev, n_C_prev)\n",
        "  W -- Weights, numpy array of shape (f, f, n_C_prev, n_C)\n",
        "  b -- Biases, numpy array of shape (1, 1, 1, n_C)\n",
        "  hparameters -- python dictionary containing \"stride\" and \"pad\"\n",
        "      \n",
        "  Returns:\n",
        "  Z -- conv output, numpy array of shape (m, n_H, n_W, n_C)\n",
        "  cache -- cache of values needed for the conv_backward() function\n",
        "  '''\n",
        "\n",
        "  "
      ],
      "execution_count": 0,
      "outputs": []
    }
  ]
}