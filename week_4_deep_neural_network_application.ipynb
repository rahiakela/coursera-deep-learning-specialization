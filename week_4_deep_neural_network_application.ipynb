{
  "nbformat": 4,
  "nbformat_minor": 0,
  "metadata": {
    "colab": {
      "name": "week-4-deep-neural-network-application.ipynb",
      "provenance": [],
      "toc_visible": true,
      "include_colab_link": true
    },
    "kernelspec": {
      "name": "python3",
      "display_name": "Python 3"
    }
  },
  "cells": [
    {
      "cell_type": "markdown",
      "metadata": {
        "id": "view-in-github",
        "colab_type": "text"
      },
      "source": [
        "<a href=\"https://colab.research.google.com/github/rahiakela/coursera-deep-learning-specialization/blob/course-1-neural-networks-and-deep-learning/week_4_deep_neural_network_application.ipynb\" target=\"_parent\"><img src=\"https://colab.research.google.com/assets/colab-badge.svg\" alt=\"Open In Colab\"/></a>"
      ]
    },
    {
      "cell_type": "markdown",
      "metadata": {
        "id": "JXRqisD-t3YM",
        "colab_type": "text"
      },
      "source": [
        "# Deep Neural Network for Image Classification: Application"
      ]
    },
    {
      "cell_type": "markdown",
      "metadata": {
        "id": "DG5dLAFJt4Ep",
        "colab_type": "text"
      },
      "source": [
        "Congratulations! Welcome to the fourth programming exercise of the deep learning specialization. You will now use everything you have learned to build a deep neural network that classifies cat vs. non-cat images.\n",
        "\n",
        "<img src='https://github.com/rahiakela/img-repo/blob/master/deep-learning-specialization/cat-vs-not-cat.png?raw=1' width='800'/>\n",
        "\n",
        "In the second exercise, you used logistic regression to build cat vs. non-cat images and got a 68% accuracy. Your algorithm will now give you an 80% accuracy! By completing this assignment, you will:\n",
        "\n",
        "- Learn how to use all the helper functions you built in the previous assignment to build a model of any structure you want.\n",
        "\n",
        "- Experiment with different model architectures and see how each one behaves.\n",
        "\n",
        "- Recognize that it is always easier to build your helper functions before attempting to build a neural network from scratch.\n",
        "\n",
        "This assignment prepares you well for the next course which dives deep into the techniques and strategies for parameters tuning and initializations. Take your time to complete this assignment and make sure you get the expected outputs when working through the different exercises.\n",
        "\n",
        "When you finish this, you will have finished the last programming assignment of Week 4, and also the last programming assignment of this course! \n",
        "\n",
        "You will use the functions you'd implemented in the previous assignment to build a deep network, and apply it to cat vs non-cat classification. Hopefully, you will see an improvement in accuracy relative to your previous logistic regression implementation.  \n",
        "\n",
        "**After this assignment you will be able to:**\n",
        "- Build and apply a deep neural network to supervised learning. \n",
        "\n",
        "Let's get started!"
      ]
    },
    {
      "cell_type": "markdown",
      "metadata": {
        "id": "Gd8dv9D3uC_U",
        "colab_type": "text"
      },
      "source": [
        "## 1 - Packages"
      ]
    },
    {
      "cell_type": "markdown",
      "metadata": {
        "id": "0V5S0PoVuGE-",
        "colab_type": "text"
      },
      "source": [
        "Let's first import all the packages that you will need during this assignment. \n",
        "- [numpy](https://www.numpy.org/) is the fundamental package for scientific computing with Python.\n",
        "- [matplotlib](http://matplotlib.org) is a library to plot graphs in Python.\n",
        "- [h5py](http://www.h5py.org) is a common package to interact with a dataset that is stored on an H5 file.\n",
        "- [PIL](http://www.pythonware.com/products/pil/) and [scipy](https://www.scipy.org/) are used here to test your model with your own picture at the end.\n",
        "- dnn_app_utils provides the functions implemented in the \"Building your Deep Neural Network: Step by Step\" assignment to this notebook.\n",
        "- np.random.seed(1) is used to keep all the random function calls consistent. It will help us grade your work."
      ]
    },
    {
      "cell_type": "code",
      "metadata": {
        "id": "kiNTIgnzuDow",
        "colab_type": "code",
        "colab": {}
      },
      "source": [
        "import time\n",
        "import numpy as np\n",
        "import h5py\n",
        "import matplotlib.pyplot as plt\n",
        "import scipy\n",
        "from PIL import Image\n",
        "from scipy import ndimage\n",
        "from dnn_app_utils_v3 import *\n",
        "\n",
        "%matplotlib inline\n",
        "plt.rcParams['figure.figsize'] = (5.0, 4.0) # set default size of plots\n",
        "plt.rcParams['image.interpolation'] = 'nearest'\n",
        "plt.rcParams['image.cmap'] = 'gray'\n",
        "\n",
        "%load_ext autoreload\n",
        "%autoreload 2\n",
        "\n",
        "np.random.seed(1)"
      ],
      "execution_count": 0,
      "outputs": []
    },
    {
      "cell_type": "markdown",
      "metadata": {
        "id": "qKdVhumfZZgs",
        "colab_type": "text"
      },
      "source": [
        "## 2 - Dataset"
      ]
    },
    {
      "cell_type": "markdown",
      "metadata": {
        "id": "W_CqR8rZZaHz",
        "colab_type": "text"
      },
      "source": [
        "You will use the same \"Cat vs non-Cat\" dataset as in \"Logistic Regression as a Neural Network\" (Assignment 2). The model you had built had 70% test accuracy on classifying cats vs non-cats images. Hopefully, your new model will perform a better!\n",
        "\n",
        "**Problem Statement**: You are given a dataset (\"data.h5\") containing:\n",
        "    - a training set of m_train images labelled as cat (1) or non-cat (0)\n",
        "    - a test set of m_test images labelled as cat and non-cat\n",
        "    - each image is of shape (num_px, num_px, 3) where 3 is for the 3 channels (RGB).\n",
        "\n",
        "Let's get more familiar with the dataset. Load the data by running the cell below."
      ]
    },
    {
      "cell_type": "code",
      "metadata": {
        "id": "3VUugFSAZdo2",
        "colab_type": "code",
        "colab": {}
      },
      "source": [
        "train_x_orig, train_y, test_x_orig, test_y, classes = load_data()"
      ],
      "execution_count": 0,
      "outputs": []
    },
    {
      "cell_type": "markdown",
      "metadata": {
        "id": "0JPNHXLibWt0",
        "colab_type": "text"
      },
      "source": [
        "The following code will show you an image in the dataset. Feel free to change the index and re-run the cell multiple times to see other images. "
      ]
    },
    {
      "cell_type": "code",
      "metadata": {
        "id": "dnHpipH0aBCr",
        "colab_type": "code",
        "outputId": "43669d34-80fe-4066-b215-15920b5ee43c",
        "colab": {
          "base_uri": "https://localhost:8080/",
          "height": 286
        }
      },
      "source": [
        "# Example of a picture\n",
        "index = 10\n",
        "plt.imshow(train_x_orig[index])\n",
        "print(f'y = {str(train_y[0, index])}. It is a {str(classes[train_y[0, index]].decode(\"utf-8\"))} picture.')"
      ],
      "execution_count": 4,
      "outputs": [
        {
          "output_type": "stream",
          "text": [
            "y = 0. It is a non-cat picture.\n"
          ],
          "name": "stdout"
        },
        {
          "output_type": "display_data",
          "data": {
            "image/png": "[encoded data removed]",
            "text/plain": [
              "<Figure size 360x288 with 1 Axes>"
            ]
          },
          "metadata": {
            "tags": []
          }
        }
      ]
    },
    {
      "cell_type": "code",
      "metadata": {
        "id": "A_S4cEFqb3ql",
        "colab_type": "code",
        "outputId": "09fd619c-f845-4f5d-ccbe-b76e50548e48",
        "colab": {
          "base_uri": "https://localhost:8080/",
          "height": 141
        }
      },
      "source": [
        "# Explore your dataset\n",
        "m_train = train_x_orig.shape[0]\n",
        "num_px = train_x_orig.shape[1]\n",
        "m_test = test_x_orig.shape[0]\n",
        "\n",
        "print(f'Number of training examples: {str(m_train)}')\n",
        "print(f'Number of testing examples: {str(m_test)}')\n",
        "print(f'Each image is of size: ({str(num_px)}, {str(num_px)}, 3')\n",
        "print(f'train_x_orig shape: {str(train_x_orig.shape)}')\n",
        "print(f'train_y shape: {str(train_y.shape)}')\n",
        "print(f'test_x_orig shape: {str(test_x_orig.shape)}')\n",
        "print(f'test_y shape: {str(test_y.shape)}')"
      ],
      "execution_count": 5,
      "outputs": [
        {
          "output_type": "stream",
          "text": [
            "Number of training examples: 209\n",
            "Number of testing examples: 50\n",
            "Each image is of size: (64, 64, 3\n",
            "train_x_orig shape: (209, 64, 64, 3)\n",
            "train_y shape: (1, 209)\n",
            "test_x_orig shape: (50, 64, 64, 3)\n",
            "test_y shape: (1, 50)\n"
          ],
          "name": "stdout"
        }
      ]
    },
    {
      "cell_type": "markdown",
      "metadata": {
        "id": "Akh5VGmveEaF",
        "colab_type": "text"
      },
      "source": [
        "As usual, you reshape and standardize the images before feeding them to the network. The code is given in the cell below.\n",
        "\n",
        "<img src='https://github.com/rahiakela/img-repo/blob/master/deep-learning-specialization/imvectorkiank.png?raw=1' width='800'/>\n",
        "\n",
        "<caption><center> <u>Figure 1</u>: Image to vector conversion. <br> </center></caption>"
      ]
    },
    {
      "cell_type": "code",
      "metadata": {
        "id": "RmrwOYGUdVJf",
        "colab_type": "code",
        "outputId": "4f07f243-523a-40ce-eff3-a46e2bc723be",
        "colab": {
          "base_uri": "https://localhost:8080/",
          "height": 52
        }
      },
      "source": [
        "# Reshape the training and test examples\n",
        "train_x_flatten = train_x_orig.reshape(train_x_orig.shape[0], -1).T # The \"-1\" makes reshape flatten the remaining dimensions\n",
        "#train_x_flatten = train_x_orig.reshape(train_x_orig.shape[0], train_x_orig.shape[1] * train_x_orig.shape[2] * train_x_orig.shape[3]).T\n",
        "test_x_flatten = test_x_orig.reshape(test_x_orig.shape[0], -1).T\n",
        "\n",
        "# Standardize/scale data to have feature values between 0 and 1.\n",
        "train_x = train_x_flatten / 255.0\n",
        "test_x = test_x_flatten / 255.0\n",
        "\n",
        "print(f'train_x shape: {str(train_x.shape)}')\n",
        "print(f'test_x shape: {str(test_x.shape)}')"
      ],
      "execution_count": 6,
      "outputs": [
        {
          "output_type": "stream",
          "text": [
            "train_x shape: (12288, 209)\n",
            "test_x shape: (12288, 50)\n"
          ],
          "name": "stdout"
        }
      ]
    },
    {
      "cell_type": "markdown",
      "metadata": {
        "id": "zIJT1QgKf96o",
        "colab_type": "text"
      },
      "source": [
        "$12,288$ equals $64 \\times 64 \\times 3$ which is the size of one reshaped image vector."
      ]
    },
    {
      "cell_type": "markdown",
      "metadata": {
        "id": "NbVfy1HDj4ek",
        "colab_type": "text"
      },
      "source": [
        "## 3 - Architecture of your model"
      ]
    },
    {
      "cell_type": "markdown",
      "metadata": {
        "id": "jQ56B0J3j5h1",
        "colab_type": "text"
      },
      "source": [
        "Now that you are familiar with the dataset, it is time to build a deep neural network to distinguish cat images from non-cat images.\n",
        "\n",
        "You will build two different models:\n",
        "- A 2-layer neural network\n",
        "- An L-layer deep neural network\n",
        "\n",
        "You will then compare the performance of these models, and also try out different values for $L$. \n",
        "\n",
        "Let's look at the two architectures."
      ]
    },
    {
      "cell_type": "markdown",
      "metadata": {
        "id": "Znqq4jDQkEiN",
        "colab_type": "text"
      },
      "source": [
        "### 3.1 - 2-layer neural network"
      ]
    },
    {
      "cell_type": "markdown",
      "metadata": {
        "id": "PyMZ12omkGy4",
        "colab_type": "text"
      },
      "source": [
        "<img src='https://github.com/rahiakela/img-repo/blob/master/deep-learning-specialization/2layerNN_kiank.png?raw=1' width='800'/>\n",
        "<caption><center> <u>Figure 2</u>: 2-layer neural network. <br> The model can be summarized as: ***INPUT -> LINEAR -> RELU -> LINEAR -> SIGMOID -> OUTPUT***. </center></caption>\n",
        "\n",
        "<u>Detailed Architecture of figure 2</u>:\n",
        "- The input is a (64,64,3) image which is flattened to a vector of size $(12288,1)$. \n",
        "- The corresponding vector: $[x_0,x_1,...,x_{12287}]^T$ is then multiplied by the weight matrix $W^{[1]}$ of size $(n^{[1]}, 12288)$.\n",
        "- You then add a bias term and take its relu to get the following vector: $[a_0^{[1]}, a_1^{[1]},..., a_{n^{[1]}-1}^{[1]}]^T$.\n",
        "- You then repeat the same process.\n",
        "- You multiply the resulting vector by $W^{[2]}$ and add your intercept (bias). \n",
        "- Finally, you take the sigmoid of the result. If it is greater than 0.5, you classify it to be a cat."
      ]
    },
    {
      "cell_type": "markdown",
      "metadata": {
        "id": "XJZu9l-OkJ5V",
        "colab_type": "text"
      },
      "source": [
        "### 3.2 - L-layer deep neural network"
      ]
    },
    {
      "cell_type": "markdown",
      "metadata": {
        "id": "5pfXmEADkMYZ",
        "colab_type": "text"
      },
      "source": [
        "It is hard to represent an L-layer deep neural network with the above representation. However, here is a simplified network representation:\n",
        "\n",
        "<img src='https://github.com/rahiakela/img-repo/blob/master/deep-learning-specialization/LlayerNN_kiank.png?raw=1' width='800'/>\n",
        "<caption><center> <u>Figure 3</u>: L-layer neural network. <br> The model can be summarized as: ***[LINEAR -> RELU] $\\times$ (L-1) -> LINEAR -> SIGMOID***</center></caption>\n",
        "\n",
        "<u>Detailed Architecture of figure 3</u>:\n",
        "- The input is a (64,64,3) image which is flattened to a vector of size (12288,1).\n",
        "- The corresponding vector: $[x_0,x_1,...,x_{12287}]^T$ is then multiplied by the weight matrix $W^{[1]}$ and then you add the intercept $b^{[1]}$. The result is called the linear unit.\n",
        "- Next, you take the relu of the linear unit. This process could be repeated several times for each $(W^{[l]}, b^{[l]})$ depending on the model architecture.\n",
        "- Finally, you take the sigmoid of the final linear unit. If it is greater than 0.5, you classify it to be a cat."
      ]
    },
    {
      "cell_type": "markdown",
      "metadata": {
        "id": "srNGKBlOkO9T",
        "colab_type": "text"
      },
      "source": [
        "### 3.3 - General methodology"
      ]
    },
    {
      "cell_type": "markdown",
      "metadata": {
        "id": "XnfIIBlDkRWE",
        "colab_type": "text"
      },
      "source": [
        "As usual you will follow the Deep Learning methodology to build the model:\n",
        "\n",
        "    1. Initialize parameters / Define hyperparameters\n",
        "    2. Loop for num_iterations:\n",
        "        a. Forward propagation\n",
        "        b. Compute cost function\n",
        "        c. Backward propagation\n",
        "        d. Update parameters (using parameters, and grads from backprop) \n",
        "    4. Use trained parameters to predict labels\n",
        "\n",
        "Let's now implement those two models!"
      ]
    },
    {
      "cell_type": "markdown",
      "metadata": {
        "id": "3h1ay76Er77K",
        "colab_type": "text"
      },
      "source": [
        "## 4 - Two-layer neural network"
      ]
    },
    {
      "cell_type": "markdown",
      "metadata": {
        "id": "F3Afynhkr8mE",
        "colab_type": "text"
      },
      "source": [
        "**Question**:  Use the helper functions you have implemented in the previous assignment to build a 2-layer neural network with the following structure: *LINEAR -> RELU -> LINEAR -> SIGMOID*. The functions you may need and their inputs are:\n",
        "```python\n",
        "def initialize_parameters(n_x, n_h, n_y):\n",
        "    ...\n",
        "    return parameters \n",
        "def linear_activation_forward(A_prev, W, b, activation):\n",
        "    ...\n",
        "    return A, cache\n",
        "def compute_cost(AL, Y):\n",
        "    ...\n",
        "    return cost\n",
        "def linear_activation_backward(dA, cache, activation):\n",
        "    ...\n",
        "    return dA_prev, dW, db\n",
        "def update_parameters(parameters, grads, learning_rate):\n",
        "    ...\n",
        "    return parameters\n",
        "```"
      ]
    },
    {
      "cell_type": "code",
      "metadata": {
        "id": "AtOfnJXvg07Q",
        "colab_type": "code",
        "colab": {}
      },
      "source": [
        "### CONSTANTS DEFINING THE MODEL ####\n",
        "n_x = 12288   #  # num_px * num_px * 3\n",
        "n_h = 7\n",
        "n_y = 1\n",
        "layers_dims = (n_x, n_h, n_y)"
      ],
      "execution_count": 0,
      "outputs": []
    },
    {
      "cell_type": "code",
      "metadata": {
        "id": "q4FFOOGwsv-b",
        "colab_type": "code",
        "colab": {}
      },
      "source": [
        "# FUNCTION: two_layer_model\n",
        "def two_layer_model(X, Y, layers_dims, learning_rate=0.0075, num_iterations=3000, print_cost=False):\n",
        "  '''\n",
        "  Implements a two-layer neural network: LINEAR->RELU->LINEAR->SIGMOID.\n",
        "    \n",
        "  Arguments:\n",
        "  X -- input data, of shape (n_x, number of examples)\n",
        "  Y -- true \"label\" vector (containing 1 if cat, 0 if non-cat), of shape (1, number of examples)\n",
        "  layers_dims -- dimensions of the layers (n_x, n_h, n_y)\n",
        "  num_iterations -- number of iterations of the optimization loop\n",
        "  learning_rate -- learning rate of the gradient descent update rule\n",
        "  print_cost -- If set to True, this will print the cost every 100 iterations \n",
        "  \n",
        "  Returns:\n",
        "  parameters -- a dictionary containing W1, W2, b1, and b2\n",
        "  '''\n",
        "\n",
        "  np.random.seed(1)\n",
        "  grads = {}              \n",
        "  costs = []              # to keep track of the cost\n",
        "  m = X.shape[1]          # number of examples\n",
        "  (n_x, n_h, n_y) = layers_dims\n",
        "\n",
        "  # Initialize parameters dictionary, by calling one of the functions you'd previously implemented\n",
        "  ### START CODE HERE ### (≈ 1 line of code)\n",
        "  parameters = initialize_parameters(n_x, n_h, n_y)\n",
        "  ### END CODE HERE ###\n",
        "\n",
        "  # Get W1, b1, W2 and b2 from the dictionary parameters.\n",
        "  W1 = parameters['W1']\n",
        "  b1 = parameters['b1']\n",
        "  W2 = parameters['W2']\n",
        "  b2 = parameters['b2']\n",
        "\n",
        "  # Loop (gradient descent computation)\n",
        "  for i in range(0, num_iterations):\n",
        "    # Forward propagation: LINEAR -> RELU -> LINEAR -> SIGMOID. Inputs: \"X, W1, b1, A1, W2, b2\". Output: \"A1, cache1, A2, cache2\".\n",
        "    ### START CODE HERE ### (≈ 2 lines of code)\n",
        "    A1, cache1 = linear_activation_forward(X, W1, b1, 'relu')\n",
        "    A2, cache2 = linear_activation_forward(A1, W2, b2, 'sigmoid')\n",
        "    ### END CODE HERE ###\n",
        "\n",
        "    # Compute cost\n",
        "    ### START CODE HERE ### (≈ 1 line of code)\n",
        "    cost = compute_cost(A2, Y)\n",
        "    ### END CODE HERE ###\n",
        "\n",
        "    # Initializing backward propagation\n",
        "    dA2 = - (np.divide(Y, A2) - np.divide(1 - Y, 1 - A2))\n",
        "\n",
        "    # Backward propagation. Inputs: \"dA2, cache2, dA1, cache1\". Outputs: \"dA1, dW2, db2; also dA0 (not used), dW1, db1\".\n",
        "    ### START CODE HERE ### (≈ 2 lines of code)\n",
        "    dA1, dW2, db2 = linear_activation_backward(dA2, cache2, 'sigmoid')\n",
        "    dA0, dW1, db1 = linear_activation_backward(dA1, cache1, 'relu')\n",
        "    ### END CODE HERE ###\n",
        "\n",
        "    # Set grads['dWl'] to dW1, grads['db1'] to db1, grads['dW2'] to dW2, grads['db2'] to db2\n",
        "    grads['dW1'] = dW1\n",
        "    grads['db1'] = db1\n",
        "    grads['dW2'] = dW2\n",
        "    grads['db2'] = db2\n",
        "\n",
        "    # Update parameters.\n",
        "    ### START CODE HERE ### (approx. 1 line of code)\n",
        "    parameters = update_parameters(parameters, grads, learning_rate)\n",
        "    ### END CODE HERE ###\n",
        "\n",
        "    # Retrieve W1, b1, W2, b2 from parameters\n",
        "    W1 = parameters[\"W1\"]\n",
        "    b1 = parameters[\"b1\"]\n",
        "    W2 = parameters[\"W2\"]\n",
        "    b2 = parameters[\"b2\"]\n",
        "\n",
        "    # Print the cost every 100 training example\n",
        "    if print_cost and i % 100 == 0:\n",
        "      print(f'Cost after iteration {str(i)}: {str(np.squeeze(cost))}')\n",
        "    if print_cost and i % 100 == 0:\n",
        "      costs.append(cost)\n",
        "\n",
        "  # plot the cost\n",
        "  plt.plot(np.squeeze(costs))\n",
        "  plt.ylabel('cost')\n",
        "  plt.xlabel('iterations (per hundreds)')\n",
        "  plt.title(f'Learning rate = {str(learning_rate)}')\n",
        "  plt.show()\n",
        "\n",
        "  return parameters "
      ],
      "execution_count": 0,
      "outputs": []
    },
    {
      "cell_type": "markdown",
      "metadata": {
        "id": "XfCUOOPA0Ue_",
        "colab_type": "text"
      },
      "source": [
        "Run the cell below to train your parameters. See if your model runs. The cost should be decreasing. It may take up to 5 minutes to run 2500 iterations. Check if the \"Cost after iteration 0\" matches the expected output below, if not click on the square (⬛) on the upper bar of the notebook to stop the cell and try to find your error."
      ]
    },
    {
      "cell_type": "code",
      "metadata": {
        "id": "z_Mgurdo0GyE",
        "colab_type": "code",
        "colab": {
          "base_uri": "https://localhost:8080/",
          "height": 740
        },
        "outputId": "ccf64307-3bfc-487f-b176-9aa58785172e"
      },
      "source": [
        "parameters = two_layer_model(train_x, train_y, layers_dims=(n_x, n_h, n_y), num_iterations=2500, print_cost=True)"
      ],
      "execution_count": 34,
      "outputs": [
        {
          "output_type": "stream",
          "text": [
            "Cost after iteration 0: 0.693049735659989\n",
            "Cost after iteration 100: 0.6464320953428849\n",
            "Cost after iteration 200: 0.6325140647912678\n",
            "Cost after iteration 300: 0.6015024920354665\n",
            "Cost after iteration 400: 0.5601966311605748\n",
            "Cost after iteration 500: 0.5158304772764731\n",
            "Cost after iteration 600: 0.47549013139433255\n",
            "Cost after iteration 700: 0.43391631512257495\n",
            "Cost after iteration 800: 0.4007977536203886\n",
            "Cost after iteration 900: 0.35807050113237976\n",
            "Cost after iteration 1000: 0.3394281538366413\n",
            "Cost after iteration 1100: 0.30527536361962654\n",
            "Cost after iteration 1200: 0.2749137728213016\n",
            "Cost after iteration 1300: 0.2468176821061484\n",
            "Cost after iteration 1400: 0.19850735037466105\n",
            "Cost after iteration 1500: 0.17448318112556638\n",
            "Cost after iteration 1600: 0.17080762978096967\n",
            "Cost after iteration 1700: 0.11306524562164705\n",
            "Cost after iteration 1800: 0.09629426845937154\n",
            "Cost after iteration 1900: 0.08342617959726867\n",
            "Cost after iteration 2000: 0.07439078704319087\n",
            "Cost after iteration 2100: 0.06630748132267934\n",
            "Cost after iteration 2200: 0.05919329501038172\n",
            "Cost after iteration 2300: 0.053361403485605606\n",
            "Cost after iteration 2400: 0.04855478562877019\n"
          ],
          "name": "stdout"
        },
        {
          "output_type": "display_data",
          "data": {
            "image/png": "[encoded data removed]",
            "text/plain": [
              "<Figure size 360x288 with 1 Axes>"
            ]
          },
          "metadata": {
            "tags": []
          }
        }
      ]
    },
    {
      "cell_type": "markdown",
      "metadata": {
        "id": "lwfe44tw_O_u",
        "colab_type": "text"
      },
      "source": [
        "**Expected Output**:\n",
        "<table> \n",
        "    <tr>\n",
        "        <td> **Cost after iteration 0**</td>\n",
        "        <td> 0.6930497356599888 </td>\n",
        "    </tr>\n",
        "    <tr>\n",
        "        <td> **Cost after iteration 100**</td>\n",
        "        <td> 0.6464320953428849 </td>\n",
        "    </tr>\n",
        "    <tr>\n",
        "        <td> **...**</td>\n",
        "        <td> ... </td>\n",
        "    </tr>\n",
        "    <tr>\n",
        "        <td> **Cost after iteration 2400**</td>\n",
        "        <td> 0.048554785628770226 </td>\n",
        "    </tr>\n",
        "</table>"
      ]
    },
    {
      "cell_type": "markdown",
      "metadata": {
        "id": "TNyaON0rAsl3",
        "colab_type": "text"
      },
      "source": [
        "Good thing you built a vectorized implementation! Otherwise it might have taken 10 times longer to train this.\n",
        "\n",
        "Now, you can use the trained parameters to classify images from the dataset. To see your predictions on the training and test sets, run the cell below."
      ]
    },
    {
      "cell_type": "code",
      "metadata": {
        "id": "8DmFaR4L0rR3",
        "colab_type": "code",
        "colab": {
          "base_uri": "https://localhost:8080/",
          "height": 35
        },
        "outputId": "b7414f8f-4e1a-4142-8bba-047ec0d95df9"
      },
      "source": [
        "predictions_train = predict(train_x, train_y, parameters)"
      ],
      "execution_count": 35,
      "outputs": [
        {
          "output_type": "stream",
          "text": [
            "Accuracy: 0.9999999999999998\n"
          ],
          "name": "stdout"
        }
      ]
    },
    {
      "cell_type": "markdown",
      "metadata": {
        "id": "YPpPqQjRBDTd",
        "colab_type": "text"
      },
      "source": [
        "**Expected Output**:\n",
        "<table> \n",
        "    <tr>\n",
        "        <td> **Accuracy**</td>\n",
        "        <td> 1.0 </td>\n",
        "    </tr>\n",
        "</table>"
      ]
    },
    {
      "cell_type": "code",
      "metadata": {
        "id": "7w3IRNnBBEQA",
        "colab_type": "code",
        "colab": {
          "base_uri": "https://localhost:8080/",
          "height": 35
        },
        "outputId": "04a37e9a-25f0-44f3-8886-2fdbb6d03457"
      },
      "source": [
        "predictions_test = predict(test_x, test_y, parameters)"
      ],
      "execution_count": 37,
      "outputs": [
        {
          "output_type": "stream",
          "text": [
            "Accuracy: 0.72\n"
          ],
          "name": "stdout"
        }
      ]
    },
    {
      "cell_type": "markdown",
      "metadata": {
        "id": "Bt0MObm9BQ-J",
        "colab_type": "text"
      },
      "source": [
        "**Expected Output**:\n",
        "\n",
        "<table> \n",
        "    <tr>\n",
        "        <td> **Accuracy**</td>\n",
        "        <td> 0.72 </td>\n",
        "    </tr>\n",
        "</table>"
      ]
    },
    {
      "cell_type": "markdown",
      "metadata": {
        "id": "loDtflQPBhmq",
        "colab_type": "text"
      },
      "source": [
        "**Note**: You may notice that running the model on fewer iterations (say 1500) gives better accuracy on the test set. This is called \"early stopping\" and we will talk about it in the next course. Early stopping is a way to prevent overfitting. \n",
        "\n",
        "Congratulations! It seems that your 2-layer neural network has better performance (72%) than the logistic regression implementation (70%, assignment week 2). Let's see if you can do even better with an $L$-layer model."
      ]
    },
    {
      "cell_type": "markdown",
      "metadata": {
        "id": "OtiZLlCdBk9a",
        "colab_type": "text"
      },
      "source": [
        "## 5 - L-layer Neural Network"
      ]
    },
    {
      "cell_type": "markdown",
      "metadata": {
        "id": "l0qOMOcMBlzF",
        "colab_type": "text"
      },
      "source": [
        "**Question**: Use the helper functions you have implemented previously to build an $L$-layer neural network with the following structure: *[LINEAR -> RELU]$\\times$(L-1) -> LINEAR -> SIGMOID*. The functions you may need and their inputs are:\n",
        "```python\n",
        "def initialize_parameters_deep(layers_dims):\n",
        "    ...\n",
        "    return parameters \n",
        "def L_model_forward(X, parameters):\n",
        "    ...\n",
        "    return AL, caches\n",
        "def compute_cost(AL, Y):\n",
        "    ...\n",
        "    return cost\n",
        "def L_model_backward(AL, Y, caches):\n",
        "    ...\n",
        "    return grads\n",
        "def update_parameters(parameters, grads, learning_rate):\n",
        "    ...\n",
        "    return parameters\n",
        "```"
      ]
    },
    {
      "cell_type": "code",
      "metadata": {
        "id": "2sVNhjx0A7WT",
        "colab_type": "code",
        "colab": {}
      },
      "source": [
        ""
      ],
      "execution_count": 0,
      "outputs": []
    }
  ]
}