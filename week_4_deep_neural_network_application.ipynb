{
  "nbformat": 4,
  "nbformat_minor": 0,
  "metadata": {
    "colab": {
      "name": "week-4-deep-neural-network-application.ipynb",
      "provenance": [],
      "toc_visible": true,
      "include_colab_link": true
    },
    "kernelspec": {
      "name": "python3",
      "display_name": "Python 3"
    }
  },
  "cells": [
    {
      "cell_type": "markdown",
      "metadata": {
        "id": "view-in-github",
        "colab_type": "text"
      },
      "source": [
        "<a href=\"https://colab.research.google.com/github/rahiakela/coursera-deep-learning-specialization/blob/course-1-neural-networks-and-deep-learning/week_4_deep_neural_network_application.ipynb\" target=\"_parent\"><img src=\"https://colab.research.google.com/assets/colab-badge.svg\" alt=\"Open In Colab\"/></a>"
      ]
    },
    {
      "cell_type": "markdown",
      "metadata": {
        "id": "JXRqisD-t3YM",
        "colab_type": "text"
      },
      "source": [
        "# Deep Neural Network for Image Classification: Application"
      ]
    },
    {
      "cell_type": "markdown",
      "metadata": {
        "id": "DG5dLAFJt4Ep",
        "colab_type": "text"
      },
      "source": [
        "When you finish this, you will have finished the last programming assignment of Week 4, and also the last programming assignment of this course! \n",
        "\n",
        "You will use the functions you'd implemented in the previous assignment to build a deep network, and apply it to cat vs non-cat classification. Hopefully, you will see an improvement in accuracy relative to your previous logistic regression implementation.  \n",
        "\n",
        "**After this assignment you will be able to:**\n",
        "- Build and apply a deep neural network to supervised learning. \n",
        "\n",
        "Let's get started!"
      ]
    },
    {
      "cell_type": "markdown",
      "metadata": {
        "id": "Gd8dv9D3uC_U",
        "colab_type": "text"
      },
      "source": [
        "## 1 - Packages"
      ]
    },
    {
      "cell_type": "markdown",
      "metadata": {
        "id": "0V5S0PoVuGE-",
        "colab_type": "text"
      },
      "source": [
        "Let's first import all the packages that you will need during this assignment. \n",
        "- [numpy](https://www.numpy.org/) is the fundamental package for scientific computing with Python.\n",
        "- [matplotlib](http://matplotlib.org) is a library to plot graphs in Python.\n",
        "- [h5py](http://www.h5py.org) is a common package to interact with a dataset that is stored on an H5 file.\n",
        "- [PIL](http://www.pythonware.com/products/pil/) and [scipy](https://www.scipy.org/) are used here to test your model with your own picture at the end.\n",
        "- dnn_app_utils provides the functions implemented in the \"Building your Deep Neural Network: Step by Step\" assignment to this notebook.\n",
        "- np.random.seed(1) is used to keep all the random function calls consistent. It will help us grade your work."
      ]
    },
    {
      "cell_type": "code",
      "metadata": {
        "id": "kiNTIgnzuDow",
        "colab_type": "code",
        "colab": {}
      },
      "source": [
        "import time\n",
        "import numpy as np\n",
        "import h5py\n",
        "import matplotlib.pyplot as plt\n",
        "import scipy\n",
        "from PIL import Image\n",
        "from scipy import ndimage\n",
        "from dnn_app_utils_v3 import *\n",
        "\n",
        "%matplotlib inline\n",
        "plt.rcParams['figure.figsize'] = (5.0, 4.0) # set default size of plots\n",
        "plt.rcParams['image.interpolation'] = 'nearest'\n",
        "plt.rcParams['image.cmap'] = 'gray'\n",
        "\n",
        "%load_ext autoreload\n",
        "%autoreload 2\n",
        "\n",
        "np.random.seed(1)"
      ],
      "execution_count": 0,
      "outputs": []
    },
    {
      "cell_type": "markdown",
      "metadata": {
        "id": "qKdVhumfZZgs",
        "colab_type": "text"
      },
      "source": [
        "## 2 - Dataset"
      ]
    },
    {
      "cell_type": "markdown",
      "metadata": {
        "id": "W_CqR8rZZaHz",
        "colab_type": "text"
      },
      "source": [
        "You will use the same \"Cat vs non-Cat\" dataset as in \"Logistic Regression as a Neural Network\" (Assignment 2). The model you had built had 70% test accuracy on classifying cats vs non-cats images. Hopefully, your new model will perform a better!\n",
        "\n",
        "**Problem Statement**: You are given a dataset (\"data.h5\") containing:\n",
        "    - a training set of m_train images labelled as cat (1) or non-cat (0)\n",
        "    - a test set of m_test images labelled as cat and non-cat\n",
        "    - each image is of shape (num_px, num_px, 3) where 3 is for the 3 channels (RGB).\n",
        "\n",
        "Let's get more familiar with the dataset. Load the data by running the cell below."
      ]
    },
    {
      "cell_type": "code",
      "metadata": {
        "id": "3VUugFSAZdo2",
        "colab_type": "code",
        "colab": {}
      },
      "source": [
        "train_x_orig, train_y, test_x_orig, test_y, classes = load_data()"
      ],
      "execution_count": 0,
      "outputs": []
    },
    {
      "cell_type": "markdown",
      "metadata": {
        "id": "0JPNHXLibWt0",
        "colab_type": "text"
      },
      "source": [
        "The following code will show you an image in the dataset. Feel free to change the index and re-run the cell multiple times to see other images. "
      ]
    },
    {
      "cell_type": "code",
      "metadata": {
        "id": "dnHpipH0aBCr",
        "colab_type": "code",
        "colab": {
          "base_uri": "https://localhost:8080/",
          "height": 286
        },
        "outputId": "8b199e32-4118-4a8d-a4fa-058aabf3b030"
      },
      "source": [
        "# Example of a picture\n",
        "index = 10\n",
        "plt.imshow(train_x_orig[index])\n",
        "print(f'y = {str(train_y[0, index])}. It is a {str(classes[train_y[0, index]].decode(\"utf-8\"))} picture.')"
      ],
      "execution_count": 4,
      "outputs": [
        {
          "output_type": "stream",
          "text": [
            "y = 0. It is a non-cat picture.\n"
          ],
          "name": "stdout"
        },
        {
          "output_type": "display_data",
          "data": {
            "image/png": "[encoded data removed]",
            "text/plain": [
              "<Figure size 360x288 with 1 Axes>"
            ]
          },
          "metadata": {
            "tags": []
          }
        }
      ]
    },
    {
      "cell_type": "code",
      "metadata": {
        "id": "A_S4cEFqb3ql",
        "colab_type": "code",
        "colab": {
          "base_uri": "https://localhost:8080/",
          "height": 141
        },
        "outputId": "24c8ce06-72da-4b51-fe04-1ed831b4006d"
      },
      "source": [
        "# Explore your dataset\n",
        "m_train = train_x_orig.shape[0]\n",
        "num_px = train_x_orig.shape[1]\n",
        "m_test = test_x_orig.shape[0]\n",
        "\n",
        "print(f'Number of training examples: {str(m_train)}')\n",
        "print(f'Number of testing examples: {str(m_test)}')\n",
        "print(f'Each image is of size: ({str(num_px)}, {str(num_px)}, 3')\n",
        "print(f'train_x_orig shape: {str(train_x_orig.shape)}')\n",
        "print(f'train_y shape: {str(train_y.shape)}')\n",
        "print(f'test_x_orig shape: {str(test_x_orig.shape)}')\n",
        "print(f'test_y shape: {str(test_y.shape)}')"
      ],
      "execution_count": 5,
      "outputs": [
        {
          "output_type": "stream",
          "text": [
            "Number of training examples: 209\n",
            "Number of testing examples: 50\n",
            "Each image is of size: (64, 64, 3\n",
            "train_x_orig shape: (209, 64, 64, 3)\n",
            "train_y shape: (1, 209)\n",
            "test_x_orig shape: (50, 64, 64, 3)\n",
            "test_y shape: (1, 50)\n"
          ],
          "name": "stdout"
        }
      ]
    },
    {
      "cell_type": "markdown",
      "metadata": {
        "id": "Akh5VGmveEaF",
        "colab_type": "text"
      },
      "source": [
        "As usual, you reshape and standardize the images before feeding them to the network. The code is given in the cell below.\n",
        "\n",
        "<img src='https://github.com/rahiakela/img-repo/blob/master/deep-learning-specialization/imvectorkiank.png?raw=1' width='800'/>\n",
        "\n",
        "<caption><center> <u>Figure 1</u>: Image to vector conversion. <br> </center></caption>"
      ]
    },
    {
      "cell_type": "code",
      "metadata": {
        "id": "RmrwOYGUdVJf",
        "colab_type": "code",
        "colab": {
          "base_uri": "https://localhost:8080/",
          "height": 52
        },
        "outputId": "ab01b83b-7c68-4abe-aa7a-85446880e3be"
      },
      "source": [
        "# Reshape the training and test examples\n",
        "train_x_flatten = train_x_orig.reshape(train_x_orig.shape[0], -1).T # The \"-1\" makes reshape flatten the remaining dimensions\n",
        "#train_x_flatten = train_x_orig.reshape(train_x_orig.shape[0], train_x_orig.shape[1] * train_x_orig.shape[2] * train_x_orig.shape[3]).T\n",
        "test_x_flatten = test_x_orig.reshape(test_x_orig.shape[0], -1).T\n",
        "\n",
        "# Standardize/scale data to have feature values between 0 and 1.\n",
        "train_x = train_x_flatten / 255.0\n",
        "test_x = test_x_flatten / 255.0\n",
        "\n",
        "print(f'train_x shape: {str(train_x.shape)}')\n",
        "print(f'test_x shape: {str(test_x.shape)}')"
      ],
      "execution_count": 29,
      "outputs": [
        {
          "output_type": "stream",
          "text": [
            "train_x shape: (12288, 209)\n",
            "test_x shape: (12288, 50)\n"
          ],
          "name": "stdout"
        }
      ]
    },
    {
      "cell_type": "markdown",
      "metadata": {
        "id": "zIJT1QgKf96o",
        "colab_type": "text"
      },
      "source": [
        "$12,288$ equals $64 \\times 64 \\times 3$ which is the size of one reshaped image vector."
      ]
    },
    {
      "cell_type": "markdown",
      "metadata": {
        "id": "NbVfy1HDj4ek",
        "colab_type": "text"
      },
      "source": [
        "## 3 - Architecture of your model"
      ]
    },
    {
      "cell_type": "markdown",
      "metadata": {
        "id": "jQ56B0J3j5h1",
        "colab_type": "text"
      },
      "source": [
        "Now that you are familiar with the dataset, it is time to build a deep neural network to distinguish cat images from non-cat images.\n",
        "\n",
        "You will build two different models:\n",
        "- A 2-layer neural network\n",
        "- An L-layer deep neural network\n",
        "\n",
        "You will then compare the performance of these models, and also try out different values for $L$. \n",
        "\n",
        "Let's look at the two architectures."
      ]
    },
    {
      "cell_type": "markdown",
      "metadata": {
        "id": "Znqq4jDQkEiN",
        "colab_type": "text"
      },
      "source": [
        "### 3.1 - 2-layer neural network"
      ]
    },
    {
      "cell_type": "markdown",
      "metadata": {
        "id": "PyMZ12omkGy4",
        "colab_type": "text"
      },
      "source": [
        "<img src='https://github.com/rahiakela/img-repo/blob/master/deep-learning-specialization/2layerNN_kiank.png?raw=1' width='800'/>\n",
        "<caption><center> <u>Figure 2</u>: 2-layer neural network. <br> The model can be summarized as: ***INPUT -> LINEAR -> RELU -> LINEAR -> SIGMOID -> OUTPUT***. </center></caption>\n",
        "\n",
        "<u>Detailed Architecture of figure 2</u>:\n",
        "- The input is a (64,64,3) image which is flattened to a vector of size $(12288,1)$. \n",
        "- The corresponding vector: $[x_0,x_1,...,x_{12287}]^T$ is then multiplied by the weight matrix $W^{[1]}$ of size $(n^{[1]}, 12288)$.\n",
        "- You then add a bias term and take its relu to get the following vector: $[a_0^{[1]}, a_1^{[1]},..., a_{n^{[1]}-1}^{[1]}]^T$.\n",
        "- You then repeat the same process.\n",
        "- You multiply the resulting vector by $W^{[2]}$ and add your intercept (bias). \n",
        "- Finally, you take the sigmoid of the result. If it is greater than 0.5, you classify it to be a cat."
      ]
    },
    {
      "cell_type": "markdown",
      "metadata": {
        "id": "XJZu9l-OkJ5V",
        "colab_type": "text"
      },
      "source": [
        "### 3.2 - L-layer deep neural network"
      ]
    },
    {
      "cell_type": "markdown",
      "metadata": {
        "id": "5pfXmEADkMYZ",
        "colab_type": "text"
      },
      "source": [
        "It is hard to represent an L-layer deep neural network with the above representation. However, here is a simplified network representation:\n",
        "\n",
        "<img src='https://github.com/rahiakela/img-repo/blob/master/deep-learning-specialization/LlayerNN_kiank.png?raw=1' width='800'/>\n",
        "<caption><center> <u>Figure 3</u>: L-layer neural network. <br> The model can be summarized as: ***[LINEAR -> RELU] $\\times$ (L-1) -> LINEAR -> SIGMOID***</center></caption>\n",
        "\n",
        "<u>Detailed Architecture of figure 3</u>:\n",
        "- The input is a (64,64,3) image which is flattened to a vector of size (12288,1).\n",
        "- The corresponding vector: $[x_0,x_1,...,x_{12287}]^T$ is then multiplied by the weight matrix $W^{[1]}$ and then you add the intercept $b^{[1]}$. The result is called the linear unit.\n",
        "- Next, you take the relu of the linear unit. This process could be repeated several times for each $(W^{[l]}, b^{[l]})$ depending on the model architecture.\n",
        "- Finally, you take the sigmoid of the final linear unit. If it is greater than 0.5, you classify it to be a cat."
      ]
    },
    {
      "cell_type": "markdown",
      "metadata": {
        "id": "srNGKBlOkO9T",
        "colab_type": "text"
      },
      "source": [
        "### 3.3 - General methodology"
      ]
    },
    {
      "cell_type": "markdown",
      "metadata": {
        "id": "XnfIIBlDkRWE",
        "colab_type": "text"
      },
      "source": [
        "As usual you will follow the Deep Learning methodology to build the model:\n",
        "    1. Initialize parameters / Define hyperparameters\n",
        "    2. Loop for num_iterations:\n",
        "        a. Forward propagation\n",
        "        b. Compute cost function\n",
        "        c. Backward propagation\n",
        "        d. Update parameters (using parameters, and grads from backprop) \n",
        "    4. Use trained parameters to predict labels\n",
        "\n",
        "Let's now implement those two models!"
      ]
    },
    {
      "cell_type": "code",
      "metadata": {
        "id": "AtOfnJXvg07Q",
        "colab_type": "code",
        "colab": {}
      },
      "source": [
        ""
      ],
      "execution_count": 0,
      "outputs": []
    }
  ]
}