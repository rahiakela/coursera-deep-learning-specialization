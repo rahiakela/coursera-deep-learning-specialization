{
  "nbformat": 4,
  "nbformat_minor": 0,
  "metadata": {
    "colab": {
      "name": "week-3-tensorflow.ipynb",
      "provenance": [],
      "toc_visible": true,
      "include_colab_link": true
    },
    "kernelspec": {
      "name": "python3",
      "display_name": "Python 3"
    }
  },
  "cells": [
    {
      "cell_type": "markdown",
      "metadata": {
        "id": "view-in-github",
        "colab_type": "text"
      },
      "source": [
        "<a href=\"https://colab.research.google.com/github/rahiakela/coursera-deep-learning-specialization/blob/course-2-improving-deep-neural-networks/week_3_tensorflow.ipynb\" target=\"_parent\"><img src=\"https://colab.research.google.com/assets/colab-badge.svg\" alt=\"Open In Colab\"/></a>"
      ]
    },
    {
      "cell_type": "markdown",
      "metadata": {
        "id": "0gotpCs7QGRr",
        "colab_type": "text"
      },
      "source": [
        "# Tensorflow"
      ]
    },
    {
      "cell_type": "markdown",
      "metadata": {
        "id": "agEDSaN3QHHZ",
        "colab_type": "text"
      },
      "source": [
        "Welcome to the Tensorflow Tutorial! In this notebook you will learn all the basics of Tensorflow. You will implement useful functions and draw the parallel with what you did using Numpy. You will understand what Tensors and operations are, as well as how to execute them in a computation graph.\n",
        "\n",
        "After completing this assignment you will also be able to implement your own deep learning models using Tensorflow. In fact, using our brand new SIGNS dataset, you will build a deep neural network model to recognize numbers from 0 to 5 in sign language with a pretty impressive accuracy.\n",
        "\n",
        "<img src='https://github.com/rahiakela/img-repo/blob/master/deep-learning-specialization/signs.png?raw=1' width='800'/>\n",
        "\n",
        "Until now, you've always used numpy to build neural networks. Now we will step you through a deep learning framework that will allow you to build neural networks more easily. Machine learning frameworks like TensorFlow, PaddlePaddle, Torch, Caffe, Keras, and many others can speed up your machine learning development significantly. All of these frameworks also have a lot of documentation, which you should feel free to read. In this assignment, you will learn to do the following in TensorFlow: \n",
        "\n",
        "- Initialize variables\n",
        "- Start your own session\n",
        "- Train algorithms \n",
        "- Implement a Neural Network\n",
        "\n",
        "Programing frameworks can not only shorten your coding time, but sometimes also perform optimizations that speed up your code. "
      ]
    },
    {
      "cell_type": "markdown",
      "metadata": {
        "id": "i6CEKerySTI4",
        "colab_type": "text"
      },
      "source": [
        "## 1 - Exploring the Tensorflow Library"
      ]
    },
    {
      "cell_type": "markdown",
      "metadata": {
        "id": "B1sTSiWMSk5X",
        "colab_type": "text"
      },
      "source": [
        "To start, you will import the library:"
      ]
    },
    {
      "cell_type": "code",
      "metadata": {
        "id": "1ZQ6_PxPSoiX",
        "colab_type": "code",
        "colab": {
          "base_uri": "https://localhost:8080/",
          "height": 64
        },
        "outputId": "2a7f144f-24c3-40d3-a4ae-3dfafcac9337"
      },
      "source": [
        "import math\n",
        "import numpy as np\n",
        "import h5py\n",
        "import matplotlib.pyplot as plt\n",
        "import tensorflow as tf\n",
        "from tensorflow.python.framework import ops\n",
        "from tf_utils import load_dataset, random_mini_batches, convert_to_one_hot, predict\n",
        "\n",
        "%matplotlib inline\n",
        "np.random.seed(1)"
      ],
      "execution_count": 1,
      "outputs": [
        {
          "output_type": "display_data",
          "data": {
            "text/html": [
              "<p style=\"color: red;\">\n",
              "The default version of TensorFlow in Colab will soon switch to TensorFlow 2.x.<br>\n",
              "We recommend you <a href=\"https://www.tensorflow.org/guide/migrate\" target=\"_blank\">upgrade</a> now \n",
              "or ensure your notebook will continue to use TensorFlow 1.x via the <code>%tensorflow_version 1.x</code> magic:\n",
              "<a href=\"https://colab.research.google.com/notebooks/tensorflow_version.ipynb\" target=\"_blank\">more info</a>.</p>\n"
            ],
            "text/plain": [
              "<IPython.core.display.HTML object>"
            ]
          },
          "metadata": {
            "tags": []
          }
        }
      ]
    },
    {
      "cell_type": "markdown",
      "metadata": {
        "id": "YvLyATS9cMnt",
        "colab_type": "text"
      },
      "source": [
        "Now that you have imported the library, we will walk you through its different applications. You will start with an example, where we compute for you the loss of one training example. \n",
        "$$loss = \\mathcal{L}(\\hat{y}, y) = (\\hat y^{(i)} - y^{(i)})^2 \\tag{1}$$"
      ]
    },
    {
      "cell_type": "code",
      "metadata": {
        "id": "vRuet_RDZqLl",
        "colab_type": "code",
        "colab": {
          "base_uri": "https://localhost:8080/",
          "height": 35
        },
        "outputId": "949e4994-0013-42f7-c605-228c1d6da7d1"
      },
      "source": [
        "y_hat = tf.constant(36, name='y_hat')             # Define y_hat constant. Set to 36.\n",
        "y = tf.constant(39, name='y')                     # Define y. Set to 39\n",
        "\n",
        "loss = tf.Variable((y - y_hat) ** 2, name='loss') # Create a variable for the loss\n",
        "\n",
        "init = tf.global_variables_initializer()          # When init is run later (session.run(init)), \n",
        "                                                  # the loss variable will be initialized and ready to be computed\n",
        "with tf.Session() as session:                     # Create a session and print the output\n",
        "  session.run(init)                               # Initializes the variables\n",
        "  print(session.run(loss))                        # Prints the loss"
      ],
      "execution_count": 2,
      "outputs": [
        {
          "output_type": "stream",
          "text": [
            "9\n"
          ],
          "name": "stdout"
        }
      ]
    },
    {
      "cell_type": "markdown",
      "metadata": {
        "id": "0I42v-OUy0rU",
        "colab_type": "text"
      },
      "source": [
        "Writing and running programs in TensorFlow has the following steps:\n",
        "\n",
        "1. Create Tensors (variables) that are not yet executed/evaluated. \n",
        "2. Write operations between those Tensors.\n",
        "3. Initialize your Tensors. \n",
        "4. Create a Session. \n",
        "5. Run the Session. This will run the operations you'd written above. \n",
        "\n",
        "Therefore, when we created a variable for the loss, we simply defined the loss as a function of other quantities, but did not evaluate its value. To evaluate it, we had to run `init=tf.global_variables_initializer()`. That initialized the loss variable, and in the last line we were finally able to evaluate the value of `loss` and print its value.\n",
        "\n",
        "Now let us look at an easy example. Run the cell below:"
      ]
    },
    {
      "cell_type": "code",
      "metadata": {
        "id": "UB29EQD3ysqD",
        "colab_type": "code",
        "colab": {
          "base_uri": "https://localhost:8080/",
          "height": 35
        },
        "outputId": "b1b3d11c-942c-46b2-9707-655aa8ee7d84"
      },
      "source": [
        "a = tf.constant(2)\n",
        "b = tf.constant(10)\n",
        "c = tf.multiply(a, b)\n",
        "print(c)"
      ],
      "execution_count": 3,
      "outputs": [
        {
          "output_type": "stream",
          "text": [
            "Tensor(\"Mul:0\", shape=(), dtype=int32)\n"
          ],
          "name": "stdout"
        }
      ]
    },
    {
      "cell_type": "markdown",
      "metadata": {
        "id": "ggVLqjhS0NOo",
        "colab_type": "text"
      },
      "source": [
        "As expected, you will not see 20! You got a tensor saying that the result is a tensor that does not have the shape attribute, and is of type \"int32\". All you did was put in the 'computation graph', but you have not run this computation yet. In order to actually multiply the two numbers, you will have to create a session and run it."
      ]
    },
    {
      "cell_type": "code",
      "metadata": {
        "id": "LGgirOY00CGv",
        "colab_type": "code",
        "colab": {
          "base_uri": "https://localhost:8080/",
          "height": 35
        },
        "outputId": "6bdc8a73-bfb8-43bd-f674-1239e089451e"
      },
      "source": [
        "sess = tf.Session()\n",
        "print(sess.run(c))"
      ],
      "execution_count": 4,
      "outputs": [
        {
          "output_type": "stream",
          "text": [
            "20\n"
          ],
          "name": "stdout"
        }
      ]
    },
    {
      "cell_type": "markdown",
      "metadata": {
        "id": "lpIQ6ktQ0Xft",
        "colab_type": "text"
      },
      "source": [
        "Great! To summarize, **remember to initialize your variables, create a session and run the operations inside the session**. \n",
        "\n",
        "Next, you'll also have to know about placeholders. A placeholder is an object whose value you can specify only later. \n",
        "To specify values for a placeholder, you can pass in values by using a \"feed dictionary\" (`feed_dict` variable). Below, we created a placeholder for x. This allows us to pass in a number later when we run the session. "
      ]
    },
    {
      "cell_type": "code",
      "metadata": {
        "id": "dCXAeKdE0ULI",
        "colab_type": "code",
        "colab": {
          "base_uri": "https://localhost:8080/",
          "height": 35
        },
        "outputId": "7365f8e5-2e64-48ca-b551-b79d4c539e24"
      },
      "source": [
        "# Change the value of x in the feed_dict\n",
        "x = tf.placeholder(tf.int64, name='x')\n",
        "print(sess.run(2 * x, feed_dict={x: 3}))\n",
        "sess.close()"
      ],
      "execution_count": 5,
      "outputs": [
        {
          "output_type": "stream",
          "text": [
            "6\n"
          ],
          "name": "stdout"
        }
      ]
    },
    {
      "cell_type": "markdown",
      "metadata": {
        "id": "66vx64xN050v",
        "colab_type": "text"
      },
      "source": [
        "When you first defined `x` you did not have to specify a value for it. A placeholder is simply a variable that you will assign data to only later, when running the session. We say that you **feed data** to these placeholders when running the session. \n",
        "\n",
        "Here's what's happening: When you specify the operations needed for a computation, you are telling TensorFlow how to construct a computation graph. The computation graph can have some placeholders whose values you will specify only later. Finally, when you run the session, you are telling TensorFlow to execute the computation graph."
      ]
    },
    {
      "cell_type": "markdown",
      "metadata": {
        "id": "V02kXl7-1H2B",
        "colab_type": "text"
      },
      "source": [
        "### 1.1 - Linear function"
      ]
    },
    {
      "cell_type": "markdown",
      "metadata": {
        "id": "YXJrwstc1J26",
        "colab_type": "text"
      },
      "source": [
        "Lets start this programming exercise by computing the following equation: $Y = WX + b$, where $W$ and $X$ are random matrices and b is a random vector. \n",
        "\n",
        "**Exercise**: Compute $WX + b$ where $W, X$, and $b$ are drawn from a random normal distribution. W is of shape (4, 3), X is (3,1) and b is (4,1). As an example, here is how you would define a constant X that has shape (3,1):\n",
        "```python\n",
        "X = tf.constant(np.random.randn(3,1), name = \"X\")\n",
        "\n",
        "```\n",
        "You might find the following functions helpful: \n",
        "- tf.matmul(..., ...) to do a matrix multiplication\n",
        "- tf.add(..., ...) to do an addition\n",
        "- np.random.randn(...) to initialize randomly"
      ]
    },
    {
      "cell_type": "code",
      "metadata": {
        "id": "-EQmKtRM02P2",
        "colab_type": "code",
        "colab": {}
      },
      "source": [
        "# FUNCTION: linear_function\n",
        "def linear_function():\n",
        "  '''\n",
        "  Implements a linear function: \n",
        "          Initializes X to be a random tensor of shape (3,1)\n",
        "          Initializes W to be a random tensor of shape (4,3)\n",
        "          Initializes b to be a random tensor of shape (4,1)\n",
        "  Returns: \n",
        "  result -- runs the session for Y = WX + b \n",
        "  '''\n",
        "\n",
        "  np.random.seed(1)\n",
        "\n",
        "  '''\n",
        "  Note, to ensure that the \"random\" numbers generated match the expected results,\n",
        "  please create the variables in the order given in the starting code below.\n",
        "  (Do not re-arrange the order).\n",
        "  '''\n",
        "\n",
        "  ### START CODE HERE ### (4 lines of code)\n",
        "  X = tf.constant(np.random.randn(3, 1), name='X')\n",
        "  W = tf.constant(np.random.randn(4, 3), name='W')\n",
        "  b = tf.constant(np.random.randn(4, 1), name='b')\n",
        "  Y = tf.add(tf.matmul(W, X), b)\n",
        "  ### END CODE HERE ### \n",
        "\n",
        "  # Create the session using tf.Session() and run it with sess.run(...) on the variable you want to calculate\n",
        "\n",
        "  ### START CODE HERE ###\n",
        "  sess = tf.Session()\n",
        "  result = sess.run(Y)\n",
        "  ### END CODE HERE ### \n",
        "\n",
        "  # close the session\n",
        "  sess.close()\n",
        "\n",
        "  return result"
      ],
      "execution_count": 0,
      "outputs": []
    },
    {
      "cell_type": "code",
      "metadata": {
        "id": "5uwQDRRs24XE",
        "colab_type": "code",
        "colab": {
          "base_uri": "https://localhost:8080/",
          "height": 106
        },
        "outputId": "4b0c6496-0d52-4f07-9151-7e80980eca3e"
      },
      "source": [
        "print(f'result = \\n {str(linear_function())}')"
      ],
      "execution_count": 9,
      "outputs": [
        {
          "output_type": "stream",
          "text": [
            "result = \n",
            " [[-2.15657382]\n",
            " [ 2.95891446]\n",
            " [-1.08926781]\n",
            " [-0.84538042]]\n"
          ],
          "name": "stdout"
        }
      ]
    },
    {
      "cell_type": "markdown",
      "metadata": {
        "id": "EgJIOVQQ5PRt",
        "colab_type": "text"
      },
      "source": [
        "*** Expected Output ***: \n",
        "\n",
        "```\n",
        "result = \n",
        "[[-2.15657382]\n",
        " [ 2.95891446]\n",
        " [-1.08926781]\n",
        " [-0.84538042]]\n",
        "```"
      ]
    },
    {
      "cell_type": "markdown",
      "metadata": {
        "id": "k8eMJeDp5UWs",
        "colab_type": "text"
      },
      "source": [
        "### 1.2 - Computing the sigmoid "
      ]
    },
    {
      "cell_type": "markdown",
      "metadata": {
        "id": "rtLbSMLs5U_F",
        "colab_type": "text"
      },
      "source": [
        "Great! You just implemented a linear function. Tensorflow offers a variety of commonly used neural network functions like `tf.sigmoid` and `tf.softmax`. For this exercise lets compute the sigmoid function of an input. \n",
        "\n",
        "You will do this exercise using a placeholder variable `x`. When running the session, you should use the feed dictionary to pass in the input `z`. In this exercise, you will have to (i) create a placeholder `x`, (ii) define the operations needed to compute the sigmoid using `tf.sigmoid`, and then (iii) run the session. \n",
        "\n",
        "** Exercise **: Implement the sigmoid function below. You should use the following: \n",
        "\n",
        "- `tf.placeholder(tf.float32, name = \"...\")`\n",
        "- `tf.sigmoid(...)`\n",
        "- `sess.run(..., feed_dict = {x: z})`\n",
        "\n",
        "\n",
        "Note that there are two typical ways to create and use sessions in tensorflow: \n",
        "\n",
        "**Method 1:**\n",
        "```python\n",
        "sess = tf.Session()\n",
        "# Run the variables initialization (if needed), run the operations\n",
        "result = sess.run(..., feed_dict = {...})\n",
        "sess.close() # Close the session\n",
        "```\n",
        "**Method 2:**\n",
        "```python\n",
        "with tf.Session() as sess: \n",
        "    # run the variables initialization (if needed), run the operations\n",
        "    result = sess.run(..., feed_dict = {...})\n",
        "    # This takes care of closing the session for you :)\n",
        "```"
      ]
    },
    {
      "cell_type": "code",
      "metadata": {
        "id": "Fh8glTFn2-IS",
        "colab_type": "code",
        "colab": {}
      },
      "source": [
        "# FUNCTION: sigmoid\n",
        "def sigmoid(z):\n",
        "  '''\n",
        "  Computes the sigmoid of z\n",
        "    \n",
        "  Arguments:\n",
        "  z -- input value, scalar or vector\n",
        "  \n",
        "  Returns: \n",
        "  results -- the sigmoid of z\n",
        "  '''\n",
        "\n",
        "  ### START CODE HERE ### ( approx. 4 lines of code)\n",
        "  # Create a placeholder for x. Name it 'x'.\n",
        "  x = tf.placeholder(tf.float32, name='x')\n",
        "\n",
        "  # compute sigmoid(x)\n",
        "  sigmoid = tf.sigmoid(x)\n",
        "\n",
        "  # Create a session, and run it. Please use the method 2 explained above. \n",
        "  # You should use a feed_dict to pass z's value to x. \n",
        "  with tf.Session() as sess:\n",
        "    # Run session and call the output \"result\"\n",
        "    result = sess.run(sigmoid, feed_dict={x: z})\n",
        "  ### END CODE HERE ###\n",
        "\n",
        "  return result"
      ],
      "execution_count": 0,
      "outputs": []
    },
    {
      "cell_type": "code",
      "metadata": {
        "id": "wbEdZ-mc7-_C",
        "colab_type": "code",
        "colab": {
          "base_uri": "https://localhost:8080/",
          "height": 52
        },
        "outputId": "7ce0d7e5-a46f-45b5-eedc-abc717aca395"
      },
      "source": [
        "print(f'sigmoid(0) = {str(sigmoid(0))}')\n",
        "print(f'str(sigmoid(12)) = {str(sigmoid(12))}')"
      ],
      "execution_count": 12,
      "outputs": [
        {
          "output_type": "stream",
          "text": [
            "sigmoid(0) = 0.5\n",
            "str(sigmoid(12)) = 0.9999938\n"
          ],
          "name": "stdout"
        }
      ]
    },
    {
      "cell_type": "markdown",
      "metadata": {
        "id": "cPxF8_eV8u_Z",
        "colab_type": "text"
      },
      "source": [
        "*** Expected Output ***: \n",
        "\n",
        "<table> \n",
        "<tr> \n",
        "<td>\n",
        "**sigmoid(0)**\n",
        "</td>\n",
        "<td>\n",
        "0.5\n",
        "</td>\n",
        "</tr>\n",
        "<tr> \n",
        "<td>\n",
        "**sigmoid(12)**\n",
        "</td>\n",
        "<td>\n",
        "0.999994\n",
        "</td>\n",
        "</tr> \n",
        "\n",
        "</table> "
      ]
    },
    {
      "cell_type": "markdown",
      "metadata": {
        "id": "5_4QxkUR8vQk",
        "colab_type": "text"
      },
      "source": [
        "**To summarize, you how know how to**:\n",
        "1. Create placeholders\n",
        "2. Specify the computation graph corresponding to operations you want to compute\n",
        "3. Create the session\n",
        "4. Run the session, using a feed dictionary if necessary to specify placeholder variables' values. "
      ]
    },
    {
      "cell_type": "markdown",
      "metadata": {
        "id": "kewSkrsl8x7j",
        "colab_type": "text"
      },
      "source": [
        "### 1.3 -  Computing the Cost"
      ]
    },
    {
      "cell_type": "markdown",
      "metadata": {
        "id": "qyEQGnYx86V7",
        "colab_type": "text"
      },
      "source": [
        "You can also use a built-in function to compute the cost of your neural network. So instead of needing to write code to compute this as a function of $a^{[2](i)}$ and $y^{(i)}$ for i=1...m: \n",
        "$$ J = - \\frac{1}{m}  \\sum_{i = 1}^m  \\large ( \\small y^{(i)} \\log a^{ [2] (i)} + (1-y^{(i)})\\log (1-a^{ [2] (i)} )\\large )\\small\\tag{2}$$\n",
        "\n",
        "you can do it in one line of code in tensorflow!\n",
        "\n",
        "**Exercise**: Implement the cross entropy loss. The function you will use is: \n",
        "\n",
        "\n",
        "- `tf.nn.sigmoid_cross_entropy_with_logits(logits = ...,  labels = ...)`\n",
        "\n",
        "Your code should input `z`, compute the sigmoid (to get `a`) and then compute the cross entropy cost $J$. All this can be done using one call to `tf.nn.sigmoid_cross_entropy_with_logits`, which computes\n",
        "\n",
        "$$- \\frac{1}{m}  \\sum_{i = 1}^m  \\large ( \\small y^{(i)} \\log \\sigma(z^{[2](i)}) + (1-y^{(i)})\\log (1-\\sigma(z^{[2](i)})\\large )\\small\\tag{2}$$"
      ]
    },
    {
      "cell_type": "code",
      "metadata": {
        "id": "0nq6_sTK8Nek",
        "colab_type": "code",
        "colab": {}
      },
      "source": [
        "# FUNCTION: cost\n",
        "def cost(logits, labels):\n",
        "  '''\n",
        "  Computes the cost using the sigmoid cross entropy\n",
        "    \n",
        "  Arguments:\n",
        "  logits -- vector containing z, output of the last linear unit (before the final sigmoid activation)\n",
        "  labels -- vector of labels y (1 or 0) \n",
        "  \n",
        "  Note: What we've been calling \"z\" and \"y\" in this class are respectively called \"logits\" and \"labels\" \n",
        "  in the TensorFlow documentation. So logits will feed into z, and labels into y. \n",
        "    \n",
        "  Returns:\n",
        "  cost -- runs the session of the cost (formula (2))\n",
        "  '''\n",
        "\n",
        "  ### START CODE HERE ### \n",
        "    \n",
        "  # Create the placeholders for \"logits\" (z) and \"labels\" (y) (approx. 2 lines)\n",
        "  z = tf.placeholder(tf.float32, name='z')\n",
        "  y = tf.placeholder(tf.float32, name='y')\n",
        "  \n",
        "  # Use the loss function (approx. 1 line)\n",
        "  cost = tf.nn.sigmoid_cross_entropy_with_logits(logits=z, labels=y)\n",
        "  \n",
        "  # Create a session (approx. 1 line). See method 1 above.\n",
        "  sess = tf.Session()\n",
        "  \n",
        "  # Run the session (approx. 1 line).\n",
        "  cost = sess.run(cost, feed_dict={z: logits, y: labels})\n",
        "  \n",
        "  # Close the session (approx. 1 line). See method 1 above.\n",
        "  sess.close()\n",
        "  \n",
        "  ### END CODE HERE ###\n",
        "\n",
        "  return cost"
      ],
      "execution_count": 0,
      "outputs": []
    },
    {
      "cell_type": "code",
      "metadata": {
        "id": "vMNOA0L5_UPF",
        "colab_type": "code",
        "colab": {
          "base_uri": "https://localhost:8080/",
          "height": 35
        },
        "outputId": "c93f50a9-c759-4cfa-9096-875070b33289"
      },
      "source": [
        "logits = np.array([0.2, 0.4, 0.7, 0.9])\n",
        "\n",
        "cost = cost(logits, np.array([0, 0, 1, 1]))\n",
        "print(f'cost = {str(cost)}')"
      ],
      "execution_count": 30,
      "outputs": [
        {
          "output_type": "stream",
          "text": [
            "cost = [0.79813886 0.91301525 0.40318605 0.34115386]\n"
          ],
          "name": "stdout"
        }
      ]
    },
    {
      "cell_type": "markdown",
      "metadata": {
        "id": "K7PSSoBUB72d",
        "colab_type": "text"
      },
      "source": [
        "** Expected Output** : \n",
        "\n",
        "```\n",
        "cost = [ 0.79813886  0.91301525  0.40318605  0.34115386]\n",
        "```"
      ]
    },
    {
      "cell_type": "markdown",
      "metadata": {
        "id": "Tndy3FmgB8aL",
        "colab_type": "text"
      },
      "source": [
        "### 1.4 - Using One Hot encodings"
      ]
    },
    {
      "cell_type": "markdown",
      "metadata": {
        "id": "_HKQ9KriB__p",
        "colab_type": "text"
      },
      "source": [
        "Many times in deep learning you will have a y vector with numbers ranging from 0 to C-1, where C is the number of classes. If C is for example 4, then you might have the following y vector which you will need to convert as follows:\n",
        "\n",
        "<img src='https://github.com/rahiakela/img-repo/blob/master/deep-learning-specialization/onehot.png?raw=1' width='800'/>\n",
        "\n",
        "This is called a \"one hot\" encoding, because in the converted representation exactly one element of each column is \"hot\" (meaning set to 1). To do this conversion in numpy, you might have to write a few lines of code. In tensorflow, you can use one line of code: \n",
        "\n",
        "- tf.one_hot(labels, depth, axis) \n",
        "\n",
        "**Exercise:** Implement the function below to take one vector of labels and the total number of classes $C$, and return the one hot encoding. Use `tf.one_hot()` to do this. "
      ]
    },
    {
      "cell_type": "code",
      "metadata": {
        "id": "2hI5nf7Z_oDt",
        "colab_type": "code",
        "colab": {}
      },
      "source": [
        ""
      ],
      "execution_count": 0,
      "outputs": []
    }
  ]
}