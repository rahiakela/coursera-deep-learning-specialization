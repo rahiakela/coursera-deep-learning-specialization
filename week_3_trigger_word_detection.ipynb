{
  "nbformat": 4,
  "nbformat_minor": 0,
  "metadata": {
    "colab": {
      "name": "week-3-trigger_word_detection.ipynb",
      "provenance": [],
      "toc_visible": true,
      "authorship_tag": "ABX9TyOc/Wvjb45ui+N6mW2/X1pP",
      "include_colab_link": true
    },
    "kernelspec": {
      "name": "python3",
      "display_name": "Python 3"
    }
  },
  "cells": [
    {
      "cell_type": "markdown",
      "metadata": {
        "id": "view-in-github",
        "colab_type": "text"
      },
      "source": [
        "<a href=\"https://colab.research.google.com/github/rahiakela/coursera-deep-learning-specialization/blob/course-5-sequence-models-recurrent-neural-networks/week_3_trigger_word_detection.ipynb\" target=\"_parent\"><img src=\"https://colab.research.google.com/assets/colab-badge.svg\" alt=\"Open In Colab\"/></a>"
      ]
    },
    {
      "cell_type": "markdown",
      "metadata": {
        "id": "H9BIBHz37ccy",
        "colab_type": "text"
      },
      "source": [
        "## Trigger Word Detection"
      ]
    },
    {
      "cell_type": "markdown",
      "metadata": {
        "id": "VUy7jY2E7gqL",
        "colab_type": "text"
      },
      "source": [
        "Welcome to the final programming assignment of this specialization! \n",
        "\n",
        "In this week's videos, you learned about applying deep learning to speech recognition. In this assignment, you will construct a speech dataset and implement an algorithm for trigger word detection (sometimes also called keyword detection, or wake word detection). \n",
        "\n",
        "* Trigger word detection is the technology that allows devices like Amazon Alexa, Google Home, Apple Siri, and Baidu DuerOS to wake up upon hearing a certain word.  \n",
        "* For this exercise, our trigger word will be \"Activate.\" Every time it hears you say \"activate,\" it will make a \"chiming\" sound. \n",
        "* By the end of this assignment, you will be able to record a clip of yourself talking, and have the algorithm trigger a chime when it detects you saying \"activate.\" \n",
        "* After completing this assignment, perhaps you can also extend it to run on your laptop so that every time you say \"activate\" it starts up your favorite app, or turns on a network connected lamp in your house, or triggers some other event? \n",
        "\n",
        "<img src='https://github.com/rahiakela/img-repo/blob/master/deep-learning-specialization/sound.png?raw=1' width='800'/>\n",
        "\n",
        "In this assignment you will learn to: \n",
        "- Structure a speech recognition project\n",
        "- Synthesize and process audio recordings to create train/dev datasets\n",
        "- Train a trigger word detection model and make predictions"
      ]
    },
    {
      "cell_type": "markdown",
      "metadata": {
        "id": "A4sc8UOD7jro",
        "colab_type": "text"
      },
      "source": [
        "## Setup\n",
        "\n",
        "Let's get started! Run the following cell to load the package you are going to use.    "
      ]
    },
    {
      "cell_type": "code",
      "metadata": {
        "id": "Vvk6UCNU8l0e",
        "colab_type": "code",
        "colab": {}
      },
      "source": [
        "import numpy as np\n",
        "from pydub import AudioSegment\n",
        "import random\n",
        "import sys\n",
        "import io\n",
        "import os\n",
        "import glob\n",
        "import IPython\n",
        "from td_utils import *\n",
        "%matplotlib inline"
      ],
      "execution_count": 0,
      "outputs": []
    },
    {
      "cell_type": "markdown",
      "metadata": {
        "id": "5XYqB6YkAY0F",
        "colab_type": "text"
      },
      "source": [
        "## 1 - Data synthesis: Creating a speech dataset "
      ]
    },
    {
      "cell_type": "markdown",
      "metadata": {
        "id": "a6N-VVnXAZfC",
        "colab_type": "text"
      },
      "source": [
        "Let's start by building a dataset for your trigger word detection algorithm. \n",
        "* A speech dataset should ideally be as close as possible to the application you will want to run it on. \n",
        "* In this case, you'd like to detect the word \"activate\" in working environments (library, home, offices, open-spaces ...). \n",
        "* Therefore, you need to create recordings with a mix of positive words (\"activate\") and negative words (random words other than activate) on different background sounds. Let's see how you can create such a dataset. "
      ]
    },
    {
      "cell_type": "markdown",
      "metadata": {
        "id": "dwFo_StgAeeZ",
        "colab_type": "text"
      },
      "source": [
        "### 1.1 - Listening to the data "
      ]
    },
    {
      "cell_type": "markdown",
      "metadata": {
        "id": "99OKXCK2Ahxn",
        "colab_type": "text"
      },
      "source": [
        "* One of your friends is helping you out on this project, and they've gone to libraries, cafes, restaurants, homes and offices all around the region to record background noises, as well as snippets of audio of people saying positive/negative words. This dataset includes people speaking in a variety of accents. \n",
        "* In the raw_data directory, you can find a subset of the raw audio files of the positive words, negative words, and background noise. You will use these audio files to synthesize a dataset to train the model. \n",
        "    * The \"activate\" directory contains positive examples of people saying the word \"activate\". \n",
        "    * The \"negatives\" directory contains negative examples of people saying random words other than \"activate\". \n",
        "    * There is one word per audio recording. \n",
        "    * The \"backgrounds\" directory contains 10 second clips of background noise in different environments.\n",
        "\n",
        "Run the cells below to listen to some examples."
      ]
    },
    {
      "cell_type": "code",
      "metadata": {
        "id": "YDB1iHu-AkBZ",
        "colab_type": "code",
        "colab": {}
      },
      "source": [
        "IPython.display.Audio(\"./raw_data/activates/1.wav\")"
      ],
      "execution_count": 0,
      "outputs": []
    },
    {
      "cell_type": "code",
      "metadata": {
        "id": "ZsVRE4AXDcJe",
        "colab_type": "code",
        "colab": {}
      },
      "source": [
        "IPython.display.Audio(\"./raw_data/negatives/4.wav\")"
      ],
      "execution_count": 0,
      "outputs": []
    },
    {
      "cell_type": "code",
      "metadata": {
        "id": "ZeGtisLMDeiW",
        "colab_type": "code",
        "colab": {}
      },
      "source": [
        "IPython.display.Audio(\"./raw_data/backgrounds/1.wav\")"
      ],
      "execution_count": 0,
      "outputs": []
    },
    {
      "cell_type": "markdown",
      "metadata": {
        "id": "FcI1JwddDgyu",
        "colab_type": "text"
      },
      "source": [
        "You will use these three types of recordings (positives/negatives/backgrounds) to create a labeled dataset."
      ]
    },
    {
      "cell_type": "markdown",
      "metadata": {
        "id": "eLgAXByiDjeG",
        "colab_type": "text"
      },
      "source": [
        "## 1.2 - From audio recordings to spectrograms"
      ]
    },
    {
      "cell_type": "markdown",
      "metadata": {
        "id": "ioISxZWGDm1W",
        "colab_type": "text"
      },
      "source": [
        "What really is an audio recording? \n",
        "* A microphone records little variations in air pressure over time, and it is these little variations in air pressure that your ear also perceives as sound. \n",
        "* You can think of an audio recording is a long list of numbers measuring the little air pressure changes detected by the microphone. \n",
        "* We will use audio sampled at 44100 Hz (or 44100 Hertz). \n",
        "    * This means the microphone gives us 44,100 numbers per second. \n",
        "    * Thus, a 10 second audio clip is represented by 441,000 numbers (= $10 \\times 44,100$). "
      ]
    },
    {
      "cell_type": "markdown",
      "metadata": {
        "id": "vN1qbsnYDtDX",
        "colab_type": "text"
      },
      "source": [
        "### Spectrogram"
      ]
    },
    {
      "cell_type": "markdown",
      "metadata": {
        "id": "81DAR-p6Duwj",
        "colab_type": "text"
      },
      "source": [
        "* It is quite difficult to figure out from this \"raw\" representation of audio whether the word \"activate\" was said. \n",
        "* In  order to help your sequence model more easily learn to detect trigger words, we will compute a *spectrogram* of the audio. \n",
        "* The spectrogram tells us how much different frequencies are present in an audio clip at any moment in time. \n",
        "* If you've ever taken an advanced class on signal processing or on Fourier transforms:\n",
        "    * A spectrogram is computed by sliding a window over the raw audio signal, and calculating the most active frequencies in each window using a Fourier transform. \n",
        "    * If you don't understand the previous sentence, don't worry about it.\n",
        "\n",
        "Let's look at an example."
      ]
    },
    {
      "cell_type": "code",
      "metadata": {
        "id": "1NnQLTOODxhK",
        "colab_type": "code",
        "colab": {}
      },
      "source": [
        "IPython.display.Audio(\"audio_examples/example_train.wav\")"
      ],
      "execution_count": 0,
      "outputs": []
    },
    {
      "cell_type": "code",
      "metadata": {
        "id": "yZtR3qyuD4Oz",
        "colab_type": "code",
        "colab": {}
      },
      "source": [
        "x = graph_spectrogram(\"audio_examples/example_train.wav\")"
      ],
      "execution_count": 0,
      "outputs": []
    },
    {
      "cell_type": "markdown",
      "metadata": {
        "id": "ImuOAHuXD6ug",
        "colab_type": "text"
      },
      "source": [
        "The graph above represents how active each frequency is (y axis) over a number of time-steps (x axis). \n",
        "\n",
        "<img src='https://github.com/rahiakela/img-repo/blob/master/deep-learning-specialization/spectrogram.png?raw=1' width='800'/>\n",
        "<center> **Figure 1**: Spectrogram of an audio recording </center>\n",
        "\n",
        "* The color in the spectrogram shows the degree to which different frequencies are present (loud) in the audio at different points in time. \n",
        "* Green means a certain frequency is more active or more present in the audio clip (louder).\n",
        "* Blue squares denote less active frequencies.\n",
        "* The dimension of the output spectrogram depends upon the hyperparameters of the spectrogram software and the length of the input. \n",
        "* In this notebook, we will be working with 10 second audio clips as the \"standard length\" for our training examples. \n",
        "    * The number of timesteps of the spectrogram will be 5511. \n",
        "    * You'll see later that the spectrogram will be the input $x$ into the network, and so $T_x = 5511$."
      ]
    },
    {
      "cell_type": "code",
      "metadata": {
        "id": "xmbYkhnmD86C",
        "colab_type": "code",
        "colab": {}
      },
      "source": [
        "_, data = wavfile.read('audio_examples/example_train.wav')\n",
        "print(f'Time steps in audio recording before spectrogram {data[:, 0].shape}')\n",
        "print(f'Time steps in input after spectrogram {x.shape}')"
      ],
      "execution_count": 0,
      "outputs": []
    },
    {
      "cell_type": "markdown",
      "metadata": {
        "id": "_gHbzzi0Ekot",
        "colab_type": "text"
      },
      "source": [
        "Now, you can define:"
      ]
    },
    {
      "cell_type": "code",
      "metadata": {
        "id": "MbB9R6nTElMQ",
        "colab_type": "code",
        "colab": {}
      },
      "source": [
        "Tx = 5511  # The number of time steps input to the model from the spectrogram\n",
        "n_freq = 101 # Number of frequencies input to the model at each time step of the spectrogram"
      ],
      "execution_count": 0,
      "outputs": []
    },
    {
      "cell_type": "markdown",
      "metadata": {
        "id": "3wGaXMiiE0EK",
        "colab_type": "text"
      },
      "source": [
        "### Dividing into time-intervals"
      ]
    },
    {
      "cell_type": "markdown",
      "metadata": {
        "id": "iGP3PYPVE1zA",
        "colab_type": "text"
      },
      "source": [
        "Note that we may divide a 10 second interval of time with different units (steps).\n",
        "* Raw audio divides 10 seconds into 441,000 units.\n",
        "* A spectrogram divides 10 seconds into 5,511 units.\n",
        "    * $T_x = 5511$\n",
        "* You will use a Python module `pydub` to synthesize audio, and it divides 10 seconds into 10,000 units.\n",
        "* The output of our model will divide 10 seconds into 1,375 units.\n",
        "    * $T_y = 1375$\n",
        "    * For each of the 1375 time steps, the model predicts whether someone recently finished saying the trigger word \"activate.\" \n",
        "* All of these are hyperparameters and can be changed (except the 441000, which is a function of the microphone). \n",
        "* We have chosen values that are within the standard range used for speech systems."
      ]
    },
    {
      "cell_type": "code",
      "metadata": {
        "id": "hy9GBoiKE69P",
        "colab_type": "code",
        "colab": {}
      },
      "source": [
        "Ty = 1375   # The number of time steps in the output of our model"
      ],
      "execution_count": 0,
      "outputs": []
    },
    {
      "cell_type": "markdown",
      "metadata": {
        "id": "kNs98PcTE_zH",
        "colab_type": "text"
      },
      "source": [
        "## 1.3 - Generating a single training example"
      ]
    },
    {
      "cell_type": "markdown",
      "metadata": {
        "id": "XoEtngegFCpV",
        "colab_type": "text"
      },
      "source": [
        "#### Benefits of synthesizing data\n",
        "Because speech data is hard to acquire and label, you will synthesize your training data using the audio clips of activates, negatives, and backgrounds. \n",
        "* It is quite slow to record lots of 10 second audio clips with random \"activates\" in it. \n",
        "* Instead, it is easier to record lots of positives and negative words, and record background noise separately (or download background noise from free online sources). \n",
        "\n",
        "#### Process for Synthesizing an audio clip\n",
        "* To synthesize a single training example, you will:\n",
        "    - Pick a random 10 second background audio clip\n",
        "    - Randomly insert 0-4 audio clips of \"activate\" into this 10sec clip\n",
        "    - Randomly insert 0-2 audio clips of negative words into this 10sec clip\n",
        "* Because you had synthesized the word \"activate\" into the background clip, you know exactly when in the 10 second clip the \"activate\" makes its appearance. \n",
        "    * You'll see later that this makes it easier to generate the labels $y^{\\langle t \\rangle}$ as well. \n",
        "\n",
        "#### Pydub\n",
        "* You will use the pydub package to manipulate audio. \n",
        "* Pydub converts raw audio files into lists of Pydub data structures.\n",
        "    * Don't worry about the details of the data structures.\n",
        "* Pydub uses 1ms as the discretization interval (1ms is 1 millisecond = 1/1000 seconds).\n",
        "    * This is why a 10 second clip is always represented using 10,000 steps. "
      ]
    },
    {
      "cell_type": "code",
      "metadata": {
        "id": "vo7whpeQvQTT",
        "colab_type": "code",
        "colab": {}
      },
      "source": [
        "# Load audio segments using pydub \n",
        "activates, negatives, backgrounds = load_raw_audio()\n",
        "\n",
        "print(\"background len should be 10,000, since it is a 10 sec clip\\n\" + str(len(backgrounds[0])),\"\\n\")\n",
        "print(\"activate[0] len may be around 1000, since an `activate` audio clip is usually around 1 second (but varies a lot) \\n\" + str(len(activates[0])),\"\\n\")\n",
        "print(\"activate[1] len: different `activate` clips can have different lengths\\n\" + str(len(activates[1])),\"\\n\")"
      ],
      "execution_count": 0,
      "outputs": []
    },
    {
      "cell_type": "markdown",
      "metadata": {
        "id": "RrvIHsU9vQ5K",
        "colab_type": "text"
      },
      "source": [
        "### Overlaying positive/negative 'word' audio clips on top of the background audio"
      ]
    },
    {
      "cell_type": "markdown",
      "metadata": {
        "id": "w_0ibsPTvU6_",
        "colab_type": "text"
      },
      "source": [
        "* Given a 10 second background clip and a short audio clip containing a positive or negative word, you need to be able to \"add\" the word audio clip on top of the background audio.\n",
        "* You will be inserting multiple clips of positive/negative words into the background, and you don't want to insert an \"activate\" or a random word somewhere that overlaps with another clip you had previously added. \n",
        "    * To ensure that the 'word' audio segments do not overlap when inserted, you will keep track of the times of previously inserted audio clips. \n",
        "* To be clear, when you insert a 1 second \"activate\" onto a 10 second clip of cafe noise, **you do not end up with an 11 sec clip.** \n",
        "    * The resulting audio clip is still 10 seconds long.\n",
        "    * You'll see later how pydub allows you to do this.  "
      ]
    },
    {
      "cell_type": "markdown",
      "metadata": {
        "id": "XfHH1kZMvX1v",
        "colab_type": "text"
      },
      "source": [
        "#### Label the positive/negative words"
      ]
    },
    {
      "cell_type": "markdown",
      "metadata": {
        "id": "roCIOlL-vcN-",
        "colab_type": "text"
      },
      "source": [
        "* Recall that the labels $y^{\\langle t \\rangle}$ represent whether or not someone has just finished saying \"activate.\" \n",
        "    * $y^{\\langle t \\rangle} = 1$ when that that clip has finished saying \"activate\".\n",
        "    * Given a background clip, we can initialize $y^{\\langle t \\rangle}=0$ for all $t$, since the clip doesn't contain any \"activates.\" \n",
        "* When you insert or overlay an \"activate\" clip, you will also update labels for $y^{\\langle t \\rangle}$.\n",
        "    * Rather than updating the label of a single time step, we will update 50 steps of the output to have target label 1. \n",
        "    * Recall from the lecture on trigger word detection that updating several consecutive time steps can make the training data more balanced.\n",
        "* You will train a GRU (Gated Recurrent Unit) to detect when someone has **finished** saying \"activate\". \n"
      ]
    },
    {
      "cell_type": "markdown",
      "metadata": {
        "id": "5BEwSzrov7Jx",
        "colab_type": "text"
      },
      "source": [
        "##### Example\n"
      ]
    },
    {
      "cell_type": "markdown",
      "metadata": {
        "id": "KY5D3RoEv9Kh",
        "colab_type": "text"
      },
      "source": [
        "* Suppose the synthesized \"activate\" clip ends at the 5 second mark in the 10 second audio - exactly halfway into the clip. \n",
        "* Recall that $T_y = 1375$, so timestep $687 = $ `int(1375*0.5)` corresponds to the moment 5 seconds into the audio clip. \n",
        "* Set $y^{\\langle 688 \\rangle} = 1$. \n",
        "* We will allow the GRU to detect \"activate\" anywhere within a short time-internal **after** this moment, so we actually **set 50 consecutive values** of the label $y^{\\langle t \\rangle}$ to 1. \n",
        "    * Specifically, we have $y^{\\langle 688 \\rangle} = y^{\\langle 689 \\rangle} = \\cdots = y^{\\langle 737 \\rangle} = 1$.  \n"
      ]
    },
    {
      "cell_type": "markdown",
      "metadata": {
        "id": "9LK8DXwnv_Ih",
        "colab_type": "text"
      },
      "source": [
        "##### Synthesized data is easier to label\n"
      ]
    },
    {
      "cell_type": "markdown",
      "metadata": {
        "id": "G2L6v06CwAx1",
        "colab_type": "text"
      },
      "source": [
        "* This is another reason for synthesizing the training data: It's relatively straightforward to generate these labels $y^{\\langle t \\rangle}$ as described above. \n",
        "* In contrast, if you have 10sec of audio recorded on a microphone, it's quite time consuming for a person to listen to it and mark manually exactly when \"activate\" finished."
      ]
    },
    {
      "cell_type": "markdown",
      "metadata": {
        "id": "emGppPx_wBkM",
        "colab_type": "text"
      },
      "source": [
        "#### Visualizing the labels"
      ]
    },
    {
      "cell_type": "markdown",
      "metadata": {
        "id": "TEdUrOKvwGGX",
        "colab_type": "text"
      },
      "source": [
        "* Here's a figure illustrating the labels $y^{\\langle t \\rangle}$ in a clip.\n",
        "    * We have inserted \"activate\", \"innocent\", activate\", \"baby.\" \n",
        "    * Note that the positive labels \"1\" are associated only with the positive words. \n",
        "\n",
        "<img src='https://github.com/rahiakela/img-repo/blob/master/deep-learning-specialization/label_diagram.png?raw=1' width='800'/>\n",
        "<center> **Figure 2** </center>"
      ]
    },
    {
      "cell_type": "markdown",
      "metadata": {
        "id": "Ghg99PSRwSRp",
        "colab_type": "text"
      },
      "source": [
        "#### Helper functions"
      ]
    },
    {
      "cell_type": "markdown",
      "metadata": {
        "id": "fNWSod6owS0H",
        "colab_type": "text"
      },
      "source": [
        "To implement the training set synthesis process, you will use the following helper functions. \n",
        "* All of these functions will use a 1ms discretization interval\n",
        "* The 10 seconds of audio is always discretized into 10,000 steps. \n",
        "\n",
        "\n",
        "1. `get_random_time_segment(segment_ms)`\n",
        "    * Retrieves a random time segment from the background audio.\n",
        "2. `is_overlapping(segment_time, existing_segments)`\n",
        "    * Checks if a time segment overlaps with existing segments\n",
        "3. `insert_audio_clip(background, audio_clip, existing_times)`\n",
        "    * Inserts an audio segment at a random time in the background audio\n",
        "    * Uses the functions `get_random_time_segment` and `is_overlapping`\n",
        "4. `insert_ones(y, segment_end_ms)`\n",
        "    * Inserts additional 1's into the label vector y after the word \"activate\""
      ]
    },
    {
      "cell_type": "markdown",
      "metadata": {
        "id": "BBDu2FqRwU6G",
        "colab_type": "text"
      },
      "source": [
        "#### Get a random time segment"
      ]
    },
    {
      "cell_type": "markdown",
      "metadata": {
        "id": "c39LM8LhwX5s",
        "colab_type": "text"
      },
      "source": [
        "* The function `get_random_time_segment(segment_ms)` returns a random time segment onto which we can insert an audio clip of duration `segment_ms`. \n",
        "* Please read through the code to make sure you understand what it is doing. "
      ]
    },
    {
      "cell_type": "code",
      "metadata": {
        "id": "m-UEupitwZ-k",
        "colab_type": "code",
        "colab": {}
      },
      "source": [
        "def get_random_time_segment(segment_ms):\n",
        "    \"\"\"\n",
        "    Gets a random time segment of duration segment_ms in a 10,000 ms audio clip.\n",
        "    \n",
        "    Arguments:\n",
        "    segment_ms -- the duration of the audio clip in ms (\"ms\" stands for \"milliseconds\")\n",
        "    \n",
        "    Returns:\n",
        "    segment_time -- a tuple of (segment_start, segment_end) in ms\n",
        "    \"\"\"\n",
        "    \n",
        "    segment_start = np.random.randint(low=0, high=10000-segment_ms)   # Make sure segment doesn't run past the 10sec background \n",
        "    segment_end = segment_start + segment_ms - 1\n",
        "    \n",
        "    return (segment_start, segment_end)"
      ],
      "execution_count": 0,
      "outputs": []
    },
    {
      "cell_type": "markdown",
      "metadata": {
        "id": "SBXQ4GiY7TkD",
        "colab_type": "text"
      },
      "source": [
        "#### Check if audio clips are overlapping"
      ]
    },
    {
      "cell_type": "markdown",
      "metadata": {
        "id": "WR7ZzPbi7WvN",
        "colab_type": "text"
      },
      "source": [
        "* Suppose you have inserted audio clips at segments (1000,1800) and (3400,4500).\n",
        "    * The first segment starts at step 1000 and ends at step 1800. \n",
        "    * The second segment starts at 3400 and ends at 4500.\n",
        "* If we are considering whether to insert a new audio clip at (3000,3600) does this overlap with one of the previously inserted segments? \n",
        "    * In this case, (3000,3600) and (3400,4500) overlap, so we should decide against inserting a clip here.\n",
        "* For the purpose of this function, define (100,200) and (200,250) to be overlapping, since they overlap at timestep 200. \n",
        "* (100,199) and (200,250) are non-overlapping. \n",
        "\n",
        "**Exercise**: \n",
        "* Implement `is_overlapping(segment_time, existing_segments)` to check if a new time segment overlaps with any of the previous segments. \n",
        "* You will need to carry out 2 steps:\n",
        "\n",
        "1. Create a \"False\" flag, that you will later set to \"True\" if you find that there is an overlap.\n",
        "2. Loop over the previous_segments' start and end times. Compare these times to the segment's start and end times. If there is an overlap, set the flag defined in (1) as True. \n",
        "\n",
        "You can use:\n",
        "```python\n",
        "for ....:\n",
        "        if ... <= ... and ... >= ...:\n",
        "            ...\n",
        "```\n",
        "Hint: There is overlap if:\n",
        "* The new segment starts before the previous segment ends **and**\n",
        "* The new segment ends after the previous segment starts."
      ]
    },
    {
      "cell_type": "code",
      "metadata": {
        "id": "iarNDxGx7ZT7",
        "colab_type": "code",
        "colab": {}
      },
      "source": [
        "# GRADED FUNCTION: is_overlapping\n",
        "\n",
        "def is_overlapping(segment_time, previous_segments):\n",
        "    \"\"\"\n",
        "    Checks if the time of a segment overlaps with the times of existing segments.\n",
        "    \n",
        "    Arguments:\n",
        "    segment_time -- a tuple of (segment_start, segment_end) for the new segment\n",
        "    previous_segments -- a list of tuples of (segment_start, segment_end) for the existing segments\n",
        "    \n",
        "    Returns:\n",
        "    True if the time segment overlaps with any of the existing segments, False otherwise\n",
        "    \"\"\"\n",
        "    \n",
        "    segment_start, segment_end = segment_time\n",
        "    \n",
        "    ### START CODE HERE ### (≈ 4 lines)\n",
        "    # Step 1: Initialize overlap as a \"False\" flag. (≈ 1 line)\n",
        "    overlap = False\n",
        "    \n",
        "    # Step 2: loop over the previous_segments start and end times.\n",
        "    # Compare start/end times and set the flag to True if there is an overlap (≈ 3 lines)\n",
        "    for previous_start, previous_end in previous_segments:\n",
        "        if segment_start <= previous_end and segment_end >= previous_start:\n",
        "            overlap = True\n",
        "    ### END CODE HERE ###\n",
        "\n",
        "    return overlap"
      ],
      "execution_count": 0,
      "outputs": []
    },
    {
      "cell_type": "code",
      "metadata": {
        "id": "5jJSgHyd7cfE",
        "colab_type": "code",
        "colab": {}
      },
      "source": [
        "overlap1 = is_overlapping((950, 1430), [(2000, 2550), (260, 949)])\n",
        "overlap2 = is_overlapping((2305, 2950), [(824, 1532), (1900, 2305), (3424, 3656)])\n",
        "print(\"Overlap 1 = \", overlap1)\n",
        "print(\"Overlap 2 = \", overlap2)"
      ],
      "execution_count": 0,
      "outputs": []
    },
    {
      "cell_type": "markdown",
      "metadata": {
        "id": "heDD9EMt7fMo",
        "colab_type": "text"
      },
      "source": [
        "**Expected Output**:\n",
        "\n",
        "<table>\n",
        "    <tr>\n",
        "        <td>\n",
        "            **Overlap 1**\n",
        "        </td>\n",
        "        <td>\n",
        "           False\n",
        "        </td>\n",
        "    </tr>\n",
        "    <tr>\n",
        "        <td>\n",
        "            **Overlap 2**\n",
        "        </td>\n",
        "        <td>\n",
        "           True\n",
        "        </td>\n",
        "    </tr>\n",
        "</table>"
      ]
    },
    {
      "cell_type": "markdown",
      "metadata": {
        "id": "bM3GfS1g7k70",
        "colab_type": "text"
      },
      "source": [
        "#### Insert audio clip"
      ]
    },
    {
      "cell_type": "markdown",
      "metadata": {
        "id": "YbqK0A4N7lZ9",
        "colab_type": "text"
      },
      "source": [
        "* Let's use the previous helper functions to insert a new audio clip onto the 10 second background at a random time.\n",
        "* We will ensure that any newly inserted segment doesn't overlap with previously inserted segments. \n",
        "\n",
        "**Exercise**:\n",
        "* Implement `insert_audio_clip()` to overlay an audio clip onto the background 10sec clip. \n",
        "* You implement 4 steps:\n",
        "\n",
        "1. Get the length of the audio clip that is to be inserted.\n",
        "    * Get a random time segment whose duration equals the duration of the audio clip that is to be inserted.\n",
        "2. Make sure that the time segment does not overlap with any of the previous time segments. \n",
        "    * If it is overlapping, then go back to step 1 and pick a new time segment.\n",
        "3. Append the new time segment to the list of existing time segments\n",
        "    * This keeps track of all the segments you've inserted.  \n",
        "4. Overlay the audio clip over the background using pydub. We have implemented this for you."
      ]
    },
    {
      "cell_type": "code",
      "metadata": {
        "id": "GPYhFsNW7nZO",
        "colab_type": "code",
        "colab": {}
      },
      "source": [
        "# GRADED FUNCTION: insert_audio_clip\n",
        "\n",
        "def insert_audio_clip(background, audio_clip, previous_segments):\n",
        "    \"\"\"\n",
        "    Insert a new audio segment over the background noise at a random time step, ensuring that the \n",
        "    audio segment does not overlap with existing segments.\n",
        "    \n",
        "    Arguments:\n",
        "    background -- a 10 second background audio recording.  \n",
        "    audio_clip -- the audio clip to be inserted/overlaid. \n",
        "    previous_segments -- times where audio segments have already been placed\n",
        "    \n",
        "    Returns:\n",
        "    new_background -- the updated background audio\n",
        "    \"\"\"\n",
        "    \n",
        "    # Get the duration of the audio clip in ms\n",
        "    segment_ms = len(audio_clip)\n",
        "    \n",
        "    ### START CODE HERE ### \n",
        "    # Step 1: Use one of the helper functions to pick a random time segment onto which to insert \n",
        "    # the new audio clip. (≈ 1 line)\n",
        "    segment_time = get_random_time_segment(segment_ms)\n",
        "    \n",
        "    # Step 2: Check if the new segment_time overlaps with one of the previous_segments. If so, keep \n",
        "    # picking new segment_time at random until it doesn't overlap. (≈ 2 lines)\n",
        "    while is_overlapping(segment_time, previous_segments):\n",
        "        segment_time = get_random_time_segment(segment_ms)\n",
        "\n",
        "    # Step 3: Append the new segment_time to the list of previous_segments (≈ 1 line)\n",
        "    previous_segments.append(segment_time)\n",
        "    ### END CODE HERE ###\n",
        "    \n",
        "    # Step 4: Superpose audio segment and background\n",
        "    new_background = background.overlay(audio_clip, position = segment_time[0])\n",
        "    \n",
        "    return new_background, segment_time"
      ],
      "execution_count": 0,
      "outputs": []
    },
    {
      "cell_type": "code",
      "metadata": {
        "id": "AvW57JEV7qso",
        "colab_type": "code",
        "colab": {}
      },
      "source": [
        "np.random.seed(5)\n",
        "audio_clip, segment_time = insert_audio_clip(backgrounds[0], activates[0], [(3790, 4400)])\n",
        "audio_clip.export(\"insert_test.wav\", format=\"wav\")\n",
        "print(\"Segment Time: \", segment_time)\n",
        "IPython.display.Audio(\"insert_test.wav\")"
      ],
      "execution_count": 0,
      "outputs": []
    },
    {
      "cell_type": "markdown",
      "metadata": {
        "id": "cYxvw1FC7s2g",
        "colab_type": "text"
      },
      "source": [
        "**Expected Output**\n",
        "\n",
        "<table>\n",
        "    <tr>\n",
        "        <td>\n",
        "            **Segment Time**\n",
        "        </td>\n",
        "        <td>\n",
        "           (2254, 3169)\n",
        "        </td>\n",
        "    </tr>\n",
        "</table>"
      ]
    },
    {
      "cell_type": "code",
      "metadata": {
        "id": "DCR4HAU27v3n",
        "colab_type": "code",
        "colab": {}
      },
      "source": [
        "# Expected audio\n",
        "IPython.display.Audio(\"audio_examples/insert_reference.wav\")"
      ],
      "execution_count": 0,
      "outputs": []
    },
    {
      "cell_type": "markdown",
      "metadata": {
        "id": "fXRk-gE57xk6",
        "colab_type": "text"
      },
      "source": [
        "#### Insert ones for the labels of the positive target"
      ]
    },
    {
      "cell_type": "markdown",
      "metadata": {
        "id": "jq6IiNF2QPrQ",
        "colab_type": "text"
      },
      "source": [
        "* Implement code to update the labels $y^{\\langle t \\rangle}$, assuming you just inserted an \"activate\" audio clip.\n",
        "* In the code below, `y` is a `(1,1375)` dimensional vector, since $T_y = 1375$. \n",
        "* If the \"activate\" audio clip ends at time step $t$, then set $y^{\\langle t+1 \\rangle} = 1$ and also set the next 49 additional consecutive values to 1.\n",
        "    * Notice that if the target word appears near the end of the entire audio clip, there may not be 50 additional time steps to set to 1.\n",
        "    * Make sure you don't run off the end of the array and try to update `y[0][1375]`, since the valid indices are `y[0][0]` through `y[0][1374]` because $T_y = 1375$. \n",
        "    * So if \"activate\" ends at step 1370, you would get only set `y[0][1371] = y[0][1372] = y[0][1373] = y[0][1374] = 1`\n",
        "\n",
        "**Exercise**: \n",
        "Implement `insert_ones()`. \n",
        "* You can use a for loop. \n",
        "* If you want to use Python's array slicing operations, you can do so as well.\n",
        "* If a segment ends at `segment_end_ms` (using a 10000 step discretization),\n",
        "    * To convert it to the indexing for the outputs $y$ (using a $1375$ step discretization), we will use this formula:  \n",
        "```\n",
        "    segment_end_y = int(segment_end_ms * Ty / 10000.0)\n",
        "```"
      ]
    },
    {
      "cell_type": "code",
      "metadata": {
        "id": "zs3YGxDAQSfy",
        "colab_type": "code",
        "colab": {}
      },
      "source": [
        "# GRADED FUNCTION: insert_ones\n",
        "\n",
        "def insert_ones(y, segment_end_ms):\n",
        "    \"\"\"\n",
        "    Update the label vector y. The labels of the 50 output steps strictly after the end of the segment \n",
        "    should be set to 1. By strictly we mean that the label of segment_end_y should be 0 while, the\n",
        "    50 following labels should be ones.\n",
        "    \n",
        "    \n",
        "    Arguments:\n",
        "    y -- numpy array of shape (1, Ty), the labels of the training example\n",
        "    segment_end_ms -- the end time of the segment in ms\n",
        "    \n",
        "    Returns:\n",
        "    y -- updated labels\n",
        "    \"\"\"\n",
        "    \n",
        "    # duration of the background (in terms of spectrogram time-steps)\n",
        "    segment_end_y = int(segment_end_ms * Ty / 10000.0)\n",
        "    \n",
        "    # Add 1 to the correct index in the background label (y)\n",
        "    ### START CODE HERE ### (≈ 3 lines)\n",
        "    for i in range(None, None):\n",
        "        if None < None:\n",
        "            y[0, i] = None\n",
        "    ### END CODE HERE ###\n",
        "    \n",
        "    return y"
      ],
      "execution_count": 0,
      "outputs": []
    },
    {
      "cell_type": "code",
      "metadata": {
        "id": "Lc7rSYJ5QYeJ",
        "colab_type": "code",
        "colab": {}
      },
      "source": [
        "arr1 = insert_ones(np.zeros((1, Ty)), 9700)\n",
        "plt.plot(insert_ones(arr1, 4251)[0,:])\n",
        "print(\"sanity checks:\", arr1[0][1333], arr1[0][634], arr1[0][635])"
      ],
      "execution_count": 0,
      "outputs": []
    },
    {
      "cell_type": "markdown",
      "metadata": {
        "id": "edfuuQIAQbKv",
        "colab_type": "text"
      },
      "source": [
        "**Expected Output**\n",
        "<table>\n",
        "    <tr>\n",
        "        <td>\n",
        "            **sanity checks**:\n",
        "        </td>\n",
        "        <td>\n",
        "           0.0 1.0 0.0\n",
        "        </td>\n",
        "    </tr>\n",
        "</table>\n",
        "<img src='https://github.com/rahiakela/img-repo/blob/master/deep-learning-specialization/ones_reference.png?raw=1' width='800'/>"
      ]
    },
    {
      "cell_type": "markdown",
      "metadata": {
        "id": "GHBqe22uQmk2",
        "colab_type": "text"
      },
      "source": [
        ""
      ]
    }
  ]
}