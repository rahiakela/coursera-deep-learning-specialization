{
  "nbformat": 4,
  "nbformat_minor": 0,
  "metadata": {
    "colab": {
      "name": "week-3-trigger_word_detection.ipynb",
      "provenance": [],
      "toc_visible": true,
      "authorship_tag": "ABX9TyMVXqu1Xwe6UcBIRoKmNnXr",
      "include_colab_link": true
    },
    "kernelspec": {
      "name": "python3",
      "display_name": "Python 3"
    }
  },
  "cells": [
    {
      "cell_type": "markdown",
      "metadata": {
        "id": "view-in-github",
        "colab_type": "text"
      },
      "source": [
        "<a href=\"https://colab.research.google.com/github/rahiakela/coursera-deep-learning-specialization/blob/course-5-sequence-models-recurrent-neural-networks/week_3_trigger_word_detection.ipynb\" target=\"_parent\"><img src=\"https://colab.research.google.com/assets/colab-badge.svg\" alt=\"Open In Colab\"/></a>"
      ]
    },
    {
      "cell_type": "markdown",
      "metadata": {
        "id": "H9BIBHz37ccy",
        "colab_type": "text"
      },
      "source": [
        "## Trigger Word Detection"
      ]
    },
    {
      "cell_type": "markdown",
      "metadata": {
        "id": "VUy7jY2E7gqL",
        "colab_type": "text"
      },
      "source": [
        "Welcome to the final programming assignment of this specialization! \n",
        "\n",
        "In this week's videos, you learned about applying deep learning to speech recognition. In this assignment, you will construct a speech dataset and implement an algorithm for trigger word detection (sometimes also called keyword detection, or wake word detection). \n",
        "\n",
        "* Trigger word detection is the technology that allows devices like Amazon Alexa, Google Home, Apple Siri, and Baidu DuerOS to wake up upon hearing a certain word.  \n",
        "* For this exercise, our trigger word will be \"Activate.\" Every time it hears you say \"activate,\" it will make a \"chiming\" sound. \n",
        "* By the end of this assignment, you will be able to record a clip of yourself talking, and have the algorithm trigger a chime when it detects you saying \"activate.\" \n",
        "* After completing this assignment, perhaps you can also extend it to run on your laptop so that every time you say \"activate\" it starts up your favorite app, or turns on a network connected lamp in your house, or triggers some other event? \n",
        "\n",
        "<img src='https://github.com/rahiakela/img-repo/blob/master/deep-learning-specialization/sound.png?raw=1' width='800'/>\n",
        "\n",
        "In this assignment you will learn to: \n",
        "- Structure a speech recognition project\n",
        "- Synthesize and process audio recordings to create train/dev datasets\n",
        "- Train a trigger word detection model and make predictions"
      ]
    },
    {
      "cell_type": "markdown",
      "metadata": {
        "id": "A4sc8UOD7jro",
        "colab_type": "text"
      },
      "source": [
        "## Setup\n",
        "\n",
        "Let's get started! Run the following cell to load the package you are going to use.    "
      ]
    },
    {
      "cell_type": "code",
      "metadata": {
        "id": "Vvk6UCNU8l0e",
        "colab_type": "code",
        "colab": {}
      },
      "source": [
        "import numpy as np\n",
        "from pydub import AudioSegment\n",
        "import random\n",
        "import sys\n",
        "import io\n",
        "import os\n",
        "import glob\n",
        "import IPython\n",
        "from td_utils import *\n",
        "%matplotlib inline"
      ],
      "execution_count": 0,
      "outputs": []
    },
    {
      "cell_type": "markdown",
      "metadata": {
        "id": "5XYqB6YkAY0F",
        "colab_type": "text"
      },
      "source": [
        "## 1 - Data synthesis: Creating a speech dataset "
      ]
    },
    {
      "cell_type": "markdown",
      "metadata": {
        "id": "a6N-VVnXAZfC",
        "colab_type": "text"
      },
      "source": [
        "Let's start by building a dataset for your trigger word detection algorithm. \n",
        "* A speech dataset should ideally be as close as possible to the application you will want to run it on. \n",
        "* In this case, you'd like to detect the word \"activate\" in working environments (library, home, offices, open-spaces ...). \n",
        "* Therefore, you need to create recordings with a mix of positive words (\"activate\") and negative words (random words other than activate) on different background sounds. Let's see how you can create such a dataset. "
      ]
    },
    {
      "cell_type": "markdown",
      "metadata": {
        "id": "dwFo_StgAeeZ",
        "colab_type": "text"
      },
      "source": [
        "### 1.1 - Listening to the data "
      ]
    },
    {
      "cell_type": "markdown",
      "metadata": {
        "id": "99OKXCK2Ahxn",
        "colab_type": "text"
      },
      "source": [
        "* One of your friends is helping you out on this project, and they've gone to libraries, cafes, restaurants, homes and offices all around the region to record background noises, as well as snippets of audio of people saying positive/negative words. This dataset includes people speaking in a variety of accents. \n",
        "* In the raw_data directory, you can find a subset of the raw audio files of the positive words, negative words, and background noise. You will use these audio files to synthesize a dataset to train the model. \n",
        "    * The \"activate\" directory contains positive examples of people saying the word \"activate\". \n",
        "    * The \"negatives\" directory contains negative examples of people saying random words other than \"activate\". \n",
        "    * There is one word per audio recording. \n",
        "    * The \"backgrounds\" directory contains 10 second clips of background noise in different environments.\n",
        "\n",
        "Run the cells below to listen to some examples."
      ]
    },
    {
      "cell_type": "code",
      "metadata": {
        "id": "YDB1iHu-AkBZ",
        "colab_type": "code",
        "colab": {}
      },
      "source": [
        "IPython.display.Audio(\"./raw_data/activates/1.wav\")"
      ],
      "execution_count": 0,
      "outputs": []
    },
    {
      "cell_type": "code",
      "metadata": {
        "id": "ZsVRE4AXDcJe",
        "colab_type": "code",
        "colab": {}
      },
      "source": [
        "IPython.display.Audio(\"./raw_data/negatives/4.wav\")"
      ],
      "execution_count": 0,
      "outputs": []
    },
    {
      "cell_type": "code",
      "metadata": {
        "id": "ZeGtisLMDeiW",
        "colab_type": "code",
        "colab": {}
      },
      "source": [
        "IPython.display.Audio(\"./raw_data/backgrounds/1.wav\")"
      ],
      "execution_count": 0,
      "outputs": []
    },
    {
      "cell_type": "markdown",
      "metadata": {
        "id": "FcI1JwddDgyu",
        "colab_type": "text"
      },
      "source": [
        "You will use these three types of recordings (positives/negatives/backgrounds) to create a labeled dataset."
      ]
    },
    {
      "cell_type": "markdown",
      "metadata": {
        "id": "eLgAXByiDjeG",
        "colab_type": "text"
      },
      "source": [
        "## 1.2 - From audio recordings to spectrograms"
      ]
    },
    {
      "cell_type": "markdown",
      "metadata": {
        "id": "ioISxZWGDm1W",
        "colab_type": "text"
      },
      "source": [
        "What really is an audio recording? \n",
        "* A microphone records little variations in air pressure over time, and it is these little variations in air pressure that your ear also perceives as sound. \n",
        "* You can think of an audio recording is a long list of numbers measuring the little air pressure changes detected by the microphone. \n",
        "* We will use audio sampled at 44100 Hz (or 44100 Hertz). \n",
        "    * This means the microphone gives us 44,100 numbers per second. \n",
        "    * Thus, a 10 second audio clip is represented by 441,000 numbers (= $10 \\times 44,100$). "
      ]
    },
    {
      "cell_type": "markdown",
      "metadata": {
        "id": "vN1qbsnYDtDX",
        "colab_type": "text"
      },
      "source": [
        "### Spectrogram"
      ]
    },
    {
      "cell_type": "markdown",
      "metadata": {
        "id": "81DAR-p6Duwj",
        "colab_type": "text"
      },
      "source": [
        "* It is quite difficult to figure out from this \"raw\" representation of audio whether the word \"activate\" was said. \n",
        "* In  order to help your sequence model more easily learn to detect trigger words, we will compute a *spectrogram* of the audio. \n",
        "* The spectrogram tells us how much different frequencies are present in an audio clip at any moment in time. \n",
        "* If you've ever taken an advanced class on signal processing or on Fourier transforms:\n",
        "    * A spectrogram is computed by sliding a window over the raw audio signal, and calculating the most active frequencies in each window using a Fourier transform. \n",
        "    * If you don't understand the previous sentence, don't worry about it.\n",
        "\n",
        "Let's look at an example."
      ]
    },
    {
      "cell_type": "code",
      "metadata": {
        "id": "1NnQLTOODxhK",
        "colab_type": "code",
        "colab": {}
      },
      "source": [
        "IPython.display.Audio(\"audio_examples/example_train.wav\")"
      ],
      "execution_count": 0,
      "outputs": []
    },
    {
      "cell_type": "code",
      "metadata": {
        "id": "yZtR3qyuD4Oz",
        "colab_type": "code",
        "colab": {}
      },
      "source": [
        "x = graph_spectrogram(\"audio_examples/example_train.wav\")"
      ],
      "execution_count": 0,
      "outputs": []
    },
    {
      "cell_type": "markdown",
      "metadata": {
        "id": "ImuOAHuXD6ug",
        "colab_type": "text"
      },
      "source": [
        "The graph above represents how active each frequency is (y axis) over a number of time-steps (x axis). \n",
        "\n",
        "<img src='https://github.com/rahiakela/img-repo/blob/master/deep-learning-specialization/spectrogram.png?raw=1' width='800'/>\n",
        "<center> **Figure 1**: Spectrogram of an audio recording </center>\n",
        "\n",
        "* The color in the spectrogram shows the degree to which different frequencies are present (loud) in the audio at different points in time. \n",
        "* Green means a certain frequency is more active or more present in the audio clip (louder).\n",
        "* Blue squares denote less active frequencies.\n",
        "* The dimension of the output spectrogram depends upon the hyperparameters of the spectrogram software and the length of the input. \n",
        "* In this notebook, we will be working with 10 second audio clips as the \"standard length\" for our training examples. \n",
        "    * The number of timesteps of the spectrogram will be 5511. \n",
        "    * You'll see later that the spectrogram will be the input $x$ into the network, and so $T_x = 5511$."
      ]
    },
    {
      "cell_type": "code",
      "metadata": {
        "id": "xmbYkhnmD86C",
        "colab_type": "code",
        "colab": {}
      },
      "source": [
        "_, data = wavfile.read('audio_examples/example_train.wav')\n",
        "print(f'Time steps in audio recording before spectrogram {data[:, 0].shape}')\n",
        "print(f'Time steps in input after spectrogram {x.shape}')"
      ],
      "execution_count": 0,
      "outputs": []
    },
    {
      "cell_type": "markdown",
      "metadata": {
        "id": "_gHbzzi0Ekot",
        "colab_type": "text"
      },
      "source": [
        "Now, you can define:"
      ]
    },
    {
      "cell_type": "code",
      "metadata": {
        "id": "MbB9R6nTElMQ",
        "colab_type": "code",
        "colab": {}
      },
      "source": [
        "Tx = 5511  # The number of time steps input to the model from the spectrogram\n",
        "n_freq = 101 # Number of frequencies input to the model at each time step of the spectrogram"
      ],
      "execution_count": 0,
      "outputs": []
    },
    {
      "cell_type": "markdown",
      "metadata": {
        "id": "3wGaXMiiE0EK",
        "colab_type": "text"
      },
      "source": [
        "### Dividing into time-intervals"
      ]
    },
    {
      "cell_type": "markdown",
      "metadata": {
        "id": "iGP3PYPVE1zA",
        "colab_type": "text"
      },
      "source": [
        "Note that we may divide a 10 second interval of time with different units (steps).\n",
        "* Raw audio divides 10 seconds into 441,000 units.\n",
        "* A spectrogram divides 10 seconds into 5,511 units.\n",
        "    * $T_x = 5511$\n",
        "* You will use a Python module `pydub` to synthesize audio, and it divides 10 seconds into 10,000 units.\n",
        "* The output of our model will divide 10 seconds into 1,375 units.\n",
        "    * $T_y = 1375$\n",
        "    * For each of the 1375 time steps, the model predicts whether someone recently finished saying the trigger word \"activate.\" \n",
        "* All of these are hyperparameters and can be changed (except the 441000, which is a function of the microphone). \n",
        "* We have chosen values that are within the standard range used for speech systems."
      ]
    },
    {
      "cell_type": "code",
      "metadata": {
        "id": "hy9GBoiKE69P",
        "colab_type": "code",
        "colab": {}
      },
      "source": [
        "Ty = 1375   # The number of time steps in the output of our model"
      ],
      "execution_count": 0,
      "outputs": []
    },
    {
      "cell_type": "markdown",
      "metadata": {
        "id": "kNs98PcTE_zH",
        "colab_type": "text"
      },
      "source": [
        "## 1.3 - Generating a single training example"
      ]
    },
    {
      "cell_type": "markdown",
      "metadata": {
        "id": "XoEtngegFCpV",
        "colab_type": "text"
      },
      "source": [
        ""
      ]
    }
  ]
}