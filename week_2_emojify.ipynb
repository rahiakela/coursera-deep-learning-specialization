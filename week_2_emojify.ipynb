{
  "nbformat": 4,
  "nbformat_minor": 0,
  "metadata": {
    "colab": {
      "name": "week-2-emojify.ipynb",
      "provenance": [],
      "toc_visible": true,
      "authorship_tag": "ABX9TyMDB/QhEFrCLJjGYd5FZm7v",
      "include_colab_link": true
    },
    "kernelspec": {
      "name": "python3",
      "display_name": "Python 3"
    }
  },
  "cells": [
    {
      "cell_type": "markdown",
      "metadata": {
        "id": "view-in-github",
        "colab_type": "text"
      },
      "source": [
        "<a href=\"https://colab.research.google.com/github/rahiakela/coursera-deep-learning-specialization/blob/course-5-sequence-models-recurrent-neural-networks/week_2_emojify.ipynb\" target=\"_parent\"><img src=\"https://colab.research.google.com/assets/colab-badge.svg\" alt=\"Open In Colab\"/></a>"
      ]
    },
    {
      "cell_type": "markdown",
      "metadata": {
        "id": "xo5niL_U3WfY",
        "colab_type": "text"
      },
      "source": [
        "# Emojify! "
      ]
    },
    {
      "cell_type": "markdown",
      "metadata": {
        "id": "iSJD9t5L3XEK",
        "colab_type": "text"
      },
      "source": [
        "Welcome to the second assignment of Week 2. You are going to use word vector representations to build an Emojifier. \n",
        "\n",
        "Have you ever wanted to make your text messages more expressive? Your emojifier app will help you do that. \n",
        "So rather than writing:\n",
        ">\"Congratulations on the promotion! Let's get coffee and talk. Love you!\"   \n",
        "\n",
        "The emojifier can automatically turn this into:\n",
        ">\"Congratulations on the promotion! 👍 Let's get coffee and talk. ☕️ Love you! ❤️\"\n",
        "\n",
        "* You will implement a model which inputs a sentence (such as \"Let's go see the baseball game tonight!\") and finds the most appropriate emoji to be used with this sentence (⚾️)."
      ]
    },
    {
      "cell_type": "markdown",
      "metadata": {
        "id": "wFbSDn9R3Ze8",
        "colab_type": "text"
      },
      "source": [
        "#### Using word vectors to improve emoji lookups"
      ]
    },
    {
      "cell_type": "markdown",
      "metadata": {
        "id": "VVyfR65p3d71",
        "colab_type": "text"
      },
      "source": [
        "* In many emoji interfaces, you need to remember that ❤️ is the \"heart\" symbol rather than the \"love\" symbol. \n",
        "    * In other words, you'll have to remember to type \"heart\" to find the desired emoji, and typing \"love\" won't bring up that symbol.\n",
        "* We can make a more flexible emoji interface by using word vectors!\n",
        "* When using word vectors, you'll see that even if your training set explicitly relates only a few words to a particular emoji, your algorithm will be able to generalize and associate additional words in the test set to the same emoji.\n",
        "    * This works even if those additional words don't even appear in the training set. \n",
        "    * This allows you to build an accurate classifier mapping from sentences to emojis, even using a small training set. "
      ]
    },
    {
      "cell_type": "markdown",
      "metadata": {
        "id": "VQaxbQz33gR7",
        "colab_type": "text"
      },
      "source": [
        "#### What you'll build\n",
        "1. In this exercise, you'll start with a baseline model (Emojifier-V1) using word embeddings.\n",
        "2. Then you will build a more sophisticated model (Emojifier-V2) that further incorporates an LSTM. "
      ]
    },
    {
      "cell_type": "markdown",
      "metadata": {
        "id": "YA1xhgbe3olP",
        "colab_type": "text"
      },
      "source": [
        "## Setup\n",
        "\n",
        "Let's get started! Run the following cell to load the package you are going to use. "
      ]
    },
    {
      "cell_type": "code",
      "metadata": {
        "id": "K19aKdW57H-a",
        "colab_type": "code",
        "colab": {
          "base_uri": "https://localhost:8080/",
          "height": 203
        },
        "outputId": "e18a4221-2b2a-4529-e320-42b4a14f63d1"
      },
      "source": [
        "# install emoji\n",
        "! pip install emoji"
      ],
      "execution_count": 2,
      "outputs": [
        {
          "output_type": "stream",
          "text": [
            "Collecting emoji\n",
            "\u001b[?25l  Downloading https://files.pythonhosted.org/packages/40/8d/521be7f0091fe0f2ae690cc044faf43e3445e0ff33c574eae752dd7e39fa/emoji-0.5.4.tar.gz (43kB)\n",
            "\r\u001b[K     |███████▌                        | 10kB 16.3MB/s eta 0:00:01\r\u001b[K     |███████████████                 | 20kB 3.1MB/s eta 0:00:01\r\u001b[K     |██████████████████████▋         | 30kB 4.0MB/s eta 0:00:01\r\u001b[K     |██████████████████████████████▏ | 40kB 2.9MB/s eta 0:00:01\r\u001b[K     |████████████████████████████████| 51kB 2.5MB/s \n",
            "\u001b[?25hBuilding wheels for collected packages: emoji\n",
            "  Building wheel for emoji (setup.py) ... \u001b[?25l\u001b[?25hdone\n",
            "  Created wheel for emoji: filename=emoji-0.5.4-cp36-none-any.whl size=42175 sha256=487efc44aecf1a7c984c0fecb8d4fc7fdfeb14ab62b3e38bf9241347a7edb686\n",
            "  Stored in directory: /root/.cache/pip/wheels/2a/a9/0a/4f8e8cce8074232aba240caca3fade315bb49fac68808d1a9c\n",
            "Successfully built emoji\n",
            "Installing collected packages: emoji\n",
            "Successfully installed emoji-0.5.4\n"
          ],
          "name": "stdout"
        }
      ]
    },
    {
      "cell_type": "code",
      "metadata": {
        "id": "PvSJHtch3p6j",
        "colab_type": "code",
        "colab": {}
      },
      "source": [
        "import numpy as np\n",
        "from emo_utils import *\n",
        "import emoji\n",
        "import matplotlib.pyplot as plt\n",
        "\n",
        "%matplotlib inline"
      ],
      "execution_count": 0,
      "outputs": []
    },
    {
      "cell_type": "markdown",
      "metadata": {
        "id": "SrAZi4_l7ZfG",
        "colab_type": "text"
      },
      "source": [
        "## 1 - Baseline model: Emojifier-V1"
      ]
    },
    {
      "cell_type": "markdown",
      "metadata": {
        "id": "egVgFFvS7aGb",
        "colab_type": "text"
      },
      "source": [
        "### 1.1 - Dataset EMOJISET"
      ]
    },
    {
      "cell_type": "markdown",
      "metadata": {
        "id": "rXDGZM5S7eN1",
        "colab_type": "text"
      },
      "source": [
        "Let's start by building a simple baseline classifier. \n",
        "\n",
        "You have a tiny dataset (X, Y) where:\n",
        "- X contains 127 sentences (strings).\n",
        "- Y contains an integer label between 0 and 4 corresponding to an emoji for each sentence.\n",
        "\n",
        "<img src='https://github.com/rahiakela/img-repo/blob/master/deep-learning-specialization/data_set.png?raw=1' width='800'/>\n",
        "<caption><center> **Figure 1**: EMOJISET - a classification problem with 5 classes. A few examples of sentences are given here. </center></caption>\n",
        "\n",
        "Let's load the dataset using the code below. We split the dataset between training (127 examples) and testing (56 examples)."
      ]
    },
    {
      "cell_type": "code",
      "metadata": {
        "id": "rWE3WaBA7EL3",
        "colab_type": "code",
        "colab": {}
      },
      "source": [
        "X_train, Y_train = read_csv('data/train_emoji.csv')\n",
        "X_test, Y_test = read_csv('data/tesss.csv')"
      ],
      "execution_count": 0,
      "outputs": []
    },
    {
      "cell_type": "code",
      "metadata": {
        "id": "3ER1T-tAHUdv",
        "colab_type": "code",
        "colab": {}
      },
      "source": [
        "maxLen = len(max(X_train, key=len).split())"
      ],
      "execution_count": 0,
      "outputs": []
    },
    {
      "cell_type": "markdown",
      "metadata": {
        "id": "-0e2q0OrHX-F",
        "colab_type": "text"
      },
      "source": [
        "Run the following cell to print sentences from X_train and corresponding labels from Y_train. \n",
        "* Change `idx` to see different examples. \n",
        "* Note that due to the font used by iPython notebook, the heart emoji may be colored black rather than red."
      ]
    },
    {
      "cell_type": "code",
      "metadata": {
        "id": "lXRZFJS2HYhW",
        "colab_type": "code",
        "colab": {}
      },
      "source": [
        "for idx in range(10):\n",
        "    print(X_train[idx], label_to_emoji(Y_train[idx]))"
      ],
      "execution_count": 0,
      "outputs": []
    },
    {
      "cell_type": "markdown",
      "metadata": {
        "id": "TPyFoSKFHbhd",
        "colab_type": "text"
      },
      "source": [
        "### 1.2 - Overview of the Emojifier-V1"
      ]
    },
    {
      "cell_type": "markdown",
      "metadata": {
        "id": "VZBkmWEbHheT",
        "colab_type": "text"
      },
      "source": [
        "In this part, you are going to implement a baseline model called \"Emojifier-v1\".  \n",
        "\n",
        "<center>\n",
        "<img src='https://github.com/rahiakela/img-repo/blob/master/deep-learning-specialization/image_1.png?raw=1' width='800'/>\n",
        "<caption><center> **Figure 2**: Baseline model (Emojifier-V1).</center></caption>\n",
        "</center>\n",
        "\n",
        "\n",
        "#### Inputs and outputs\n",
        "* The input of the model is a string corresponding to a sentence (e.g. \"I love you). \n",
        "* The output will be a probability vector of shape (1,5), (there are 5 emojis to choose from).\n",
        "* The (1,5) probability vector is passed to an argmax layer, which extracts the index of the emoji with the highest probability.\n",
        "\n",
        "#### One-hot encoding\n",
        "* To get our labels into a format suitable for training a softmax classifier, lets convert $Y$ from its current shape  $(m, 1)$ into a \"one-hot representation\" $(m, 5)$, \n",
        "    * Each row is a one-hot vector giving the label of one example.\n",
        "    * Here, `Y_oh` stands for \"Y-one-hot\" in the variable names `Y_oh_train` and `Y_oh_test`: "
      ]
    },
    {
      "cell_type": "code",
      "metadata": {
        "id": "dwk46GjlHw75",
        "colab_type": "code",
        "colab": {}
      },
      "source": [
        "Y_oh_train = convert_to_one_hot(Y_train, C = 5)\n",
        "Y_oh_test = convert_to_one_hot(Y_test, C = 5)"
      ],
      "execution_count": 0,
      "outputs": []
    },
    {
      "cell_type": "markdown",
      "metadata": {
        "id": "g49WZSeKH5xX",
        "colab_type": "text"
      },
      "source": [
        "Let's see what `convert_to_one_hot()` did. Feel free to change `index` to print out different values. "
      ]
    },
    {
      "cell_type": "code",
      "metadata": {
        "id": "W-NyEDgQH76X",
        "colab_type": "code",
        "colab": {}
      },
      "source": [
        "idx = 50\n",
        "print(f'Sentence \"{X_train[50]}\" has label index {Y_train[idx]}, which is emoji {label_to_emoji(Y_train[idx])}')\n",
        "print(f'Label index {Y_train[idx]} in one-hot encoding format is {Y_oh_train[idx]}')"
      ],
      "execution_count": 0,
      "outputs": []
    },
    {
      "cell_type": "markdown",
      "metadata": {
        "id": "9UKOVQOeIPgL",
        "colab_type": "text"
      },
      "source": [
        "All the data is now ready to be fed into the Emojify-V1 model. Let's implement the model!"
      ]
    },
    {
      "cell_type": "markdown",
      "metadata": {
        "id": "_2HddezLIQJu",
        "colab_type": "text"
      },
      "source": [
        "### 1.3 - Implementing Emojifier-V1"
      ]
    },
    {
      "cell_type": "markdown",
      "metadata": {
        "id": "ssCzHAXAITnW",
        "colab_type": "text"
      },
      "source": [
        "As shown in Figure 2 (above), the first step is to:\n",
        "* Convert each word in the input sentence into their word vector representations.\n",
        "* Then take an average of the word vectors. \n",
        "* Similar to the previous exercise, we will use pre-trained 50-dimensional GloVe embeddings. \n",
        "\n",
        "Run the following cell to load the `word_to_vec_map`, which contains all the vector representations."
      ]
    },
    {
      "cell_type": "code",
      "metadata": {
        "id": "ch0tjHrfIVpZ",
        "colab_type": "code",
        "colab": {}
      },
      "source": [
        ""
      ],
      "execution_count": 0,
      "outputs": []
    }
  ]
}