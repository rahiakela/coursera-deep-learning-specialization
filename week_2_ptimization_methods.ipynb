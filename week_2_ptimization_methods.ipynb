{
  "nbformat": 4,
  "nbformat_minor": 0,
  "metadata": {
    "colab": {
      "name": "week-2-ptimization-methods.ipynb",
      "provenance": [],
      "toc_visible": true,
      "include_colab_link": true
    },
    "kernelspec": {
      "name": "python3",
      "display_name": "Python 3"
    }
  },
  "cells": [
    {
      "cell_type": "markdown",
      "metadata": {
        "id": "view-in-github",
        "colab_type": "text"
      },
      "source": [
        "<a href=\"https://colab.research.google.com/github/rahiakela/coursera-deep-learning-specialization/blob/course-2-improving-deep-neural-networks/week_2_ptimization_methods.ipynb\" target=\"_parent\"><img src=\"https://colab.research.google.com/assets/colab-badge.svg\" alt=\"Open In Colab\"/></a>"
      ]
    },
    {
      "cell_type": "markdown",
      "metadata": {
        "id": "sfP_Zzw0Sw_p",
        "colab_type": "text"
      },
      "source": [
        "# Optimization"
      ]
    },
    {
      "cell_type": "markdown",
      "metadata": {
        "id": "0JRdzcGZSxrW",
        "colab_type": "text"
      },
      "source": [
        "Welcome to the optimization's programming assignment of the hyper-parameters tuning specialization. There are many different optimization algorithms you could be using to get you to the minimal cost. Similarly, there are many different paths down this hill to the lowest point.\n",
        "\n",
        "By completing this assignment you will:\n",
        "\n",
        "- Understand the intuition between Adam and RMS prop\n",
        "\n",
        "- Recognize the importance of mini-batch gradient descent\n",
        "\n",
        "- Learn the effects of momentum on the overall performance of your model\n",
        "\n",
        "This assignment prepares you well for the upcoming assignment. Take your time to complete it and make sure you get the expected outputs when working through the different exercises.\n",
        "\n",
        "Until now, you've always used Gradient Descent to update the parameters and minimize the cost. In this notebook, you will learn more advanced optimization methods that can speed up learning and perhaps even get you to a better final value for the cost function. Having a good optimization algorithm can be the difference between waiting days vs. just a few hours to get a good result. \n",
        "\n",
        "Gradient descent goes \"downhill\" on a cost function $J$. Think of it as trying to do this: \n",
        "\n",
        "<img src='https://github.com/rahiakela/img-repo/blob/master/deep-learning-specialization/cost.jpg?raw=1' width='800'/>\n",
        "<caption><center> <u> **Figure 1** </u>: **Minimizing the cost is like finding the lowest point in a hilly landscape**<br> At each step of the training, you update your parameters following a certain direction to try to get to the lowest possible point. </center></caption>\n",
        "\n",
        "**Notations**: As usual, $\\frac{\\partial J}{\\partial a } = $ `da` for any variable `a`.\n",
        "\n",
        "To get started, run the following code to import the libraries you will need."
      ]
    },
    {
      "cell_type": "markdown",
      "metadata": {
        "id": "7iBGqNdpTwYt",
        "colab_type": "text"
      },
      "source": [
        "## Setup"
      ]
    },
    {
      "cell_type": "code",
      "metadata": {
        "id": "-QSECcjCTzdQ",
        "colab_type": "code",
        "colab": {}
      },
      "source": [
        "import numpy as np\n",
        "import matplotlib.pyplot as plt\n",
        "import scipy.io\n",
        "import math\n",
        "import sklearn\n",
        "import sklearn.datasets\n",
        "\n",
        "from opt_utils_v1a import load_params_and_grads, initialize_parameters, forward_propagation, backward_propagation\n",
        "from opt_utils_v1a import compute_cost, predict, predict_dec, plot_decision_boundary, load_dataset\n",
        "from testCases import *\n",
        "\n",
        "%matplotlib inline\n",
        "plt.rcParams['figure.figsize'] = (7.0, 4.0) # set default size of plots\n",
        "plt.rcParams['image.interpolation'] = 'nearest'\n",
        "plt.rcParams['image.cmap'] = 'gray'"
      ],
      "execution_count": 0,
      "outputs": []
    },
    {
      "cell_type": "markdown",
      "metadata": {
        "id": "Mv8zx7orTyLX",
        "colab_type": "text"
      },
      "source": [
        "## 1 - Gradient Descent"
      ]
    },
    {
      "cell_type": "markdown",
      "metadata": {
        "id": "cF4qztX8WDA_",
        "colab_type": "text"
      },
      "source": [
        "A simple optimization method in machine learning is gradient descent (GD). When you take gradient steps with respect to all $m$ examples on each step, it is also called Batch Gradient Descent. \n",
        "\n",
        "**Warm-up exercise**: Implement the gradient descent update rule. The  gradient descent rule is, for $l = 1, ..., L$: \n",
        "$$ W^{[l]} = W^{[l]} - \\alpha \\text{ } dW^{[l]} \\tag{1}$$\n",
        "$$ b^{[l]} = b^{[l]} - \\alpha \\text{ } db^{[l]} \\tag{2}$$\n",
        "\n",
        "where L is the number of layers and $\\alpha$ is the learning rate. All parameters should be stored in the `parameters` dictionary. Note that the iterator `l` starts at 0 in the `for` loop while the first parameters are $W^{[1]}$ and $b^{[1]}$. You need to shift `l` to `l+1` when coding."
      ]
    },
    {
      "cell_type": "code",
      "metadata": {
        "id": "nP3w5Z90WJkF",
        "colab_type": "code",
        "colab": {}
      },
      "source": [
        "# FUNCTION: update_parameters_with_gd\n",
        "def update_parameters_with_gd(parameters, grads, learning_rate):\n",
        "  '''\n",
        "  Update parameters using one step of gradient descent\n",
        "    \n",
        "  Arguments:\n",
        "  parameters -- python dictionary containing your parameters to be updated:\n",
        "                  parameters['W' + str(l)] = Wl\n",
        "                  parameters['b' + str(l)] = bl\n",
        "  grads -- python dictionary containing your gradients to update each parameters:\n",
        "                  grads['dW' + str(l)] = dWl\n",
        "                  grads['db' + str(l)] = dbl\n",
        "  learning_rate -- the learning rate, scalar.\n",
        "  \n",
        "  Returns:\n",
        "  parameters -- python dictionary containing your updated parameters\n",
        "  '''\n",
        "\n",
        "  L = len(parameters) // 2   # number of layers in the neural networks\n",
        "\n",
        "  # Update rule for each parameter\n",
        "  for layer in range(L):\n",
        "    ### START CODE HERE ### (approx. 2 lines)\n",
        "    parameters[\"W\" + str(layer+1)] = grads['dW' + str(layer + 1)] - (learning_rate * grads['dW' + str(layer + 1)])\n",
        "    parameters[\"b\" + str(layer+1)] = grads['db' + str(layer + 1)] - (learning_rate * grads['db' + str(layer + 1)])\n",
        "    ### END CODE HERE ###\n",
        "  \n",
        "  return parameters"
      ],
      "execution_count": 0,
      "outputs": []
    },
    {
      "cell_type": "code",
      "metadata": {
        "id": "a-O1GtPUWqW4",
        "colab_type": "code",
        "outputId": "2fa3c8a3-e171-4f45-eae3-7079050b5319",
        "colab": {
          "base_uri": "https://localhost:8080/",
          "height": 266
        }
      },
      "source": [
        "parameters, grads, learning_rate = update_parameters_with_gd_test_case()\n",
        "\n",
        "parameters = update_parameters_with_gd(parameters, grads, learning_rate)\n",
        "print(f'W1 =\\n {str(parameters[\"W1\"])}')\n",
        "print(f'b1 =\\n {str(parameters[\"b1\"])}')\n",
        "print(f'W2 =\\n\" {str(parameters[\"W2\"])}')\n",
        "print(f'b2 =\\n {str(parameters[\"b2\"])}')"
      ],
      "execution_count": 3,
      "outputs": [
        {
          "output_type": "stream",
          "text": [
            "W1 =\n",
            " [[-1.08961299  1.13327647  0.89257481]\n",
            " [ 0.4974694   0.89184739 -0.67689058]]\n",
            "b1 =\n",
            " [[-0.12166132]\n",
            " [-0.92641174]]\n",
            "W2 =\n",
            "\" [[-0.2652092   0.52505191 -0.68474414]\n",
            " [-0.39278599 -0.68030097 -0.83675359]\n",
            " [-0.66453367 -0.01253795 -1.10613725]]\n",
            "b2 =\n",
            " [[0.23207154]\n",
            " [1.64320416]\n",
            " [0.73462372]]\n"
          ],
          "name": "stdout"
        }
      ]
    },
    {
      "cell_type": "markdown",
      "metadata": {
        "id": "XiNbdX3wXjLm",
        "colab_type": "text"
      },
      "source": [
        "**Expected Output**:\n",
        "\n",
        "```\n",
        "W1 =\n",
        "[[ 1.63535156 -0.62320365 -0.53718766]\n",
        " [-1.07799357  0.85639907 -2.29470142]]\n",
        "b1 =\n",
        "[[ 1.74604067]\n",
        " [-0.75184921]]\n",
        "W2 =\n",
        "[[ 0.32171798 -0.25467393  1.46902454]\n",
        " [-2.05617317 -0.31554548 -0.3756023 ]\n",
        " [ 1.1404819  -1.09976462 -0.1612551 ]]\n",
        "b2 =\n",
        "[[-0.88020257]\n",
        " [ 0.02561572]\n",
        " [ 0.57539477]]\n",
        "```"
      ]
    },
    {
      "cell_type": "markdown",
      "metadata": {
        "id": "QOpiaGGBXxUo",
        "colab_type": "text"
      },
      "source": [
        "A variant of this is Stochastic Gradient Descent (SGD), which is equivalent to mini-batch gradient descent where each mini-batch has just 1 example. The update rule that you have just implemented does not change. What changes is that you would be computing gradients on just one training example at a time, rather than on the whole training set. The code examples below illustrate the difference between stochastic gradient descent and (batch) gradient descent. \n",
        "\n",
        "- **(Batch) Gradient Descent**:\n",
        "\n",
        "``` python\n",
        "X = data_input\n",
        "Y = labels\n",
        "parameters = initialize_parameters(layers_dims)\n",
        "for i in range(0, num_iterations):\n",
        "    # Forward propagation\n",
        "    a, caches = forward_propagation(X, parameters)\n",
        "    # Compute cost.\n",
        "    cost += compute_cost(a, Y)\n",
        "    # Backward propagation.\n",
        "    grads = backward_propagation(a, caches, parameters)\n",
        "    # Update parameters.\n",
        "    parameters = update_parameters(parameters, grads)\n",
        "        \n",
        "```\n",
        "\n",
        "- **Stochastic Gradient Descent**:\n",
        "\n",
        "```python\n",
        "X = data_input\n",
        "Y = labels\n",
        "parameters = initialize_parameters(layers_dims)\n",
        "for i in range(0, num_iterations):\n",
        "    for j in range(0, m):\n",
        "        # Forward propagation\n",
        "        a, caches = forward_propagation(X[:,j], parameters)\n",
        "        # Compute cost\n",
        "        cost += compute_cost(a, Y[:,j])\n",
        "        # Backward propagation\n",
        "        grads = backward_propagation(a, caches, parameters)\n",
        "        # Update parameters.\n",
        "        parameters = update_parameters(parameters, grads)\n",
        "```\n"
      ]
    },
    {
      "cell_type": "markdown",
      "metadata": {
        "id": "MPNaHHO9X5WJ",
        "colab_type": "text"
      },
      "source": [
        "In Stochastic Gradient Descent, you use only 1 training example before updating the gradients. When the training set is large, SGD can be faster. But the parameters will \"oscillate\" toward the minimum rather than converge smoothly. Here is an illustration of this: \n",
        "\n",
        "<img src='https://github.com/rahiakela/img-repo/blob/master/deep-learning-specialization/kiank_sgd.png?raw=1' width='800'/>\n",
        "<caption><center> <u> <font color='purple'> **Figure 1** </u><font color='purple'>  : **SGD vs GD**<br> \"+\" denotes a minimum of the cost. SGD leads to many oscillations to reach convergence. But each step is a lot faster to compute for SGD than for GD, as it uses only one training example (vs. the whole batch for GD). </center></caption>\n",
        "\n",
        "**Note** also that implementing SGD requires 3 for-loops in total:\n",
        "1. Over the number of iterations\n",
        "2. Over the $m$ training examples\n",
        "3. Over the layers (to update all parameters, from $(W^{[1]},b^{[1]})$ to $(W^{[L]},b^{[L]})$)\n",
        "\n",
        "In practice, you'll often get faster results if you do not use neither the whole training set, nor only one training example, to perform each update. Mini-batch gradient descent uses an intermediate number of examples for each step. With mini-batch gradient descent, you loop over the mini-batches instead of looping over individual training examples.\n",
        "\n",
        "<img src='https://github.com/rahiakela/img-repo/blob/master/deep-learning-specialization/kiank_minibatch.png?raw=1' width='800'/>\n",
        "<caption><center> <u> <font color='purple'> **Figure 2** </u>: <font color='purple'>  **SGD vs Mini-Batch GD**<br> \"+\" denotes a minimum of the cost. Using mini-batches in your optimization algorithm often leads to faster optimization. </center></caption>\n",
        "\n",
        "<font color='blue'>\n",
        "**What you should remember**:\n",
        "- The difference between gradient descent, mini-batch gradient descent and stochastic gradient descent is the number of examples you use to perform one update step.\n",
        "- You have to tune a learning rate hyperparameter $\\alpha$.\n",
        "- With a well-turned mini-batch size, usually it outperforms either gradient descent or stochastic gradient descent (particularly when the training set is large)."
      ]
    },
    {
      "cell_type": "markdown",
      "metadata": {
        "id": "3hSirVMqXyEI",
        "colab_type": "text"
      },
      "source": [
        "## 2 - Mini-Batch Gradient descent"
      ]
    },
    {
      "cell_type": "markdown",
      "metadata": {
        "id": "FfITxkjEY2BW",
        "colab_type": "text"
      },
      "source": [
        "Let's learn how to build mini-batches from the training set (X, Y).\n",
        "\n",
        "There are two steps:\n",
        "- **Shuffle**: Create a shuffled version of the training set (X, Y) as shown below. Each column of X and Y represents a training example. Note that the random shuffling is done synchronously between X and Y. Such that after the shuffling the $i^{th}$ column of X is the example corresponding to the $i^{th}$ label in Y. The shuffling step ensures that examples will be split randomly into different mini-batches. \n",
        "\n",
        "<img src='https://github.com/rahiakela/img-repo/blob/master/deep-learning-specialization/kiank_shuffle.png?raw=1' width='800'/>\n",
        "\n",
        "- **Partition**: Partition the shuffled (X, Y) into mini-batches of size `mini_batch_size` (here 64). Note that the number of training examples is not always divisible by `mini_batch_size`. The last mini batch might be smaller, but you don't need to worry about this. When the final mini-batch is smaller than the full `mini_batch_size`, it will look like this: \n",
        "\n",
        "<img src='https://github.com/rahiakela/img-repo/blob/master/deep-learning-specialization/kiank_partition.png?raw=1' width='800'/>\n",
        "\n",
        "**Exercise**: Implement `random_mini_batches`. We coded the shuffling part for you. To help you with the partitioning step, we give you the following code that selects the indexes for the $1^{st}$ and $2^{nd}$ mini-batches:\n",
        "```python\n",
        "first_mini_batch_X = shuffled_X[:, 0 : mini_batch_size]\n",
        "second_mini_batch_X = shuffled_X[:, mini_batch_size : 2 * mini_batch_size]\n",
        "...\n",
        "```\n",
        "\n",
        "Note that the last mini-batch might end up smaller than `mini_batch_size=64`. Let $\\lfloor s \\rfloor$ represents $s$ rounded down to the nearest integer (this is `math.floor(s)` in Python). If the total number of examples is not a multiple of `mini_batch_size=64` then there will be $\\lfloor \\frac{m}{mini\\_batch\\_size}\\rfloor$ mini-batches with a full 64 examples, and the number of examples in the final mini-batch will be ($m-mini_\\_batch_\\_size \\times \\lfloor \\frac{m}{mini\\_batch\\_size}\\rfloor$). "
      ]
    },
    {
      "cell_type": "code",
      "metadata": {
        "id": "XlRKO-2WXXTX",
        "colab_type": "code",
        "colab": {}
      },
      "source": [
        "# FUNCTION: random_mini_batches\n",
        "def random_mini_batches(X, Y, mini_batch_size=64, seed=0):\n",
        "  '''\n",
        "  Creates a list of random minibatches from (X, Y)\n",
        "    \n",
        "  Arguments:\n",
        "  X -- input data, of shape (input size, number of examples)\n",
        "  Y -- true \"label\" vector (1 for blue dot / 0 for red dot), of shape (1, number of examples)\n",
        "  mini_batch_size -- size of the mini-batches, integer\n",
        "  \n",
        "  Returns:\n",
        "  mini_batches -- list of synchronous (mini_batch_X, mini_batch_Y)\n",
        "  '''\n",
        "\n",
        "  np.random.seed(seed)          # To make your \"random\" minibatches the same as ours\n",
        "  m = X.shape[1]                # number of training examples\n",
        "  mini_batches = []\n",
        "\n",
        "  # Step 1: Shuffle (X, Y)\n",
        "  permutation = list(np.random.permutation(m))\n",
        "  shuffled_X = X[:, permutation]\n",
        "  shuffled_Y = Y[:, permutation].reshape((1, m))\n",
        "\n",
        "  # Step 2: Partition (shuffled_X, shuffled_Y). Minus the end case.\n",
        "  num_complete_minibatches = math.floor(m / mini_batch_size)  # number of mini batches of size mini_batch_size in your partitionning\n",
        "  for k in range(0, num_complete_minibatches):\n",
        "    \n",
        "    ### START CODE HERE ### (approx. 2 lines)\n",
        "    mini_batch_X = shuffled_X[:, 0: mini_batch_size]\n",
        "    mini_batch_Y = shuffled_Y[:, 0: mini_batch_size]\n",
        "    ### END CODE HERE ###\n",
        "    mini_batch = (mini_batch_X, mini_batch_Y)\n",
        "    mini_batches.append(mini_batch)\n",
        "\n",
        "  # Handling the end case (last mini-batch < mini_batch_size)\n",
        "  if m % mini_batch_size != 0:\n",
        "    ### START CODE HERE ### (approx. 2 lines)\n",
        "    mini_batch_X = shuffled_X[:, : (m - mini_batch_size * num_complete_minibatches)]\n",
        "    mini_batch_Y = shuffled_Y[:, :(m - mini_batch_size * num_complete_minibatches)]\n",
        "    ### END CODE HERE ###\n",
        "    mini_batch = (mini_batch_X, mini_batch_Y)\n",
        "    mini_batches.append(mini_batch)\n",
        "\n",
        "  return mini_batches"
      ],
      "execution_count": 0,
      "outputs": []
    },
    {
      "cell_type": "code",
      "metadata": {
        "id": "8Wbo27jGMWwy",
        "colab_type": "code",
        "colab": {
          "base_uri": "https://localhost:8080/",
          "height": 141
        },
        "outputId": "3b680959-3063-41ac-f0f2-4ebd5af28923"
      },
      "source": [
        "X_assess, Y_assess, mini_batch_size = random_mini_batches_test_case()\n",
        "mini_batches = random_mini_batches(X_assess, Y_assess, mini_batch_size)\n",
        "\n",
        "print(f'shape of the 1st mini_batch_X: {str(mini_batches[0][0].shape)}')\n",
        "print(f'shape of the 2nd mini_batch_X: {str(mini_batches[1][0].shape)}')\n",
        "print(f'shape of the 3rd mini_batch_X: {str(mini_batches[2][0].shape)}')\n",
        "print(f'shape of the 1st mini_batch_Y: {str(mini_batches[0][1].shape)}')\n",
        "print(f'shape of the 2nd mini_batch_Y: {str(mini_batches[1][1].shape)}')\n",
        "print(f'shape of the 3rd mini_batch_Y: {str(mini_batches[2][1].shape)}')\n",
        "print(f'mini batch sanity check: {str(mini_batches[0][0][0][0:3])}')"
      ],
      "execution_count": 29,
      "outputs": [
        {
          "output_type": "stream",
          "text": [
            "shape of the 1st mini_batch_X: (12288, 64)\n",
            "shape of the 2nd mini_batch_X: (12288, 64)\n",
            "shape of the 3rd mini_batch_X: (12288, 20)\n",
            "shape of the 1st mini_batch_Y: (1, 64)\n",
            "shape of the 2nd mini_batch_Y: (1, 64)\n",
            "shape of the 3rd mini_batch_Y: (1, 20)\n",
            "mini batch sanity check: [ 0.90085595 -0.7612069   0.2344157 ]\n"
          ],
          "name": "stdout"
        }
      ]
    },
    {
      "cell_type": "markdown",
      "metadata": {
        "id": "_xQyzkmKRcbs",
        "colab_type": "text"
      },
      "source": [
        "**Expected Output**:\n",
        "\n",
        "<table style=\"width:50%\"> \n",
        "    <tr>\n",
        "    <td > **shape of the 1st mini_batch_X** </td> \n",
        "           <td > (12288, 64) </td> \n",
        "    </tr> \n",
        "    <tr>\n",
        "    <td > **shape of the 2nd mini_batch_X** </td> \n",
        "           <td > (12288, 64) </td> \n",
        "    </tr> \n",
        "    <tr>\n",
        "    <td > **shape of the 3rd mini_batch_X** </td> \n",
        "           <td > (12288, 20) </td> \n",
        "    </tr>\n",
        "    <tr>\n",
        "    <td > **shape of the 1st mini_batch_Y** </td> \n",
        "           <td > (1, 64) </td> \n",
        "    </tr> \n",
        "    <tr>\n",
        "    <td > **shape of the 2nd mini_batch_Y** </td> \n",
        "           <td > (1, 64) </td> \n",
        "    </tr> \n",
        "    <tr>\n",
        "    <td > **shape of the 3rd mini_batch_Y** </td> \n",
        "           <td > (1, 20) </td> \n",
        "    </tr> \n",
        "    <tr>\n",
        "    <td > **mini batch sanity check** </td> \n",
        "           <td > [ 0.90085595 -0.7612069   0.2344157 ] </td> \n",
        "    </tr>\n",
        "</table>"
      ]
    },
    {
      "cell_type": "markdown",
      "metadata": {
        "id": "WTgJd7SaRxHY",
        "colab_type": "text"
      },
      "source": [
        "**What you should remember**:\n",
        "\n",
        "- Shuffling and Partitioning are the two steps required to build mini-batches\n",
        "- Powers of two are often chosen to be the mini-batch size, e.g., 16, 32, 64, 128."
      ]
    },
    {
      "cell_type": "markdown",
      "metadata": {
        "id": "K2LwK5ooRzVQ",
        "colab_type": "text"
      },
      "source": [
        "## 3 - Momentum"
      ]
    },
    {
      "cell_type": "markdown",
      "metadata": {
        "id": "1glb1_VBR2R9",
        "colab_type": "text"
      },
      "source": [
        "Because mini-batch gradient descent makes a parameter update after seeing just a subset of examples, the direction of the update has some variance, and so the path taken by mini-batch gradient descent will \"oscillate\" toward convergence. Using momentum can reduce these oscillations. \n",
        "\n",
        "Momentum takes into account the past gradients to smooth out the update. We will store the 'direction' of the previous gradients in the variable $v$. Formally, this will be the exponentially weighted average of the gradient on previous steps. You can also think of $v$ as the \"velocity\" of a ball rolling downhill, building up speed (and momentum) according to the direction of the gradient/slope of the hill. \n",
        "\n",
        "<img src='https://github.com/rahiakela/img-repo/blob/master/deep-learning-specialization/opt_momentum.png?raw=1' width='800'/>\n",
        "<caption><center> <u><font color='purple'>**Figure 3**</u><font color='purple'>: The red arrows shows the direction taken by one step of mini-batch gradient descent with momentum. The blue points show the direction of the gradient (with respect to the current mini-batch) on each step. Rather than just following the gradient, we let the gradient influence $v$ and then take a step in the direction of $v$.<br> <font color='black'> </center>\n",
        "\n",
        "\n",
        "**Exercise**: Initialize the velocity. The velocity, $v$, is a python dictionary that needs to be initialized with arrays of zeros. Its keys are the same as those in the `grads` dictionary, that is:\n",
        "for $l =1,...,L$:\n",
        "```python\n",
        "v[\"dW\" + str(l+1)] = ... #(numpy array of zeros with the same shape as parameters[\"W\" + str(l+1)])\n",
        "v[\"db\" + str(l+1)] = ... #(numpy array of zeros with the same shape as parameters[\"b\" + str(l+1)])\n",
        "```\n",
        "**Note** that the iterator l starts at 0 in the for loop while the first parameters are v[\"dW1\"] and v[\"db1\"] (that's a \"one\" on the superscript). This is why we are shifting l to l+1 in the `for` loop."
      ]
    },
    {
      "cell_type": "code",
      "metadata": {
        "id": "f1o9qs81NgpQ",
        "colab_type": "code",
        "colab": {}
      },
      "source": [
        "# FUNCTION: initialize_velocity"
      ],
      "execution_count": 0,
      "outputs": []
    }
  ]
}