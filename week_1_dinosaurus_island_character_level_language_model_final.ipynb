{
  "nbformat": 4,
  "nbformat_minor": 0,
  "metadata": {
    "colab": {
      "name": "week-1-dinosaurus_island_character_level_language_model_final.ipynb",
      "provenance": [],
      "toc_visible": true,
      "authorship_tag": "ABX9TyOsQ6O0nOiwjeiPekDNms0g",
      "include_colab_link": true
    },
    "kernelspec": {
      "name": "python3",
      "display_name": "Python 3"
    }
  },
  "cells": [
    {
      "cell_type": "markdown",
      "metadata": {
        "id": "view-in-github",
        "colab_type": "text"
      },
      "source": [
        "<a href=\"https://colab.research.google.com/github/rahiakela/coursera-deep-learning-specialization/blob/course-5-sequence-models-recurrent-neural-networks/week_1_dinosaurus_island_character_level_language_model_final.ipynb\" target=\"_parent\"><img src=\"https://colab.research.google.com/assets/colab-badge.svg\" alt=\"Open In Colab\"/></a>"
      ]
    },
    {
      "cell_type": "markdown",
      "metadata": {
        "id": "pAQBsP8C8Wgu",
        "colab_type": "text"
      },
      "source": [
        "# Character level language model - Dinosaurus Island"
      ]
    },
    {
      "cell_type": "markdown",
      "metadata": {
        "id": "3E_-l3ZP8XD0",
        "colab_type": "text"
      },
      "source": [
        "Welcome to Dinosaurus Island! 65 million years ago, dinosaurs existed, and in this assignment they are back. You are in charge of a special task. Leading biology researchers are creating new breeds of dinosaurs and bringing them to life on earth, and your job is to give names to these dinosaurs. If a dinosaur does not like its name, it might go berserk, so choose wisely! \n",
        "\n",
        "<table>\n",
        "<td>\n",
        "<img src='https://github.com/rahiakela/img-repo/blob/master/deep-learning-specialization/dino.jpg?raw=1' width='800'/>\n",
        "</td>\n",
        "\n",
        "</table>\n",
        "\n",
        "Luckily you have learned some deep learning and you will use it to save the day. Your assistant has collected a list of all the dinosaur names they could find, and compiled them into this [dataset](dinos.txt). (Feel free to take a look by clicking the previous link.) To create new dinosaur names, you will build a character level language model to generate new names. Your algorithm will learn the different name patterns, and randomly generate new names. Hopefully this algorithm will keep you and your team safe from the dinosaurs' wrath! \n",
        "\n",
        "By completing this assignment you will learn:\n",
        "\n",
        "- How to store text data for processing using an RNN \n",
        "- How to synthesize data, by sampling predictions at each time step and passing it to the next RNN-cell unit\n",
        "- How to build a character-level text generation recurrent neural network\n",
        "- Why clipping the gradients is important\n",
        "\n",
        "We will begin by loading in some functions that we have provided for you in `rnn_utils`. Specifically, you have access to functions such as `rnn_forward` and `rnn_backward` which are equivalent to those you've implemented in the previous assignment."
      ]
    },
    {
      "cell_type": "markdown",
      "metadata": {
        "id": "wnW4YtAX8gf8",
        "colab_type": "text"
      },
      "source": [
        "## Setup"
      ]
    },
    {
      "cell_type": "code",
      "metadata": {
        "id": "Jt2Is5u38juw",
        "colab_type": "code",
        "colab": {}
      },
      "source": [
        "import numpy as np\n",
        "from utils import *\n",
        "import random\n",
        "import pprint"
      ],
      "execution_count": 0,
      "outputs": []
    },
    {
      "cell_type": "markdown",
      "metadata": {
        "id": "mUJClq758i41",
        "colab_type": "text"
      },
      "source": [
        "## 1 - Problem Statement"
      ]
    },
    {
      "cell_type": "markdown",
      "metadata": {
        "id": "znq8bqWk92eA",
        "colab_type": "text"
      },
      "source": [
        "### 1.1 - Dataset and Preprocessing"
      ]
    },
    {
      "cell_type": "markdown",
      "metadata": {
        "id": "3DJEgpCZ95u_",
        "colab_type": "text"
      },
      "source": [
        "Run the following cell to read the dataset of dinosaur names, create a list of unique characters (such as a-z), and compute the dataset and vocabulary size."
      ]
    },
    {
      "cell_type": "code",
      "metadata": {
        "id": "f20M7Qt698n2",
        "colab_type": "code",
        "colab": {
          "base_uri": "https://localhost:8080/",
          "height": 35
        },
        "outputId": "08efe05c-6cd9-43d6-bac8-0cd094aa59f6"
      },
      "source": [
        "data = open('dinos.txt', 'r').read()\n",
        "data = data.lower()\n",
        "chars = list(set(data))\n",
        "data_size, vocab_size = len(data), len(chars)\n",
        "print(f'There are {data_size} total characters and {vocab_size} unique characters in your data.')"
      ],
      "execution_count": 3,
      "outputs": [
        {
          "output_type": "stream",
          "text": [
            "There are 19909 total characters and 27 unique characters in your data.\n"
          ],
          "name": "stdout"
        }
      ]
    },
    {
      "cell_type": "markdown",
      "metadata": {
        "id": "xMxZwVbPB_dH",
        "colab_type": "text"
      },
      "source": [
        "\n",
        "* The characters are a-z (26 characters) plus the \"\\n\" (or newline character).\n",
        "* In this assignment, the newline character \"\\n\" plays a role similar to the `<EOS>` (or \"End of sentence\") token we had discussed in lecture.  \n",
        "    - Here, \"\\n\" indicates the end of the dinosaur name rather than the end of a sentence. \n",
        "* `char_to_ix`: In the cell below, we create a python dictionary (i.e., a hash table) to map each character to an index from 0-26.\n",
        "* `ix_to_char`: We also create a second python dictionary that maps each index back to the corresponding character. \n",
        "    -  This will help you figure out what index corresponds to what character in the probability distribution output of the softmax layer. "
      ]
    },
    {
      "cell_type": "code",
      "metadata": {
        "id": "ia0ND-YYByq4",
        "colab_type": "code",
        "colab": {
          "base_uri": "https://localhost:8080/",
          "height": 35
        },
        "outputId": "7b59eb48-1189-4503-bea5-ffe9b6cbd822"
      },
      "source": [
        "chars = sorted(chars)\n",
        "print(chars)"
      ],
      "execution_count": 4,
      "outputs": [
        {
          "output_type": "stream",
          "text": [
            "['\\n', 'a', 'b', 'c', 'd', 'e', 'f', 'g', 'h', 'i', 'j', 'k', 'l', 'm', 'n', 'o', 'p', 'q', 'r', 's', 't', 'u', 'v', 'w', 'x', 'y', 'z']\n"
          ],
          "name": "stdout"
        }
      ]
    },
    {
      "cell_type": "code",
      "metadata": {
        "id": "-wOv3B_WnMIr",
        "colab_type": "code",
        "colab": {
          "base_uri": "https://localhost:8080/",
          "height": 977
        },
        "outputId": "fcc7d0a6-7c04-4cfe-83eb-b02ca838c181"
      },
      "source": [
        "pp = pprint.PrettyPrinter(indent=4)\n",
        "char_to_ix = {ch: i for i, ch in enumerate(chars)}\n",
        "pp.pprint(char_to_ix)\n",
        "ix_to_char = {i:ch for i, ch in enumerate(chars)}\n",
        "pp.pprint(ix_to_char)"
      ],
      "execution_count": 6,
      "outputs": [
        {
          "output_type": "stream",
          "text": [
            "{   '\\n': 0,\n",
            "    'a': 1,\n",
            "    'b': 2,\n",
            "    'c': 3,\n",
            "    'd': 4,\n",
            "    'e': 5,\n",
            "    'f': 6,\n",
            "    'g': 7,\n",
            "    'h': 8,\n",
            "    'i': 9,\n",
            "    'j': 10,\n",
            "    'k': 11,\n",
            "    'l': 12,\n",
            "    'm': 13,\n",
            "    'n': 14,\n",
            "    'o': 15,\n",
            "    'p': 16,\n",
            "    'q': 17,\n",
            "    'r': 18,\n",
            "    's': 19,\n",
            "    't': 20,\n",
            "    'u': 21,\n",
            "    'v': 22,\n",
            "    'w': 23,\n",
            "    'x': 24,\n",
            "    'y': 25,\n",
            "    'z': 26}\n",
            "{   0: '\\n',\n",
            "    1: 'a',\n",
            "    2: 'b',\n",
            "    3: 'c',\n",
            "    4: 'd',\n",
            "    5: 'e',\n",
            "    6: 'f',\n",
            "    7: 'g',\n",
            "    8: 'h',\n",
            "    9: 'i',\n",
            "    10: 'j',\n",
            "    11: 'k',\n",
            "    12: 'l',\n",
            "    13: 'm',\n",
            "    14: 'n',\n",
            "    15: 'o',\n",
            "    16: 'p',\n",
            "    17: 'q',\n",
            "    18: 'r',\n",
            "    19: 's',\n",
            "    20: 't',\n",
            "    21: 'u',\n",
            "    22: 'v',\n",
            "    23: 'w',\n",
            "    24: 'x',\n",
            "    25: 'y',\n",
            "    26: 'z'}\n"
          ],
          "name": "stdout"
        }
      ]
    },
    {
      "cell_type": "markdown",
      "metadata": {
        "id": "50LoYcT9ocai",
        "colab_type": "text"
      },
      "source": [
        "### 1.2 - Overview of the model"
      ]
    },
    {
      "cell_type": "markdown",
      "metadata": {
        "id": "iyKlk8F7odCT",
        "colab_type": "text"
      },
      "source": [
        "Your model will have the following structure: \n",
        "\n",
        "- Initialize parameters \n",
        "- Run the optimization loop\n",
        "    - Forward propagation to compute the loss function\n",
        "    - Backward propagation to compute the gradients with respect to the loss function\n",
        "    - Clip the gradients to avoid exploding gradients\n",
        "    - Using the gradients, update your parameters with the gradient descent update rule.\n",
        "- Return the learned parameters \n",
        "\n",
        "<img src='https://github.com/rahiakela/img-repo/blob/master/deep-learning-specialization/rnn-2.png?raw=1' width='800'/>   \n",
        "<caption><center> **Figure 1**: Recurrent Neural Network, similar to what you had built in the previous notebook \"Building a Recurrent Neural Network - Step by Step\".  </center></caption>\n",
        "\n",
        "* At each time-step, the RNN tries to predict what is the next character given the previous characters. \n",
        "* The dataset $\\mathbf{X} = (x^{\\langle 1 \\rangle}, x^{\\langle 2 \\rangle}, ..., x^{\\langle T_x \\rangle})$ is a list of characters in the training set.\n",
        "* $\\mathbf{Y} = (y^{\\langle 1 \\rangle}, y^{\\langle 2 \\rangle}, ..., y^{\\langle T_x \\rangle})$ is the same list of characters but shifted one character forward. \n",
        "* At every time-step $t$, $y^{\\langle t \\rangle} = x^{\\langle t+1 \\rangle}$.  The prediction at time $t$ is the same as the input at time $t + 1$."
      ]
    },
    {
      "cell_type": "markdown",
      "metadata": {
        "id": "nuBHRnP_orw9",
        "colab_type": "text"
      },
      "source": [
        "## 2 - Building blocks of the model"
      ]
    },
    {
      "cell_type": "markdown",
      "metadata": {
        "id": "xYhNj-7uoumQ",
        "colab_type": "text"
      },
      "source": [
        "In this part, you will build two important blocks of the overall model:\n",
        "- Gradient clipping: to avoid exploding gradients\n",
        "- Sampling: a technique used to generate characters\n",
        "\n",
        "You will then apply these two functions to build the model."
      ]
    },
    {
      "cell_type": "markdown",
      "metadata": {
        "id": "u3RYbUnwowSx",
        "colab_type": "text"
      },
      "source": [
        "### 2.1 - Clipping the gradients in the optimization loop\n",
        "\n",
        "In this section you will implement the `clip` function that you will call inside of your optimization loop. "
      ]
    },
    {
      "cell_type": "markdown",
      "metadata": {
        "id": "ndcgBhULozky",
        "colab_type": "text"
      },
      "source": [
        "#### Exploding gradients"
      ]
    },
    {
      "cell_type": "markdown",
      "metadata": {
        "id": "IQnbT6GFo5ar",
        "colab_type": "text"
      },
      "source": [
        "* When gradients are very large, they're called \"exploding gradients.\"  \n",
        "* Exploding gradients make the training process more difficult, because the updates may be so large that they \"overshoot\" the optimal values during back propagation.\n",
        "\n",
        "Recall that your overall loop structure usually consists of:\n",
        "* forward pass, \n",
        "* cost computation, \n",
        "* backward pass, \n",
        "* parameter update. \n",
        "\n",
        "Before updating the parameters, you will perform gradient clipping to make sure that your gradients are not \"exploding.\""
      ]
    },
    {
      "cell_type": "markdown",
      "metadata": {
        "id": "XwTLDcifo_P0",
        "colab_type": "text"
      },
      "source": [
        "#### gradient clipping"
      ]
    },
    {
      "cell_type": "markdown",
      "metadata": {
        "id": "FDDV-f8JpE5M",
        "colab_type": "text"
      },
      "source": [
        "In the exercise below, you will implement a function `clip` that takes in a dictionary of gradients and returns a clipped version of gradients if needed. \n",
        "* There are different ways to clip gradients.\n",
        "* We will use a simple element-wise clipping procedure, in which every element of the gradient vector is clipped to lie between some range [-N, N]. \n",
        "* For example, if the N=10\n",
        "    - The range is [-10, 10]\n",
        "    - If any component of the gradient vector is greater than 10, it is set to 10.\n",
        "    - If any component of the gradient vector is less than -10, it is set to -10. \n",
        "    - If any components are between -10 and 10, they keep their original values.\n",
        "\n",
        "<img src='https://github.com/rahiakela/img-repo/blob/master/deep-learning-specialization/clip.png?raw=1' width='800'/>\n",
        "<caption><center> **Figure 2**: Visualization of gradient descent with and without gradient clipping, in a case where the network is running into \"exploding gradient\" problems. </center></caption>\n",
        "\n",
        "**Exercise**: \n",
        "Implement the function below to return the clipped gradients of your dictionary `gradients`. \n",
        "* Your function takes in a maximum threshold and returns the clipped versions of the gradients. \n",
        "* You can check out [numpy.clip](https://docs.scipy.org/doc/numpy-1.13.0/reference/generated/numpy.clip.html). \n",
        "    - You will need to use the argument \"`out = ...`\".\n",
        "    - Using the \"`out`\" parameter allows you to update a variable \"in-place\".\n",
        "    - If you don't use \"`out`\" argument, the clipped variable is stored in the variable \"gradient\" but does not update the gradient variables `dWax`, `dWaa`, `dWya`, `db`, `dby`."
      ]
    },
    {
      "cell_type": "code",
      "metadata": {
        "id": "zLKvqkDWnqPz",
        "colab_type": "code",
        "colab": {}
      },
      "source": [
        "### FUNCTION: clip\n",
        "def clip(gradients, maxValue):\n",
        "  '''\n",
        "  Clips the gradients' values between minimum and maximum.\n",
        "    \n",
        "  Arguments:\n",
        "  gradients -- a dictionary containing the gradients \"dWaa\", \"dWax\", \"dWya\", \"db\", \"dby\"\n",
        "  maxValue -- everything above this number is set to this number, and everything less than -maxValue is set to -maxValue\n",
        "  \n",
        "  Returns: \n",
        "  gradients -- a dictionary with the clipped gradients.\n",
        "  '''\n",
        "\n",
        "  dWaa, dWax, dWya, db, dby = gradients['dWaa'], gradients['dWax'], gradients['dWya'], gradients['db'], gradients['dby']\n",
        "\n",
        "  ### START CODE HERE ###\n",
        "  # clip to mitigate exploding gradients, loop over [dWax, dWaa, dWya, db, dby]. (≈2 lines)\n",
        "  for gradient in [dWax, dWaa, dWya, db, dby]:\n",
        "      np.clip(a=gradient, a_max=maxValue, a_min=-maxValue, out=gradient)\n",
        "  ### END CODE HERE ###\n",
        "  \n",
        "  gradients = {\"dWaa\": dWaa, \"dWax\": dWax, \"dWya\": dWya, \"db\": db, \"dby\": dby}\n",
        "  \n",
        "  return gradients"
      ],
      "execution_count": 0,
      "outputs": []
    },
    {
      "cell_type": "code",
      "metadata": {
        "id": "cHwI-u3bv8sx",
        "colab_type": "code",
        "colab": {
          "base_uri": "https://localhost:8080/",
          "height": 106
        },
        "outputId": "aa355e6d-046d-4a81-d439-5d8c4422a252"
      },
      "source": [
        "# Test with a maxvalue of 10\n",
        "np.random.seed(3)\n",
        "\n",
        "maxValue = 10\n",
        "\n",
        "dWax = np.random.randn(5, 3) * 10\n",
        "dWaa = np.random.randn(5, 5) * 10\n",
        "dWya = np.random.randn(2, 5) * 10\n",
        "db = np.random.randn(5, 1) * 10\n",
        "dby = np.random.randn(2, 1) * 10\n",
        "\n",
        "gradients = {\n",
        "  'dWax': dWax,\n",
        "  'dWaa': dWaa,\n",
        "  'dWya': dWya,\n",
        "  'db': db,\n",
        "  'dby': dby\n",
        "}\n",
        "\n",
        "gradients = clip(gradients, maxValue)\n",
        "print(f'gradients[\\\"dWaa\\\"][1][2] = {gradients[\"dWaa\"][1][2]}')\n",
        "print(f'gradients[\\\"dWax\\\"][3][1] = {gradients[\"dWax\"][3][1]}')\n",
        "print(f'gradients[\\\"dWya\\\"][1][2] = {gradients[\"dWya\"][1][2]}')\n",
        "print(f'gradients[\\\"db\\\"][4] = {gradients[\"db\"][4]}')\n",
        "print(f'gradients[\\\"dby\\\"][1] = {gradients[\"dby\"][1]}')"
      ],
      "execution_count": 9,
      "outputs": [
        {
          "output_type": "stream",
          "text": [
            "gradients[\"dWaa\"][1][2] = 10.0\n",
            "gradients[\"dWax\"][3][1] = -10.0\n",
            "gradients[\"dWya\"][1][2] = 0.2971381536101662\n",
            "gradients[\"db\"][4] = [10.]\n",
            "gradients[\"dby\"][1] = [8.45833407]\n"
          ],
          "name": "stdout"
        }
      ]
    },
    {
      "cell_type": "markdown",
      "metadata": {
        "id": "FCaItvksxmYT",
        "colab_type": "text"
      },
      "source": [
        "** Expected output:**\n",
        "\n",
        "```Python\n",
        "gradients[\"dWaa\"][1][2] = 10.0\n",
        "gradients[\"dWax\"][3][1] = -10.0\n",
        "gradients[\"dWya\"][1][2] = 0.29713815361\n",
        "gradients[\"db\"][4] = [ 10.]\n",
        "gradients[\"dby\"][1] = [ 8.45833407]\n",
        "```"
      ]
    },
    {
      "cell_type": "code",
      "metadata": {
        "id": "qYmgjA8Sx243",
        "colab_type": "code",
        "colab": {
          "base_uri": "https://localhost:8080/",
          "height": 106
        },
        "outputId": "45f63aff-8602-4b6e-d53d-318097d15cb3"
      },
      "source": [
        "# Test with a maxvalue of 10\n",
        "np.random.seed(3)\n",
        "\n",
        "maxValue = 5\n",
        "\n",
        "dWax = np.random.randn(5, 3) * 10\n",
        "dWaa = np.random.randn(5, 5) * 10\n",
        "dWya = np.random.randn(2, 5) * 10\n",
        "db = np.random.randn(5, 1) * 10\n",
        "dby = np.random.randn(2, 1) * 10\n",
        "\n",
        "gradients = {\n",
        "  'dWax': dWax,\n",
        "  'dWaa': dWaa,\n",
        "  'dWya': dWya,\n",
        "  'db': db,\n",
        "  'dby': dby\n",
        "}\n",
        "\n",
        "gradients = clip(gradients, maxValue)\n",
        "print(f'gradients[\\\"dWaa\\\"][1][2] = {gradients[\"dWaa\"][1][2]}')\n",
        "print(f'gradients[\\\"dWax\\\"][3][1] = {gradients[\"dWax\"][3][1]}')\n",
        "print(f'gradients[\\\"dWya\\\"][1][2] = {gradients[\"dWya\"][1][2]}')\n",
        "print(f'gradients[\\\"db\\\"][4] = {gradients[\"db\"][4]}')\n",
        "print(f'gradients[\\\"dby\\\"][1] = {gradients[\"dby\"][1]}')"
      ],
      "execution_count": 10,
      "outputs": [
        {
          "output_type": "stream",
          "text": [
            "gradients[\"dWaa\"][1][2] = 5.0\n",
            "gradients[\"dWax\"][3][1] = -5.0\n",
            "gradients[\"dWya\"][1][2] = 0.2971381536101662\n",
            "gradients[\"db\"][4] = [5.]\n",
            "gradients[\"dby\"][1] = [5.]\n"
          ],
          "name": "stdout"
        }
      ]
    },
    {
      "cell_type": "markdown",
      "metadata": {
        "id": "wpv7eTtkxr1_",
        "colab_type": "text"
      },
      "source": [
        "** Expected Output: **\n",
        "```Python\n",
        "gradients[\"dWaa\"][1][2] = 5.0\n",
        "gradients[\"dWax\"][3][1] = -5.0\n",
        "gradients[\"dWya\"][1][2] = 0.29713815361\n",
        "gradients[\"db\"][4] = [ 5.]\n",
        "gradients[\"dby\"][1] = [ 5.]\n",
        "```"
      ]
    },
    {
      "cell_type": "markdown",
      "metadata": {
        "id": "DN1VmbBpyJKQ",
        "colab_type": "text"
      },
      "source": [
        "### 2.2 - Sampling"
      ]
    },
    {
      "cell_type": "markdown",
      "metadata": {
        "id": "WE3KTCPGyMH9",
        "colab_type": "text"
      },
      "source": [
        "Now assume that your model is trained. You would like to generate new text (characters). The process of generation is explained in the picture below:\n",
        "\n",
        "<img src='https://github.com/rahiakela/img-repo/blob/master/deep-learning-specialization/dinos3.png?raw=1' width='800'/>\n",
        "<caption><center> **Figure 3**: In this picture, we assume the model is already trained. We pass in $x^{\\langle 1\\rangle} = \\vec{0}$ at the first time step, and have the network sample one character at a time. </center></caption>\n",
        "\n",
        "**Exercise**: Implement the `sample` function below to sample characters. You need to carry out 4 steps:\n",
        "\n",
        "- **Step 1**: Input the \"dummy\" vector of zeros $x^{\\langle 1 \\rangle} = \\vec{0}$. \n",
        "    - This is the default input before we've generated any characters. \n",
        "    We also set $a^{\\langle 0 \\rangle} = \\vec{0}$\n",
        "\n",
        "- **Step 2**: Run one step of forward propagation to get $a^{\\langle 1 \\rangle}$ and $\\hat{y}^{\\langle 1 \\rangle}$. Here are the equations:\n",
        "\n",
        "hidden state:  \n",
        "$$ a^{\\langle t+1 \\rangle} = \\tanh(W_{ax}  x^{\\langle t+1 \\rangle } + W_{aa} a^{\\langle t \\rangle } + b)\\tag{1}$$\n",
        "\n",
        "activation:\n",
        "$$ z^{\\langle t + 1 \\rangle } = W_{ya}  a^{\\langle t + 1 \\rangle } + b_y \\tag{2}$$\n",
        "\n",
        "prediction:\n",
        "$$ \\hat{y}^{\\langle t+1 \\rangle } = softmax(z^{\\langle t + 1 \\rangle })\\tag{3}$$\n",
        "\n",
        "- Details about $\\hat{y}^{\\langle t+1 \\rangle }$:\n",
        "   - Note that $\\hat{y}^{\\langle t+1 \\rangle }$ is a (softmax) probability vector (its entries are between 0 and 1 and sum to 1). \n",
        "   - $\\hat{y}^{\\langle t+1 \\rangle}_i$ represents the probability that the character indexed by \"i\" is the next character.  \n",
        "   - We have provided a `softmax()` function that you can use."
      ]
    },
    {
      "cell_type": "markdown",
      "metadata": {
        "id": "nTgcwRhZytY3",
        "colab_type": "text"
      },
      "source": [
        "#### Additional Hints"
      ]
    },
    {
      "cell_type": "markdown",
      "metadata": {
        "id": "UfoggXhMyzqX",
        "colab_type": "text"
      },
      "source": [
        "- $x^{\\langle 1 \\rangle}$ is `x` in the code. When creating the one-hot vector, make a numpy array of zeros, with the number of rows equal to the number of unique characters, and the number of columns equal to one.  It's a 2D and not a 1D array.\n",
        "- $a^{\\langle 0 \\rangle}$ is `a_prev` in the code.  It is a numpy array of zeros, where the number of rows is $n_{a}$, and number of columns is 1.  It is a 2D array as well.  $n_{a}$ is retrieved by getting the number of columns in $W_{aa}$ (the numbers need to match in order for the matrix multiplication $W_{aa}a^{\\langle t \\rangle}$ to work.\n",
        "- [numpy.dot](https://docs.scipy.org/doc/numpy/reference/generated/numpy.dot.html)\n",
        "- [numpy.tanh](https://docs.scipy.org/doc/numpy/reference/generated/numpy.tanh.html)"
      ]
    },
    {
      "cell_type": "markdown",
      "metadata": {
        "id": "AtiY8wnWy1fx",
        "colab_type": "text"
      },
      "source": [
        "#### Using 2D arrays instead of 1D arrays"
      ]
    },
    {
      "cell_type": "markdown",
      "metadata": {
        "id": "WzT50o9Ey4Zn",
        "colab_type": "text"
      },
      "source": [
        "* You may be wondering why we emphasize that $x^{\\langle 1 \\rangle}$ and $a^{\\langle 0 \\rangle}$ are 2D arrays and not 1D vectors.\n",
        "* For matrix multiplication in numpy, if we multiply a 2D matrix with a 1D vector, we end up with with a 1D array.\n",
        "* This becomes a problem when we add two arrays where we expected them to have the same shape.\n",
        "* When two arrays with  a different number of dimensions are added together, Python \"broadcasts\" one across the other.\n",
        "* Here is some sample code that shows the difference between using a 1D and 2D array."
      ]
    },
    {
      "cell_type": "code",
      "metadata": {
        "id": "6hT1S9X2y6mv",
        "colab_type": "code",
        "colab": {
          "base_uri": "https://localhost:8080/",
          "height": 319
        },
        "outputId": "b6d95525-0b88-4874-ad2e-5723447fcaad"
      },
      "source": [
        "matrix1 = np.array([     # (3, 2)\n",
        "    [1, 2],\n",
        "    [2, 2],\n",
        "    [3, 3]                \n",
        "])\n",
        "matrix2 = np.array([    # (3, 1)\n",
        "    [0], [0], [0]                 \n",
        "])\n",
        "\n",
        "vector1D = np.array([1, 1]) # (2,)\n",
        "vector2D = np.array([       # (2, 1)\n",
        "    [1], [1]                \n",
        "])\n",
        "\n",
        "print(f'matrix1 \\n {matrix1} \\n')\n",
        "print(f'matrix2 \\n {matrix2} \\n')\n",
        "print(f'vector1D \\n {vector1D} \\n')\n",
        "print(f'vector2D \\n {vector2D} \\n')"
      ],
      "execution_count": 11,
      "outputs": [
        {
          "output_type": "stream",
          "text": [
            "matrix1 \n",
            " [[1 2]\n",
            " [2 2]\n",
            " [3 3]] \n",
            "\n",
            "matrix2 \n",
            " [[0]\n",
            " [0]\n",
            " [0]] \n",
            "\n",
            "vector1D \n",
            " [1 1] \n",
            "\n",
            "vector2D \n",
            " [[1]\n",
            " [1]] \n",
            "\n"
          ],
          "name": "stdout"
        }
      ]
    },
    {
      "cell_type": "code",
      "metadata": {
        "id": "OhQpQ6ZI4-SR",
        "colab_type": "code",
        "colab": {
          "base_uri": "https://localhost:8080/",
          "height": 124
        },
        "outputId": "0cdbf293-9fa1-477e-cde8-0bfdcdacbaca"
      },
      "source": [
        "print(f'Multiply 2D and 1D arrays: result is a 1D array\\n {np.dot(matrix1, vector1D)}')\n",
        "print(f'Multiply 2D and 2D arrays: result is a 2D array\\n {np.dot(matrix1, vector2D)}')"
      ],
      "execution_count": 13,
      "outputs": [
        {
          "output_type": "stream",
          "text": [
            "Multiply 2D and 1D arrays: result is a 1D array\n",
            " [3 4 6]\n",
            "Multiply 2D and 2D arrays: result is a 2D array\n",
            " [[3]\n",
            " [4]\n",
            " [6]]\n"
          ],
          "name": "stdout"
        }
      ]
    },
    {
      "cell_type": "code",
      "metadata": {
        "id": "e8Pa0Mwo5S8w",
        "colab_type": "code",
        "colab": {
          "base_uri": "https://localhost:8080/",
          "height": 106
        },
        "outputId": "8a5c15f9-3210-4264-9182-35837c9356ff"
      },
      "source": [
        "print(f'Adding (3 x 1) vector to a (3 x 1) vector is a (3 x 1) vector\\n This is what we want here!\\n {np.dot(matrix1, vector2D) + matrix2}')"
      ],
      "execution_count": 14,
      "outputs": [
        {
          "output_type": "stream",
          "text": [
            "Adding (3 x 1) vector to a (3 x 1) vector is a (3 x 1) vector\n",
            " This is what we want here!\n",
            " [[3]\n",
            " [4]\n",
            " [6]]\n"
          ],
          "name": "stdout"
        }
      ]
    },
    {
      "cell_type": "code",
      "metadata": {
        "id": "gBsBEaW255AC",
        "colab_type": "code",
        "colab": {
          "base_uri": "https://localhost:8080/",
          "height": 124
        },
        "outputId": "affc8a2b-4f24-4d55-b665-3897a72f5fe3"
      },
      "source": [
        "print('Adding a (3,) vector to a (3 x 1) vector\\n', \n",
        "      'broadcasts the 1D array across the second dimension\\n',\n",
        "      f'Not what we want here!\\n {np.dot(matrix1, vector1D) + matrix2}')"
      ],
      "execution_count": 15,
      "outputs": [
        {
          "output_type": "stream",
          "text": [
            "Adding a (3,) vector to a (3 x 1) vector\n",
            " broadcasts the 1D array across the second dimension\n",
            " Not what we want here!\n",
            " [[3 4 6]\n",
            " [3 4 6]\n",
            " [3 4 6]]\n"
          ],
          "name": "stdout"
        }
      ]
    },
    {
      "cell_type": "markdown",
      "metadata": {
        "id": "En1LsjUtNy72",
        "colab_type": "text"
      },
      "source": [
        "- **Step 3**: Sampling: \n",
        "    - Now that we have $y^{\\langle t+1 \\rangle}$, we want to select the next letter in the dinosaur name. If we select the most probable, the model will always generate the same result given a starting letter. \n",
        "        - To make the results more interesting, we will use np.random.choice to select a next letter that is likely, but not always the same.\n",
        "    - Sampling is the selection of a value from a group of values, where each value has a probability of being picked.  \n",
        "    - Sampling allows us to generate random sequences of values.\n",
        "    - Pick the next character's index according to the probability distribution specified by $\\hat{y}^{\\langle t+1 \\rangle }$. \n",
        "    - This means that if $\\hat{y}^{\\langle t+1 \\rangle }_i = 0.16$, you will pick the index \"i\" with 16% probability. \n",
        "    - You can use [np.random.choice](https://docs.scipy.org/doc/numpy-1.13.0/reference/generated/numpy.random.choice.html).\n",
        "\n",
        "    Example of how to use `np.random.choice()`:\n",
        "    ```python\n",
        "    np.random.seed(0)\n",
        "    probs = np.array([0.1, 0.0, 0.7, 0.2])\n",
        "    idx = np.random.choice([0, 1, 2, 3] p = probs)\n",
        "    ```\n",
        "    - This means that you will pick the index (`idx`) according to the distribution: \n",
        "\n",
        "    $P(index = 0) = 0.1, P(index = 1) = 0.0, P(index = 2) = 0.7, P(index = 3) = 0.2$.\n",
        "\n",
        "    - Note that the value that's set to `p` should be set to a 1D vector.\n",
        "    - Also notice that $\\hat{y}^{\\langle t+1 \\rangle}$, which is `y` in the code, is a 2D array."
      ]
    },
    {
      "cell_type": "markdown",
      "metadata": {
        "id": "gzB5HShBNzxb",
        "colab_type": "text"
      },
      "source": [
        "##### Additional Hints"
      ]
    },
    {
      "cell_type": "markdown",
      "metadata": {
        "id": "d8uWqLKuN2zi",
        "colab_type": "text"
      },
      "source": [
        "- [range](https://docs.python.org/3/library/functions.html#func-range)\n",
        "- [numpy.ravel](https://docs.scipy.org/doc/numpy/reference/generated/numpy.ravel.html) takes a multi-dimensional array and returns its contents inside of a 1D vector.\n",
        "```Python\n",
        "arr = np.array([[1,2],[3,4]])\n",
        "print(\"arr\")\n",
        "print(arr)\n",
        "print(\"arr.ravel()\")\n",
        "print(arr.ravel())\n",
        "```\n",
        "Output:\n",
        "```Python\n",
        "arr\n",
        "[[1 2]\n",
        " [3 4]]\n",
        "arr.ravel()\n",
        "[1 2 3 4]\n",
        "```\n",
        "\n",
        "- Note that `append` is an \"in-place\" operation.  In other words, don't do this:\n",
        "```Python\n",
        "fun_hobbies = fun_hobbies.append('learning')  ## Doesn't give you what you want\n",
        "```"
      ]
    },
    {
      "cell_type": "markdown",
      "metadata": {
        "id": "w63MqnTtN5Ey",
        "colab_type": "text"
      },
      "source": [
        "- **Step 4**: Update to $x^{\\langle t \\rangle }$ \n",
        "\n",
        "    - The last step to implement in `sample()` is to update the variable `x`, which currently stores $x^{\\langle t \\rangle }$, with the value of $x^{\\langle t + 1 \\rangle }$. \n",
        "    - You will represent $x^{\\langle t + 1 \\rangle }$ by creating a one-hot vector corresponding to the character that you have chosen as your prediction. \n",
        "    - You will then forward propagate $x^{\\langle t + 1 \\rangle }$ in Step 1 and keep repeating the process until you get a \"\\n\" character, indicating that you have reached the end of the dinosaur name. "
      ]
    },
    {
      "cell_type": "markdown",
      "metadata": {
        "id": "Trq2pey3N-o9",
        "colab_type": "text"
      },
      "source": [
        "##### Additional Hints"
      ]
    },
    {
      "cell_type": "markdown",
      "metadata": {
        "id": "F3nx1IjAODM8",
        "colab_type": "text"
      },
      "source": [
        "- In order to reset `x` before setting it to the new one-hot vector, you'll want to set all the values to zero.\n",
        "    - You can either create a new numpy array: [numpy.zeros](https://docs.scipy.org/doc/numpy/reference/generated/numpy.zeros.html)\n",
        "    - Or fill all values with a single number: [numpy.ndarray.fill](https://docs.scipy.org/doc/numpy/reference/generated/numpy.ndarray.fill.html)"
      ]
    },
    {
      "cell_type": "code",
      "metadata": {
        "id": "TiWqLWnp6Vaw",
        "colab_type": "code",
        "colab": {}
      },
      "source": [
        "# GRADED FUNCTION: sample\n",
        "\n",
        "def sample(parameters, char_to_ix, seed):\n",
        "    \"\"\"\n",
        "    Sample a sequence of characters according to a sequence of probability distributions output of the RNN\n",
        "\n",
        "    Arguments:\n",
        "    parameters -- python dictionary containing the parameters Waa, Wax, Wya, by, and b. \n",
        "    char_to_ix -- python dictionary mapping each character to an index.\n",
        "    seed -- used for grading purposes. Do not worry about it.\n",
        "\n",
        "    Returns:\n",
        "    indices -- a list of length n containing the indices of the sampled characters.\n",
        "    \"\"\"\n",
        "    \n",
        "    # Retrieve parameters and relevant shapes from \"parameters\" dictionary\n",
        "    Waa, Wax, Wya, by, b = parameters['Waa'], parameters['Wax'], parameters['Wya'], parameters['by'], parameters['b']\n",
        "    vocab_size = by.shape[0]\n",
        "    n_a = Waa.shape[1]\n",
        "    \n",
        "    ### START CODE HERE ###\n",
        "    # Step 1: Create the a zero vector x that can be used as the one-hot vector \n",
        "    # representing the first character (initializing the sequence generation). (≈1 line)\n",
        "    x = np.zeros((vocab_size, 1))   # one-hot is a list, length is label size.\n",
        "    # Step 1': Initialize a_prev as zeros (≈1 line)  \n",
        "    a_prev = np.zeros((n_a, 1))     # activation depend on size of n_a.\n",
        "    \n",
        "    # Create an empty list of indices, this is the list which will contain the list of indices of the characters to generate (≈1 line)\n",
        "    indices = []\n",
        "    \n",
        "    # idx is the index of the one-hot vector x that is set to 1\n",
        "    # All other positions in x are zero.\n",
        "    # We will initialize idx to -1\n",
        "    idx = -1 \n",
        "    \n",
        "    # Loop over time-steps t. At each time-step:\n",
        "    # sample a character from a probability distribution \n",
        "    # and append its index (`idx`) to the list \"indices\". \n",
        "    # We'll stop if we reach 50 characters \n",
        "    # (which should be very unlikely with a well trained model).\n",
        "    # Setting the maximum number of characters helps with debugging and prevents infinite loops. \n",
        "    counter = 0\n",
        "    newline_character = char_to_ix['\\n']\n",
        "    \n",
        "    while (idx != newline_character and counter != 50):\n",
        "        \n",
        "        # Step 2: Forward propagate x using the equations (1), (2) and (3)\n",
        "        a = np.tanh(np.dot(Wax, x) + np.dot(Waa, a_prev) + b)\n",
        "        z = np.dot(Wya, a) + by\n",
        "        y = softmax(z)\n",
        "        \n",
        "        # for grading purposes\n",
        "        np.random.seed(counter+seed) \n",
        "        \n",
        "        # Step 3: Sample the index of a character within the vocabulary from the probability distribution y\n",
        "        # (see additional hints above)\n",
        "        idx = np.random.choice(range(len(y)), p = y.ravel())\n",
        "\n",
        "        # Append the index to \"indices\"\n",
        "        indices.append(idx)\n",
        "        \n",
        "        # Step 4: Overwrite the input x with one that corresponds to the sampled index `idx`.\n",
        "        # (see additional hints above)\n",
        "        x = np.zeros((vocab_size, 1))\n",
        "        x[idx] = 1\n",
        "        \n",
        "        # Update \"a_prev\" to be \"a\"\n",
        "        a_prev = a\n",
        "        \n",
        "        # for grading purposes\n",
        "        seed += 1\n",
        "        counter +=1\n",
        "        \n",
        "    ### END CODE HERE ###\n",
        "\n",
        "    if (counter == 50):\n",
        "        indices.append(char_to_ix['\\n'])\n",
        "    \n",
        "    return indices"
      ],
      "execution_count": 0,
      "outputs": []
    },
    {
      "cell_type": "code",
      "metadata": {
        "id": "9tGzFPXHOJA9",
        "colab_type": "code",
        "colab": {
          "base_uri": "https://localhost:8080/",
          "height": 126
        },
        "outputId": "888156c6-cfda-47c3-a240-88083f6faadf"
      },
      "source": [
        "np.random.seed(2)\n",
        "\n",
        "_, n_a = 20, 100\n",
        "Wax, Waa, Wya = np.random.randn(n_a, vocab_size), np.random.randn(n_a, n_a), np.random.randn(vocab_size, n_a)\n",
        "b, by = np.random.randn(n_a, 1), np.random.randn(vocab_size, 1)\n",
        "parameters = {\"Wax\": Wax, \"Waa\": Waa, \"Wya\": Wya, \"b\": b, \"by\": by}\n",
        "\n",
        "indices = sample(parameters, char_to_ix, 0)\n",
        "print(\"Sampling:\")\n",
        "print(f\"list of sampled indices:\\n {indices}\")\n",
        "print(f\"list of sampled characters:\\n {[ix_to_char[i] for i in indices]}\")"
      ],
      "execution_count": 17,
      "outputs": [
        {
          "output_type": "stream",
          "text": [
            "Sampling:\n",
            "list of sampled indices:\n",
            " [12, 17, 24, 14, 13, 9, 10, 22, 24, 6, 13, 11, 12, 6, 21, 15, 21, 14, 3, 2, 1, 21, 18, 24, 7, 25, 6, 25, 18, 10, 16, 2, 3, 8, 15, 12, 11, 7, 1, 12, 10, 2, 7, 7, 11, 17, 24, 12, 13, 24, 0]\n",
            "list of sampled characters:\n",
            " ['l', 'q', 'x', 'n', 'm', 'i', 'j', 'v', 'x', 'f', 'm', 'k', 'l', 'f', 'u', 'o', 'u', 'n', 'c', 'b', 'a', 'u', 'r', 'x', 'g', 'y', 'f', 'y', 'r', 'j', 'p', 'b', 'c', 'h', 'o', 'l', 'k', 'g', 'a', 'l', 'j', 'b', 'g', 'g', 'k', 'q', 'x', 'l', 'm', 'x', '\\n']\n"
          ],
          "name": "stdout"
        }
      ]
    },
    {
      "cell_type": "markdown",
      "metadata": {
        "id": "7utAOOMfWLmr",
        "colab_type": "text"
      },
      "source": [
        "** Expected output:**\n",
        "\n",
        "```Python\n",
        "Sampling:\n",
        "list of sampled indices:\n",
        " [12, 17, 24, 14, 13, 9, 10, 22, 24, 6, 13, 11, 12, 6, 21, 15, 21, 14, 3, 2, 1, 21, 18, 24, 7, 25, 6, 25, 18, 10, 16, 2, 3, 8, 15, 12, 11, 7, 1, 12, 10, 2, 7, 7, 11, 17, 24, 12, 13, 24, 0]\n",
        "list of sampled characters:\n",
        " ['l', 'q', 'x', 'n', 'm', 'i', 'j', 'v', 'x', 'f', 'm', 'k', 'l', 'f', 'u', 'o', 'u', 'n', 'c', 'b', 'a', 'u', 'r', 'x', 'g', 'y', 'f', 'y', 'r', 'j', 'p', 'b', 'c', 'h', 'o', 'l', 'k', 'g', 'a', 'l', 'j', 'b', 'g', 'g', 'k', 'q', 'x', 'l', 'm', 'x', '\\n']\n",
        "```\n",
        "\n",
        "* Please note that over time, if there are updates to the back-end of the Coursera platform (that may update the version of numpy), the actual list of sampled indices and sampled characters may change. \n",
        "* If you follow the instructions given above and get an output without errors, it's possible the routine is correct even if your output doesn't match the expected output.  Submit your assignment to the grader to verify its correctness."
      ]
    },
    {
      "cell_type": "markdown",
      "metadata": {
        "id": "l7DN_9ASW5la",
        "colab_type": "text"
      },
      "source": [
        "## 3 - Building the language model \n",
        "\n",
        "It is time to build the character-level language model for text generation. "
      ]
    },
    {
      "cell_type": "markdown",
      "metadata": {
        "id": "oweShRpQW8JB",
        "colab_type": "text"
      },
      "source": [
        "### 3.1 - Gradient descent "
      ]
    },
    {
      "cell_type": "markdown",
      "metadata": {
        "id": "6CepwhngW-A7",
        "colab_type": "text"
      },
      "source": [
        "* In this section you will implement a function performing one step of stochastic gradient descent (with clipped gradients). \n",
        "* You will go through the training examples one at a time, so the optimization algorithm will be stochastic gradient descent. \n",
        "\n",
        "As a reminder, here are the steps of a common optimization loop for an RNN:\n",
        "\n",
        "- Forward propagate through the RNN to compute the loss\n",
        "- Backward propagate through time to compute the gradients of the loss with respect to the parameters\n",
        "- Clip the gradients\n",
        "- Update the parameters using gradient descent \n",
        "\n",
        "**Exercise**: Implement the optimization process (one step of stochastic gradient descent). \n",
        "\n",
        "The following functions are provided:\n",
        "\n",
        "```python\n",
        "def rnn_forward(X, Y, a_prev, parameters):\n",
        "    \"\"\" Performs the forward propagation through the RNN and computes the cross-entropy loss.\n",
        "    It returns the loss' value as well as a \"cache\" storing values to be used in backpropagation.\"\"\"\n",
        "    ....\n",
        "    return loss, cache\n",
        "    \n",
        "def rnn_backward(X, Y, parameters, cache):\n",
        "    \"\"\" Performs the backward propagation through time to compute the gradients of the loss with respect\n",
        "    to the parameters. It returns also all the hidden states.\"\"\"\n",
        "    ...\n",
        "    return gradients, a\n",
        "\n",
        "def update_parameters(parameters, gradients, learning_rate):\n",
        "    \"\"\" Updates parameters using the Gradient Descent Update Rule.\"\"\"\n",
        "    ...\n",
        "    return parameters\n",
        "```\n",
        "\n",
        "Recall that you previously implemented the `clip` function:\n",
        "\n",
        "```Python\n",
        "def clip(gradients, maxValue)\n",
        "    \"\"\"Clips the gradients' values between minimum and maximum.\"\"\"\n",
        "    ...\n",
        "    return gradients\n",
        "```"
      ]
    },
    {
      "cell_type": "markdown",
      "metadata": {
        "id": "wmc4He6vXBor",
        "colab_type": "text"
      },
      "source": [
        "#### parameters\n",
        "\n",
        "* Note that the weights and biases inside the `parameters` dictionary are being updated by the optimization, even though `parameters` is not one of the returned values of the `optimize` function. The `parameters` dictionary is passed by reference into the function, so changes to this dictionary are making changes to the `parameters` dictionary even when accessed outside of the function.\n",
        "* Python dictionaries and lists are \"pass by reference\", which means that if you pass a dictionary into a function and modify the dictionary within the function, this changes that same dictionary (it's not a copy of the dictionary)."
      ]
    },
    {
      "cell_type": "code",
      "metadata": {
        "id": "ZxZH60gLXEeI",
        "colab_type": "code",
        "colab": {}
      },
      "source": [
        ""
      ],
      "execution_count": 0,
      "outputs": []
    }
  ]
}