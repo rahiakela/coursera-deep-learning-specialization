{
  "nbformat": 4,
  "nbformat_minor": 0,
  "metadata": {
    "colab": {
      "name": "week-1-dinosaurus_island_character_level_language_model_final.ipynb",
      "provenance": [],
      "toc_visible": true,
      "authorship_tag": "ABX9TyNnW2tE7XUumZ7ROnotWSXs",
      "include_colab_link": true
    },
    "kernelspec": {
      "name": "python3",
      "display_name": "Python 3"
    }
  },
  "cells": [
    {
      "cell_type": "markdown",
      "metadata": {
        "id": "view-in-github",
        "colab_type": "text"
      },
      "source": [
        "<a href=\"https://colab.research.google.com/github/rahiakela/coursera-deep-learning-specialization/blob/course-5-sequence-models-recurrent-neural-networks/week_1_dinosaurus_island_character_level_language_model_final.ipynb\" target=\"_parent\"><img src=\"https://colab.research.google.com/assets/colab-badge.svg\" alt=\"Open In Colab\"/></a>"
      ]
    },
    {
      "cell_type": "markdown",
      "metadata": {
        "id": "pAQBsP8C8Wgu",
        "colab_type": "text"
      },
      "source": [
        "# Character level language model - Dinosaurus Island"
      ]
    },
    {
      "cell_type": "markdown",
      "metadata": {
        "id": "3E_-l3ZP8XD0",
        "colab_type": "text"
      },
      "source": [
        "Welcome to Dinosaurus Island! 65 million years ago, dinosaurs existed, and in this assignment they are back. You are in charge of a special task. Leading biology researchers are creating new breeds of dinosaurs and bringing them to life on earth, and your job is to give names to these dinosaurs. If a dinosaur does not like its name, it might go berserk, so choose wisely! \n",
        "\n",
        "<table>\n",
        "<td>\n",
        "<img src='https://github.com/rahiakela/img-repo/blob/master/deep-learning-specialization/dino.jpg?raw=1' width='800'/>\n",
        "</td>\n",
        "\n",
        "</table>\n",
        "\n",
        "Luckily you have learned some deep learning and you will use it to save the day. Your assistant has collected a list of all the dinosaur names they could find, and compiled them into this [dataset](dinos.txt). (Feel free to take a look by clicking the previous link.) To create new dinosaur names, you will build a character level language model to generate new names. Your algorithm will learn the different name patterns, and randomly generate new names. Hopefully this algorithm will keep you and your team safe from the dinosaurs' wrath! \n",
        "\n",
        "By completing this assignment you will learn:\n",
        "\n",
        "- How to store text data for processing using an RNN \n",
        "- How to synthesize data, by sampling predictions at each time step and passing it to the next RNN-cell unit\n",
        "- How to build a character-level text generation recurrent neural network\n",
        "- Why clipping the gradients is important\n",
        "\n",
        "We will begin by loading in some functions that we have provided for you in `rnn_utils`. Specifically, you have access to functions such as `rnn_forward` and `rnn_backward` which are equivalent to those you've implemented in the previous assignment."
      ]
    },
    {
      "cell_type": "markdown",
      "metadata": {
        "id": "wnW4YtAX8gf8",
        "colab_type": "text"
      },
      "source": [
        "## Setup"
      ]
    },
    {
      "cell_type": "code",
      "metadata": {
        "id": "Jt2Is5u38juw",
        "colab_type": "code",
        "colab": {}
      },
      "source": [
        "import numpy as np\n",
        "from utils import *\n",
        "import random\n",
        "import pprint"
      ],
      "execution_count": 0,
      "outputs": []
    },
    {
      "cell_type": "markdown",
      "metadata": {
        "id": "mUJClq758i41",
        "colab_type": "text"
      },
      "source": [
        "## 1 - Problem Statement"
      ]
    },
    {
      "cell_type": "markdown",
      "metadata": {
        "id": "znq8bqWk92eA",
        "colab_type": "text"
      },
      "source": [
        "### 1.1 - Dataset and Preprocessing"
      ]
    },
    {
      "cell_type": "markdown",
      "metadata": {
        "id": "3DJEgpCZ95u_",
        "colab_type": "text"
      },
      "source": [
        "Run the following cell to read the dataset of dinosaur names, create a list of unique characters (such as a-z), and compute the dataset and vocabulary size."
      ]
    },
    {
      "cell_type": "code",
      "metadata": {
        "id": "f20M7Qt698n2",
        "colab_type": "code",
        "colab": {
          "base_uri": "https://localhost:8080/",
          "height": 35
        },
        "outputId": "fd81365e-c293-410b-a920-885a294a0f0b"
      },
      "source": [
        "data = open('dinos.txt', 'r').read()\n",
        "data = data.lower()\n",
        "chars = list(set(data))\n",
        "data_size, vocab_size = len(data), len(chars)\n",
        "print(f'There are {data_size} total characters and {vocab_size} unique characters in your data.')"
      ],
      "execution_count": 2,
      "outputs": [
        {
          "output_type": "stream",
          "text": [
            "There are 19909 total characters and 27 unique characters in your data.\n"
          ],
          "name": "stdout"
        }
      ]
    },
    {
      "cell_type": "markdown",
      "metadata": {
        "id": "xMxZwVbPB_dH",
        "colab_type": "text"
      },
      "source": [
        "\n",
        "* The characters are a-z (26 characters) plus the \"\\n\" (or newline character).\n",
        "* In this assignment, the newline character \"\\n\" plays a role similar to the `<EOS>` (or \"End of sentence\") token we had discussed in lecture.  \n",
        "    - Here, \"\\n\" indicates the end of the dinosaur name rather than the end of a sentence. \n",
        "* `char_to_ix`: In the cell below, we create a python dictionary (i.e., a hash table) to map each character to an index from 0-26.\n",
        "* `ix_to_char`: We also create a second python dictionary that maps each index back to the corresponding character. \n",
        "    -  This will help you figure out what index corresponds to what character in the probability distribution output of the softmax layer. "
      ]
    },
    {
      "cell_type": "code",
      "metadata": {
        "id": "ia0ND-YYByq4",
        "colab_type": "code",
        "colab": {}
      },
      "source": [
        ""
      ],
      "execution_count": 0,
      "outputs": []
    }
  ]
}