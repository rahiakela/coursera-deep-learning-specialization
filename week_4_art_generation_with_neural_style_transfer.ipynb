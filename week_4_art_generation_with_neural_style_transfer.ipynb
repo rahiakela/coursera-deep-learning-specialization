{
  "nbformat": 4,
  "nbformat_minor": 0,
  "metadata": {
    "colab": {
      "name": "week-4-art_generation_with_neural_style_transfer.ipynb",
      "provenance": [],
      "toc_visible": true,
      "include_colab_link": true
    },
    "kernelspec": {
      "name": "python3",
      "display_name": "Python 3"
    }
  },
  "cells": [
    {
      "cell_type": "markdown",
      "metadata": {
        "id": "view-in-github",
        "colab_type": "text"
      },
      "source": [
        "<a href=\"https://colab.research.google.com/github/rahiakela/coursera-deep-learning-specialization/blob/course-4-convolutional-neural-networks/week_4_art_generation_with_neural_style_transfer.ipynb\" target=\"_parent\"><img src=\"https://colab.research.google.com/assets/colab-badge.svg\" alt=\"Open In Colab\"/></a>"
      ]
    },
    {
      "cell_type": "markdown",
      "metadata": {
        "id": "4JDgacTNRgjj",
        "colab_type": "text"
      },
      "source": [
        "# Deep Learning & Art: Neural Style Transfer"
      ]
    },
    {
      "cell_type": "markdown",
      "metadata": {
        "id": "E7LywXj0RhM3",
        "colab_type": "text"
      },
      "source": [
        "In this assignment, you will learn about Neural Style Transfer. This algorithm was created by [Gatys et al. (2015).](https://arxiv.org/abs/1508.06576)\n",
        "\n",
        "**In this assignment, you will:**\n",
        "- Implement the neural style transfer algorithm \n",
        "- Generate novel artistic images using your algorithm \n",
        "\n",
        "Most of the algorithms you've studied optimize a cost function to get a set of parameter values. In Neural Style Transfer, you'll optimize a cost function to get pixel values!"
      ]
    },
    {
      "cell_type": "markdown",
      "metadata": {
        "id": "JVDBTjg3Rri4",
        "colab_type": "text"
      },
      "source": [
        "## Setup"
      ]
    },
    {
      "cell_type": "code",
      "metadata": {
        "id": "3nzMIS__RsyF",
        "colab_type": "code",
        "outputId": "9f9f3d16-b170-4ec0-a02e-5b32b30bf3a1",
        "colab": {
          "base_uri": "https://localhost:8080/",
          "height": 64
        }
      },
      "source": [
        "import os\n",
        "import sys\n",
        "import scipy.io\n",
        "import scipy.misc\n",
        "import matplotlib.pyplot as plt\n",
        "from matplotlib.pyplot import imshow\n",
        "from PIL import Image\n",
        "from nst_utils import *\n",
        "import numpy as np\n",
        "import tensorflow as tf\n",
        "import pprint\n",
        "%matplotlib inline"
      ],
      "execution_count": 0,
      "outputs": [
        {
          "output_type": "display_data",
          "data": {
            "text/html": [
              "<p style=\"color: red;\">\n",
              "The default version of TensorFlow in Colab will soon switch to TensorFlow 2.x.<br>\n",
              "We recommend you <a href=\"https://www.tensorflow.org/guide/migrate\" target=\"_blank\">upgrade</a> now \n",
              "or ensure your notebook will continue to use TensorFlow 1.x via the <code>%tensorflow_version 1.x</code> magic:\n",
              "<a href=\"https://colab.research.google.com/notebooks/tensorflow_version.ipynb\" target=\"_blank\">more info</a>.</p>\n"
            ],
            "text/plain": [
              "<IPython.core.display.HTML object>"
            ]
          },
          "metadata": {
            "tags": []
          }
        }
      ]
    },
    {
      "cell_type": "markdown",
      "metadata": {
        "id": "HNLC0kTiSkn8",
        "colab_type": "text"
      },
      "source": [
        "## 1 - Problem Statement"
      ]
    },
    {
      "cell_type": "markdown",
      "metadata": {
        "id": "YWgqqgZDSoNo",
        "colab_type": "text"
      },
      "source": [
        "Neural Style Transfer (NST) is one of the most fun techniques in deep learning. As seen below, it merges two images, namely: a **\"content\" image (C) and a \"style\" image (S), to create a \"generated\" image (G**). \n",
        "\n",
        "The generated image G combines the \"content\" of the image C with the \"style\" of image S. \n",
        "\n",
        "In this example, you are going to generate an image of the Louvre museum in Paris (content image C), mixed with a painting by Claude Monet, a leader of the impressionist movement (style image S).\n",
        "<img src='https://github.com/rahiakela/img-repo/blob/master/deep-learning-specialization/louvre_generated.png?raw=1' width='800'/>\n",
        "\n",
        "Let's see how you can do this. "
      ]
    },
    {
      "cell_type": "markdown",
      "metadata": {
        "id": "rIAMpIlxTY-S",
        "colab_type": "text"
      },
      "source": [
        "## 2 - Transfer Learning"
      ]
    },
    {
      "cell_type": "markdown",
      "metadata": {
        "id": "U0_6fiKzTeCo",
        "colab_type": "text"
      },
      "source": [
        "Neural Style Transfer (NST) uses a previously trained convolutional network, and builds on top of that. The idea of using a network trained on a different task and applying it to a new task is called transfer learning. \n",
        "\n",
        "Following the [original NST paper](https://arxiv.org/abs/1508.06576), we will use the VGG network. Specifically, we'll use VGG-19, a 19-layer version of the VGG network. This model has already been trained on the very large ImageNet database, and thus has learned to recognize a variety of low level features (at the shallower layers) and high level features (at the deeper layers). \n",
        "\n",
        "Run the following code to load parameters from the VGG model. This may take a few seconds. "
      ]
    },
    {
      "cell_type": "code",
      "metadata": {
        "id": "3Z8I6QsjTggR",
        "colab_type": "code",
        "colab": {}
      },
      "source": [
        "pp = pprint.PrettyPrinter(indent=4)\n",
        "# https://www.kaggle.com/teksab/imagenetvggverydeep19mat\n",
        "model = load_vgg_model('pretrained-model/imagenet-vgg-verydeep-19.mat')\n",
        "pp.pprint(model)"
      ],
      "execution_count": 0,
      "outputs": []
    },
    {
      "cell_type": "markdown",
      "metadata": {
        "id": "duC3wDp7U8NH",
        "colab_type": "text"
      },
      "source": [
        "* The model is stored in a python dictionary.  \n",
        "* The python dictionary contains key-value pairs for each layer.  \n",
        "* The 'key' is the variable name and the 'value' is a tensor for that layer. "
      ]
    },
    {
      "cell_type": "markdown",
      "metadata": {
        "id": "lUmVx3WiU_L_",
        "colab_type": "text"
      },
      "source": [
        "#### Assign input image to the model's input layer"
      ]
    },
    {
      "cell_type": "markdown",
      "metadata": {
        "id": "9qHuhAr-VBd4",
        "colab_type": "text"
      },
      "source": [
        "To run an image through this network, you just have to feed the image to the model. In TensorFlow, you can do so using the [tf.assign](https://www.tensorflow.org/api_docs/python/tf/assign) function. In particular, you will use the assign function like this:  \n",
        "```python\n",
        "model[\"input\"].assign(image)\n",
        "```\n",
        "This assigns the image as an input to the model. "
      ]
    },
    {
      "cell_type": "markdown",
      "metadata": {
        "id": "hOn-iSJHVFT3",
        "colab_type": "text"
      },
      "source": [
        "#### Activate a layer"
      ]
    },
    {
      "cell_type": "markdown",
      "metadata": {
        "id": "NaucxQ-5VF8r",
        "colab_type": "text"
      },
      "source": [
        "After this, if you want to access the activations of a particular layer, say layer `4_2` when the network is run on this image, you would run a TensorFlow session on the correct tensor `conv4_2`, as follows:  \n",
        "```python\n",
        "sess.run(model[\"conv4_2\"])\n",
        "```"
      ]
    },
    {
      "cell_type": "markdown",
      "metadata": {
        "id": "bfXbw3ZWVK3N",
        "colab_type": "text"
      },
      "source": [
        "## 3 - Neural Style Transfer (NST)"
      ]
    },
    {
      "cell_type": "markdown",
      "metadata": {
        "id": "FkFEYwaUVNPg",
        "colab_type": "text"
      },
      "source": [
        "We will build the Neural Style Transfer (NST) algorithm in three steps:\n",
        "\n",
        "- Build the content cost function $J_{content}(C,G)$\n",
        "- Build the style cost function $J_{style}(S,G)$\n",
        "- Put it together to get $J(G) = \\alpha J_{content}(C,G) + \\beta J_{style}(S,G)$."
      ]
    },
    {
      "cell_type": "markdown",
      "metadata": {
        "id": "BuCkHqhRVRiu",
        "colab_type": "text"
      },
      "source": [
        "### 3.1 - Computing the content cost"
      ]
    },
    {
      "cell_type": "markdown",
      "metadata": {
        "id": "KqUvLTo0VTk3",
        "colab_type": "text"
      },
      "source": [
        "In our running example, the content image C will be the picture of the Louvre Museum in Paris. Run the code below to see a picture of the Louvre."
      ]
    },
    {
      "cell_type": "code",
      "metadata": {
        "id": "FCtAZBaxVYPD",
        "colab_type": "code",
        "colab": {}
      },
      "source": [
        "content_image = scipy.misc.imread('images/louvre.jpg')\n",
        "imshow(content_image);"
      ],
      "execution_count": 0,
      "outputs": []
    },
    {
      "cell_type": "markdown",
      "metadata": {
        "id": "14-y6QfmVj3F",
        "colab_type": "text"
      },
      "source": [
        "The content image (C) shows the Louvre museum's pyramid surrounded by old Paris buildings, against a sunny sky with a few clouds.\n",
        "\n",
        "** 3.1.1 - Make generated image G match the content of image C**"
      ]
    },
    {
      "cell_type": "markdown",
      "metadata": {
        "id": "sotYESyuVmt4",
        "colab_type": "text"
      },
      "source": [
        "#### Shallower versus deeper layers"
      ]
    },
    {
      "cell_type": "markdown",
      "metadata": {
        "id": "s0RLzkfhVo39",
        "colab_type": "text"
      },
      "source": [
        "* The shallower layers of a ConvNet tend to detect lower-level features such as edges and simple textures.\n",
        "* The deeper layers tend to detect higher-level features such as more complex textures as well as object classes. "
      ]
    },
    {
      "cell_type": "markdown",
      "metadata": {
        "id": "717vvSBiVrGA",
        "colab_type": "text"
      },
      "source": [
        "#### Choose a \"middle\" activation layer $a^{[l]}$"
      ]
    },
    {
      "cell_type": "markdown",
      "metadata": {
        "id": "NJod76jdVtMz",
        "colab_type": "text"
      },
      "source": [
        "We would like the \"generated\" image G to have similar content as the input image C. Suppose you have chosen some layer's activations to represent the content of an image. \n",
        "* In practice, you'll get the most visually pleasing results if you choose a layer in the **middle** of the network--neither too shallow nor too deep. \n",
        "* (After you have finished this exercise, feel free to come back and experiment with using different layers, to see how the results vary.)"
      ]
    },
    {
      "cell_type": "markdown",
      "metadata": {
        "id": "bWKDbZ-fVvbz",
        "colab_type": "text"
      },
      "source": [
        "#### Forward propagate image \"C\""
      ]
    },
    {
      "cell_type": "markdown",
      "metadata": {
        "id": "2ihsh_RUVyUy",
        "colab_type": "text"
      },
      "source": [
        "* Set the image C as the input to the pretrained VGG network, and run forward propagation.  \n",
        "* Let $a^{(C)}$ be the hidden layer activations in the layer you had chosen. (In lecture, we had written this as $a^{[l](C)}$, but here we'll drop the superscript $[l]$ to simplify the notation.) This will be an $n_H \\times n_W \\times n_C$ tensor."
      ]
    },
    {
      "cell_type": "markdown",
      "metadata": {
        "id": "gzOclLMbV0zP",
        "colab_type": "text"
      },
      "source": [
        "#### Forward propagate image \"G\""
      ]
    },
    {
      "cell_type": "markdown",
      "metadata": {
        "id": "lFB5klTFV2xY",
        "colab_type": "text"
      },
      "source": [
        "* Repeat this process with the image G: Set G as the input, and run forward progation. \n",
        "* Let $a^{(G)}$ be the corresponding hidden layer activation. "
      ]
    },
    {
      "cell_type": "markdown",
      "metadata": {
        "id": "I5sugLaWV4yk",
        "colab_type": "text"
      },
      "source": [
        "#### Content Cost Function $J_{content}(C,G)$"
      ]
    },
    {
      "cell_type": "markdown",
      "metadata": {
        "id": "u6jjXZsYV7Hl",
        "colab_type": "text"
      },
      "source": [
        "We will define the content cost function as:\n",
        "\n",
        "$$J_{content}(C,G) =  \\frac{1}{4 \\times n_H \\times n_W \\times n_C}\\sum _{ \\text{all entries}} (a^{(C)} - a^{(G)})^2\\tag{1} $$\n",
        "\n",
        "* Here, $n_H, n_W$ and $n_C$ are the height, width and number of channels of the hidden layer you have chosen, and appear in a normalization term in the cost. \n",
        "* For clarity, note that $a^{(C)}$ and $a^{(G)}$ are the 3D volumes corresponding to a hidden layer's activations. \n",
        "* In order to compute the cost $J_{content}(C,G)$, it might also be convenient to unroll these 3D volumes into a 2D matrix, as shown below.\n",
        "* Technically this unrolling step isn't needed to compute $J_{content}$, but it will be good practice for when you do need to carry out a similar operation later for computing the style cost $J_{style}$.\n",
        "\n",
        "<img src='https://github.com/rahiakela/img-repo/blob/master/deep-learning-specialization/NST_LOSS.png?raw=1' width='800'/>"
      ]
    },
    {
      "cell_type": "markdown",
      "metadata": {
        "id": "JALLRW0zWHoP",
        "colab_type": "text"
      },
      "source": [
        "**Exercise:** Compute the \"content cost\" using TensorFlow. \n",
        "\n",
        "**Instructions**: The 3 steps to implement this function are:\n",
        "1. Retrieve dimensions from `a_G`: \n",
        "    - To retrieve dimensions from a tensor `X`, use: `X.get_shape().as_list()`\n",
        "2. Unroll `a_C` and `a_G` as explained in the picture above\n",
        "    - You'll likey want to use these functions: [tf.transpose](https://www.tensorflow.org/versions/r1.15/api_docs/python/tf/transpose) and [tf.reshape](https://www.tensorflow.org/versions/r1.15/api_docs/python/tf/reshape).\n",
        "3. Compute the content cost:\n",
        "    - You'll likely want to use these functions: [tf.reduce_sum](https://www.tensorflow.org/api_docs/python/tf/reduce_sum), [tf.square](https://www.tensorflow.org/api_docs/python/tf/square) and [tf.subtract](https://www.tensorflow.org/api_docs/python/tf/subtract)."
      ]
    },
    {
      "cell_type": "markdown",
      "metadata": {
        "id": "i3Z9nA3iWMei",
        "colab_type": "text"
      },
      "source": [
        "#### Additional Hints for \"Unrolling\""
      ]
    },
    {
      "cell_type": "markdown",
      "metadata": {
        "id": "Lk1pzFdyWOpE",
        "colab_type": "text"
      },
      "source": [
        "* To unroll the tensor, we want the shape to change from $(m,n_H,n_W,n_C)$ to $(m, n_H \\times n_W, n_C)$.\n",
        "* `tf.reshape(tensor, shape)` takes a list of integers that represent the desired output shape.\n",
        "* For the `shape` parameter, a `-1` tells the function to choose the correct dimension size so that the output tensor still contains all the values of the original tensor.\n",
        "* So tf.reshape(a_C, shape=[m, n_H * n_W, n_C]) gives the same result as tf.reshape(a_C, shape=[m, -1, n_C]).\n",
        "* If you prefer to re-order the dimensions, you can use `tf.transpose(tensor, perm)`, where `perm` is a list of integers containing the original index of the dimensions. \n",
        "* For example, `tf.transpose(a_C, perm=[0,3,1,2])` changes the dimensions from $(m, n_H, n_W, n_C)$ to $(m, n_C, n_H, n_W)$.\n",
        "* There is more than one way to unroll the tensors.\n",
        "* Notice that it's not necessary to use tf.transpose to 'unroll' the tensors in this case but this is a useful function to practice and understand for other situations that you'll encounter."
      ]
    },
    {
      "cell_type": "code",
      "metadata": {
        "id": "xq3IsheNWRhc",
        "colab_type": "code",
        "colab": {}
      },
      "source": [
        "# FUNCTION: compute_content_cost\n",
        "def compute_content_cost(a_C, a_G):\n",
        "  '''\n",
        "  Computes the content cost\n",
        "    \n",
        "  Arguments:\n",
        "  a_C -- tensor of dimension (1, n_H, n_W, n_C), hidden layer activations representing content of the image C \n",
        "  a_G -- tensor of dimension (1, n_H, n_W, n_C), hidden layer activations representing content of the image G\n",
        "  \n",
        "  Returns: \n",
        "  J_content -- scalar that you compute using equation 1 above.\n",
        "  '''\n",
        "\n",
        "  ### START CODE HERE ###\n",
        "  # Retrieve dimensions from a_G (≈1 line)\n",
        "  m, n_H, n_W, n_C = a_G.get_shape().as_list()\n",
        "  \n",
        "  # Reshape a_C and a_G (≈2 lines)\n",
        "  a_C_unrolled = tf.reshape(a_C, shape=[m, n_H, n_W, n_C])\n",
        "  a_G_unrolled = tf.reshape(a_G, shape=[m, n_H, n_W, n_C])\n",
        "  \n",
        "  # compute the cost with tensorflow (≈1 line)\n",
        "  J_content = 1 / (4 * n_H * n_W * n_C) * tf.reduce_sum(tf.square(tf.substract(a_C_unrolled, a_G_unrolled)))\n",
        "  ### END CODE HERE ###\n",
        "  \n",
        "  return J_content"
      ],
      "execution_count": 0,
      "outputs": []
    },
    {
      "cell_type": "code",
      "metadata": {
        "id": "dZ-U41WVWl3X",
        "colab_type": "code",
        "colab": {}
      },
      "source": [
        "tf.reset_default_graph()\n",
        "\n",
        "with tf.Session() as sess:\n",
        "  tf.set_random_seed(1)\n",
        "  a_C = tf.random_normal([1, 4, 4, 3], mean=1, stddev=4)\n",
        "  a_G = tf.random_normal([1, 4, 4, 3], mean=1, stddev=4)\n",
        "  J_content = compute_content_cost(a_C, a_G)\n",
        "  print(f'J_content = {str(J_content.eval())}')"
      ],
      "execution_count": 0,
      "outputs": []
    },
    {
      "cell_type": "markdown",
      "metadata": {
        "id": "Ook4z5bYWhhk",
        "colab_type": "text"
      },
      "source": [
        "**Expected Output**:\n",
        "\n",
        "<table>\n",
        "    <tr>\n",
        "        <td>\n",
        "            **J_content**\n",
        "        </td>\n",
        "        <td>\n",
        "           6.76559\n",
        "        </td>\n",
        "    </tr>\n",
        "</table>"
      ]
    },
    {
      "cell_type": "markdown",
      "metadata": {
        "id": "cQRNhXK7Wt1e",
        "colab_type": "text"
      },
      "source": [
        "#### What you should remember\n",
        "- The content cost takes a hidden layer activation of the neural network, and measures how different $a^{(C)}$ and $a^{(G)}$ are. \n",
        "- When we minimize the content cost later, this will help make sure $G$ has similar content as $C$."
      ]
    },
    {
      "cell_type": "markdown",
      "metadata": {
        "id": "zonfn9lYWuZc",
        "colab_type": "text"
      },
      "source": [
        "### 3.2 - Computing the style cost"
      ]
    },
    {
      "cell_type": "markdown",
      "metadata": {
        "id": "r8PkSN6MWxIB",
        "colab_type": "text"
      },
      "source": [
        "For our running example, we will use the following style image: "
      ]
    },
    {
      "cell_type": "code",
      "metadata": {
        "id": "gnkXbWzUWz1O",
        "colab_type": "code",
        "colab": {}
      },
      "source": [
        ""
      ],
      "execution_count": 0,
      "outputs": []
    }
  ]
}